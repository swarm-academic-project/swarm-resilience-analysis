{
 "cells": [
  {
   "cell_type": "markdown",
   "id": "fad72e6b-645f-4ceb-aa70-d202ed07f156",
   "metadata": {},
   "source": [
    "# metrics of Robustness:"
   ]
  },
  {
   "cell_type": "code",
   "execution_count": 78,
   "id": "27af8df6-e221-4b96-ab6c-5b0e2cacb05c",
   "metadata": {},
   "outputs": [],
   "source": [
    "import networkx as nx \n",
    "from itertools import combinations\n",
    "from networkx.algorithms.simple_paths import all_simple_paths"
   ]
  },
  {
   "cell_type": "markdown",
   "id": "e213afb5-dce5-4956-bede-96dcfa4c09ba",
   "metadata": {},
   "source": [
    "### 1- Flow Robustness:"
   ]
  },
  {
   "cell_type": "code",
   "execution_count": 79,
   "id": "00314dc6-875f-407e-a600-317e9a37b0a1",
   "metadata": {},
   "outputs": [],
   "source": [
    "def flow_robustness(G: nx.Graph, divided=False, group_dict=None) -> float:\n",
    "    \"\"\"\n",
    "    Calcule la Flow Robustness du graphe G.\n",
    "    \n",
    "    - Si `divided=False` : robustesse globale (toutes les paires de sommets)\n",
    "    - Si `divided=True` : robustesse intra-groupes uniquement (selon group_dict)\n",
    "\n",
    "    Args:\n",
    "        G (nx.Graph): le graphe à analyser\n",
    "        divided (bool): True pour le cas divisé, False pour le cas global\n",
    "        group_dict (dict): {node_id: group_id} si divided=True\n",
    "\n",
    "    Returns:\n",
    "        float: la proportion de paires connectées selon le mode choisi\n",
    "    \"\"\"\n",
    "    nodes = list(G.nodes)\n",
    "    n = len(nodes)\n",
    "\n",
    "    if n < 2:\n",
    "        return 1.0  # Cas trivial : 0 ou 1 nœud → robustesse maximale\n",
    "\n",
    "    if not divided:\n",
    "        # CAS GLOBAL : toutes les paires de sommets\n",
    "        total_pairs = n * (n - 1) // 2\n",
    "        connected_pairs = sum(1 for u, v in combinations(nodes, 2) if nx.has_path(G, u, v))\n",
    "        return connected_pairs / total_pairs\n",
    "\n",
    "    else:\n",
    "        # CAS DIVISÉ : intra-groupes uniquement\n",
    "        if group_dict is None:\n",
    "            raise ValueError(\"group_dict doit être fourni quand divided=True\")\n",
    "        \n",
    "        groups = {}\n",
    "        for node, group in group_dict.items():\n",
    "            groups.setdefault(group, []).append(node)\n",
    "\n",
    "        total_pairs = 0\n",
    "        connected_pairs = 0\n",
    "\n",
    "        for group_nodes in groups.values():\n",
    "            subG = G.subgraph(group_nodes)\n",
    "            m = len(group_nodes)\n",
    "            if m < 2:\n",
    "                continue\n",
    "            pairs = m * (m - 1) // 2\n",
    "            total_pairs += pairs\n",
    "            connected_pairs += sum(1 for u, v in combinations(group_nodes, 2) if nx.has_path(subG, u, v))\n",
    "\n",
    "        return connected_pairs / total_pairs if total_pairs > 0 else 0.0\n"
   ]
  },
  {
   "cell_type": "markdown",
   "id": "3ebf145d-4b89-4d0e-93da-4bbe5bf9c293",
   "metadata": {},
   "source": [
    "### 2- coût de routage :"
   ]
  },
  {
   "cell_type": "code",
   "execution_count": 80,
   "id": "fa5624b5-a99c-47c5-8f18-1a23d04d23d8",
   "metadata": {},
   "outputs": [],
   "source": [
    "import networkx as nx\n",
    "\n",
    "def routing_cost(G: nx.Graph, divided=False, group_dict=None) -> float:\n",
    "    \"\"\"\n",
    "    Calcule le coût de routage total :\n",
    "    - Cas global (divided=False) : somme des distances entre toutes les paires connectées.\n",
    "    - Cas divisé (divided=True) : somme des distances uniquement à l'intérieur de chaque groupe.\n",
    "    \n",
    "    Args:\n",
    "        G (nx.Graph): le graphe complet\n",
    "        divided (bool): True pour mode divisé, False pour mode global\n",
    "        group_dict (dict): {node_id: group_id}, requis si divided=True\n",
    "    \n",
    "    Returns:\n",
    "        float: coût de routage total\n",
    "    \"\"\"\n",
    "    total_cost = 0\n",
    "\n",
    "    try:\n",
    "        length_dict = dict(nx.all_pairs_shortest_path_length(G))\n",
    "    except nx.NetworkXError:\n",
    "        return float('inf')\n",
    "\n",
    "    if not divided:\n",
    "        # Cas global : toutes les paires connectées\n",
    "        for u in G.nodes:\n",
    "            for v in G.nodes:\n",
    "                if u != v:\n",
    "                    try:\n",
    "                        total_cost += length_dict[u][v]\n",
    "                    except KeyError:\n",
    "                        continue\n",
    "    else:\n",
    "        if group_dict is None:\n",
    "            raise ValueError(\"group_dict doit être fourni si divided=True\")\n",
    "\n",
    "        # Regrouper les nœuds par groupe\n",
    "        groups = {}\n",
    "        for node, group in group_dict.items():\n",
    "            groups.setdefault(group, []).append(node)\n",
    "\n",
    "        for group_nodes in groups.values():\n",
    "            for u in group_nodes:\n",
    "                for v in group_nodes:\n",
    "                    if u != v:\n",
    "                        try:\n",
    "                            total_cost += length_dict[u][v]\n",
    "                        except KeyError:\n",
    "                            continue\n",
    "\n",
    "    return total_cost\n"
   ]
  },
  {
   "cell_type": "code",
   "execution_count": 81,
   "id": "52a75162-06f3-4c07-b508-9a17bac11a48",
   "metadata": {},
   "outputs": [
    {
     "name": "stdout",
     "output_type": "stream",
     "text": [
      "Routing Cost: 40\n",
      "Routing Cost (graphe complet): 20\n"
     ]
    }
   ],
   "source": [
    "#test :\n",
    "G = nx.path_graph(5)  # Graphe en ligne : 0-1-2-3-4\n",
    "print(\"Routing Cost:\", routing_cost(G))  # Plus élevé que sur un graphe complet\n",
    "\n",
    "G2 = nx.complete_graph(5)\n",
    "print(\"Routing Cost (graphe complet):\", routing_cost(G2)) # Coût minimal"
   ]
  },
  {
   "cell_type": "markdown",
   "id": "de7bdfb7-54fd-4515-b296-b90166f6b78a",
   "metadata": {},
   "source": [
    "### 3- Network efficiency"
   ]
  },
  {
   "cell_type": "code",
   "execution_count": 82,
   "id": "040d68a3-3b1e-4b18-a19a-7596ebe07d03",
   "metadata": {},
   "outputs": [],
   "source": [
    "def network_efficiency(G: nx.Graph, divided=False, group_dict=None) -> float:\n",
    "    \"\"\"\n",
    "    Calcule l'efficacité du réseau t(G), entre 0 et 1.\n",
    "    \n",
    "    - Cas global (divided=False) : efficacité moyenne sur toutes les paires connectées.\n",
    "    - Cas divisé (divided=True) : efficacité intra-groupe uniquement.\n",
    "\n",
    "    Args:\n",
    "        G (nx.Graph): le graphe\n",
    "        divided (bool): True pour division par groupes\n",
    "        group_dict (dict): {node_id: group_id}, requis si divided=True\n",
    "\n",
    "    Returns:\n",
    "        float: efficacité du graphe (entre 0 et 1)\n",
    "    \"\"\"\n",
    "    try:\n",
    "        length_dict = dict(nx.all_pairs_shortest_path_length(G))\n",
    "    except nx.NetworkXError:\n",
    "        return 0.0\n",
    "\n",
    "    if not divided:\n",
    "        # Cas global : efficacité sur toutes les paires\n",
    "        n = len(G)\n",
    "        if n < 2:\n",
    "            return 1.0\n",
    "        total_efficiency = 0\n",
    "        for u in G.nodes:\n",
    "            for v in G.nodes:\n",
    "                if u != v:\n",
    "                    try:\n",
    "                        d = length_dict[u][v]\n",
    "                        total_efficiency += 1 / d\n",
    "                    except KeyError:\n",
    "                        continue\n",
    "        return total_efficiency / (n * (n - 1))\n",
    "\n",
    "    else:\n",
    "        # Cas divisé : efficacité intra-groupe uniquement\n",
    "        if group_dict is None:\n",
    "            raise ValueError(\"group_dict doit être fourni si divided=True\")\n",
    "\n",
    "        groups = {}\n",
    "        for node, group in group_dict.items():\n",
    "            groups.setdefault(group, []).append(node)\n",
    "\n",
    "        total_efficiency = 0\n",
    "        total_pairs = 0\n",
    "\n",
    "        for group_nodes in groups.values():\n",
    "            m = len(group_nodes)\n",
    "            if m < 2:\n",
    "                continue\n",
    "            total_pairs += m * (m - 1)\n",
    "            for u in group_nodes:\n",
    "                for v in group_nodes:\n",
    "                    if u != v:\n",
    "                        try:\n",
    "                            d = length_dict[u][v]\n",
    "                            total_efficiency += 1 / d\n",
    "                        except KeyError:\n",
    "                            continue\n",
    "\n",
    "        return total_efficiency / total_pairs if total_pairs > 0 else 0.0\n"
   ]
  },
  {
   "cell_type": "code",
   "execution_count": 83,
   "id": "2088ae30-ed3e-4446-a896-77200ddc112a",
   "metadata": {},
   "outputs": [
    {
     "name": "stdout",
     "output_type": "stream",
     "text": [
      "Efficacité réseau : 0.7222222222222222\n",
      "Efficacité réseau (complet): 1.0\n"
     ]
    }
   ],
   "source": [
    "G = nx.path_graph(4)  # Graphe en ligne 0-1-2-3\n",
    "print(\"Efficacité réseau :\", network_efficiency(G))\n",
    "\n",
    "G2 = nx.complete_graph(4)\n",
    "print(\"Efficacité réseau (complet):\", network_efficiency(G2)) # proche de 1"
   ]
  },
  {
   "cell_type": "markdown",
   "id": "89bd3cb7-197f-44b6-abf1-45df84f48f04",
   "metadata": {},
   "source": [
    "# Metrics of Resilience "
   ]
  },
  {
   "cell_type": "markdown",
   "id": "2763032a-2779-4f39-9c1b-56c91828a22c",
   "metadata": {},
   "source": [
    "### 1- Path redundancy "
   ]
  },
  {
   "cell_type": "code",
   "execution_count": 84,
   "id": "f7070278-e4ea-459e-8fc2-9dc368b7f909",
   "metadata": {},
   "outputs": [],
   "source": [
    "import networkx as nx\n",
    "from networkx.algorithms.simple_paths import all_simple_paths\n",
    "\n",
    "def path_redundancy(G: nx.Graph, max_extra_length: int = 1, divided=False, group_dict=None) -> float:\n",
    "    \"\"\"\n",
    "    Calcule la redondance moyenne des chemins :\n",
    "    - Cas global : sur toutes les paires connectées.\n",
    "    - Cas divisé : seulement entre les paires du même groupe.\n",
    "\n",
    "    Un chemin alternatif est défini comme :\n",
    "    - un chemin simple (sans cycle)\n",
    "    - de longueur <= (plus court chemin + max_extra_length)\n",
    "    - et différent du plus court chemin\n",
    "\n",
    "    Args:\n",
    "        G (nx.Graph): le graphe\n",
    "        max_extra_length (int): tolérance sur la longueur\n",
    "        divided (bool): True pour ne considérer que les paires intra-groupe\n",
    "        group_dict (dict): {node: group_id}, requis si divided=True\n",
    "\n",
    "    Returns:\n",
    "        float: redondance moyenne (nombre de chemins alternatifs par paire)\n",
    "    \"\"\"\n",
    "    nodes = list(G.nodes)\n",
    "    n = len(nodes)\n",
    "    if n < 2:\n",
    "        return 0.0\n",
    "\n",
    "    total_alternatives = 0\n",
    "    num_pairs = 0\n",
    "\n",
    "    # Définir les paires à tester\n",
    "    if not divided:\n",
    "        pairs = [(u, v) for u in nodes for v in nodes if u != v]\n",
    "    else:\n",
    "        if group_dict is None:\n",
    "            raise ValueError(\"group_dict doit être fourni quand divided=True\")\n",
    "        pairs = [\n",
    "            (u, v) for u in nodes for v in nodes\n",
    "            if u != v and group_dict.get(u) == group_dict.get(v)\n",
    "        ]\n",
    "\n",
    "    for u, v in pairs:\n",
    "        try:\n",
    "            shortest_length = nx.shortest_path_length(G, u, v)\n",
    "        except nx.NetworkXNoPath:\n",
    "            continue  # Pas de chemin = pas de redondance\n",
    "\n",
    "        max_length = shortest_length + max_extra_length\n",
    "        all_paths = list(all_simple_paths(G, u, v, cutoff=max_length))\n",
    "\n",
    "        # Exclure les plus courts chemins\n",
    "        alt_paths = [p for p in all_paths if len(p) - 1 > shortest_length]\n",
    "        total_alternatives += len(alt_paths)\n",
    "        num_pairs += 1\n",
    "\n",
    "    return total_alternatives / num_pairs if num_pairs > 0 else 0.0\n"
   ]
  },
  {
   "cell_type": "code",
   "execution_count": 85,
   "id": "991e5789-2412-4fad-9bd7-17f36718d76d",
   "metadata": {},
   "outputs": [
    {
     "name": "stdout",
     "output_type": "stream",
     "text": [
      "Path Redundancy Ψt(G) : 0.5\n",
      "Path Redundancy Ψt(G2) : 0.0\n",
      "Path Redundancy Ψt(G2) : 3.0\n"
     ]
    }
   ],
   "source": [
    "#test :\n",
    "G = nx.cycle_graph(5)  # Graphe circulaire, très redondant\n",
    "print(\"Path Redundancy Ψt(G) :\", path_redundancy(G))\n",
    "\n",
    "G2 = nx.path_graph(5)  # Graphe en ligne : pas de chemins alternatifs\n",
    "print(\"Path Redundancy Ψt(G2) :\", path_redundancy(G2))\n",
    "\n",
    "G3 = nx.complete_graph(5)\n",
    "print(\"Path Redundancy Ψt(G2) :\", path_redundancy(G3))"
   ]
  },
  {
   "cell_type": "markdown",
   "id": "42e097ae-b52c-4394-9b8a-0e51064bbb9b",
   "metadata": {},
   "source": [
    "### 2- Pair disparity"
   ]
  },
  {
   "cell_type": "code",
   "execution_count": 86,
   "id": "926fe682-e7d5-47a7-ad87-1dc48c821b8b",
   "metadata": {},
   "outputs": [],
   "source": [
    "def pair_disparity(G, u, v, max_paths=10, cutoff=5):\n",
    "    try:\n",
    "        paths = list(all_simple_paths(G, source=u, target=v, cutoff=cutoff))[:max_paths]\n",
    "    except nx.NetworkXNoPath:\n",
    "        return 0.0\n",
    "\n",
    "    if len(paths) <= 1:\n",
    "        return 0.0\n",
    "\n",
    "    total = 0\n",
    "    count = 0\n",
    "\n",
    "    for i in range(len(paths)):\n",
    "        for j in range(i + 1, len(paths)):\n",
    "            set1, set2 = set(paths[i]), set(paths[j])\n",
    "            sym_diff = set1.symmetric_difference(set2)\n",
    "            union = set1.union(set2)\n",
    "            if len(union) > 0:\n",
    "                total += len(sym_diff) / len(union)\n",
    "                count += 1\n",
    "\n",
    "    return total / count if count > 0 else 0.0\n",
    "\n",
    "\n",
    "def path_disparity(G, max_paths=10, cutoff=5, divided=False, group_dict=None):\n",
    "    \"\"\"\n",
    "    Calcule la disparité moyenne des chemins :\n",
    "    - Globalement si divided=False\n",
    "    - Intra-groupes si divided=True et group_dict fourni\n",
    "    \"\"\"\n",
    "    nodes = list(G.nodes)\n",
    "    n = len(nodes)\n",
    "    if n < 2:\n",
    "        return 0.0\n",
    "\n",
    "    total_disparity = 0\n",
    "    count = 0\n",
    "\n",
    "    if not divided:\n",
    "        pairs = combinations(nodes, 2)\n",
    "    else:\n",
    "        if group_dict is None:\n",
    "            raise ValueError(\"group_dict doit être fourni si divided=True\")\n",
    "        # Paires intra-groupe uniquement\n",
    "        pairs = [\n",
    "            (u, v) for u, v in combinations(nodes, 2)\n",
    "            if group_dict.get(u) == group_dict.get(v)\n",
    "        ]\n",
    "\n",
    "    for u, v in pairs:\n",
    "        d_uv = pair_disparity(G, u, v, max_paths=max_paths, cutoff=cutoff)\n",
    "        total_disparity += d_uv\n",
    "        count += 1\n",
    "\n",
    "    return total_disparity / count if count > 0 else 0.0\n"
   ]
  },
  {
   "cell_type": "code",
   "execution_count": 87,
   "id": "674a9d00-ea92-45c9-8db2-fe6f0ada1ec0",
   "metadata": {},
   "outputs": [
    {
     "name": "stdout",
     "output_type": "stream",
     "text": [
      "Path disparity: 0.0\n"
     ]
    }
   ],
   "source": [
    "G = nx.path_graph(5)  # Graphe en ligne\n",
    "print(\"Path disparity:\", path_disparity(G))"
   ]
  },
  {
   "cell_type": "code",
   "execution_count": 88,
   "id": "3bc42c40-9c6e-4b6c-8f74-76266fdd56d8",
   "metadata": {},
   "outputs": [],
   "source": [
    "#G = nx.cycle_graph(5) \n",
    "#u = 1\n",
    "#v= 4\n",
    "#max_paths= 4\n",
    "#cutoff= 5\n",
    "#paths = list(nx.all_simple_paths(G, source=u, target=v, cutoff=cutoff))[:max_paths]\n",
    "#print(paths)"
   ]
  },
  {
   "cell_type": "markdown",
   "id": "eaa12dcf-736b-4233-bd22-880ba3a9e8d9",
   "metadata": {},
   "source": [
    "### 3- Node criticity"
   ]
  },
  {
   "cell_type": "code",
   "execution_count": 89,
   "id": "4ea95825-e24b-4288-abb8-8f15afa6058f",
   "metadata": {},
   "outputs": [],
   "source": [
    "def node_criticality(G, divided=False, group_dict=None):\n",
    "    \"\"\"\n",
    "    Calcule la criticité BCt(i) de chaque nœud :\n",
    "    - Cas global : centralité d’intermédiarité sur tout le graphe.\n",
    "    - Cas divisé : uniquement intra-groupe (centralité par groupe, zéro hors groupe).\n",
    "\n",
    "    Returns:\n",
    "        dict(node_id: criticité)\n",
    "    \"\"\"\n",
    "    n = len(G)\n",
    "    if n < 2:\n",
    "        return {node: 0.0 for node in G.nodes}\n",
    "\n",
    "    if not divided:\n",
    "        # Cas global\n",
    "        norm_factor = 1 / (n * (n - 1))\n",
    "        centrality = nx.betweenness_centrality(G, normalized=True)\n",
    "        BC = {node: value * norm_factor for node, value in centrality.items()}\n",
    "        return BC\n",
    "\n",
    "    else:\n",
    "        if group_dict is None:\n",
    "            raise ValueError(\"group_dict doit être fourni si divided=True\")\n",
    "\n",
    "        # Cas divisé : on calcule la centralité dans chaque sous-graphe\n",
    "        BC = {node: 0.0 for node in G.nodes}\n",
    "        groups = {}\n",
    "        for node, group in group_dict.items():\n",
    "            groups.setdefault(group, []).append(node)\n",
    "\n",
    "        for group_nodes in groups.values():\n",
    "            subG = G.subgraph(group_nodes)\n",
    "            m = len(subG)\n",
    "            if m < 2:\n",
    "                continue\n",
    "            norm_factor = 1 / (m * (m - 1))\n",
    "            centrality = nx.betweenness_centrality(subG, normalized=True)\n",
    "            for node, value in centrality.items():\n",
    "                BC[node] = value * norm_factor\n",
    "\n",
    "        return BC\n",
    "\n",
    "    \n",
    "def critical_nodes(G, epsilon=0.01, divided=False, group_dict=None):\n",
    "    \"\"\"\n",
    "    Retourne le pourcentage de nœuds critiques (BCt(i) ≥ ε)\n",
    "    \"\"\"\n",
    "    BC = node_criticality(G, divided=divided, group_dict=group_dict)\n",
    "    critical = [node for node, value in BC.items() if value >= epsilon]\n",
    "    return len(critical) * 100 / len(G.nodes)"
   ]
  },
  {
   "cell_type": "code",
   "execution_count": 90,
   "id": "97486148-787c-4d55-ab50-6c3532d0a085",
   "metadata": {},
   "outputs": [
    {
     "name": "stdout",
     "output_type": "stream",
     "text": [
      "Criticité BCt(i) pour chaque nœud :\n",
      "Node 0 : 0.00303\n",
      "Node 1 : 0.00149\n",
      "Node 2 : 0.00170\n",
      "Node 3 : 0.00165\n",
      "Node 4 : 0.00000\n",
      "Node 5 : 0.00000\n",
      "Node 6 : 0.00010\n",
      "Node 7 : 0.00026\n",
      "Node 8 : 0.00062\n",
      "Node 9 : 0.00195\n",
      "\n",
      "Ensemble critique Cₜ(G) : 50.0\n"
     ]
    }
   ],
   "source": [
    "G = nx.erdos_renyi_graph(10, 0.3, seed=42)\n",
    "BCt = node_criticality(G)\n",
    "Ct = critical_nodes(G, epsilon=0.001)\n",
    "\n",
    "print(\"Criticité BCt(i) pour chaque nœud :\")\n",
    "for node, value in BCt.items():\n",
    "    print(f\"Node {node} : {value:.5f}\")\n",
    "\n",
    "print(\"\\nEnsemble critique Cₜ(G) :\", Ct)\n"
   ]
  }
 ],
 "metadata": {
  "kernelspec": {
   "display_name": "Python 3 (ipykernel)",
   "language": "python",
   "name": "python3"
  },
  "language_info": {
   "codemirror_mode": {
    "name": "ipython",
    "version": 3
   },
   "file_extension": ".py",
   "mimetype": "text/x-python",
   "name": "python",
   "nbconvert_exporter": "python",
   "pygments_lexer": "ipython3",
   "version": "3.12.0"
  }
 },
 "nbformat": 4,
 "nbformat_minor": 5
}
