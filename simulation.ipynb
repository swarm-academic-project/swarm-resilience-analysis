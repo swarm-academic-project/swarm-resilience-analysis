{
 "cells": [
  {
   "cell_type": "code",
   "execution_count": 1,
   "id": "3b103bea-b839-4b66-a3c5-f4f9f18485cd",
   "metadata": {},
   "outputs": [],
   "source": [
    "import pandas as pd\n",
    "from swarm_sim import *\n",
    "from metrics import *\n",
    "import random \n",
    "import nbimporter\n",
    "from metrics import path_disparity, path_redundancy, routing_cost, flow_robustness, network_efficiency, critical_nodes\n",
    "from tqdm import tqdm\n",
    "import matplotlib.pyplot as plt\n",
    "import seaborn as sns"
   ]
  },
  {
   "cell_type": "markdown",
   "id": "1119710f-6c78-42bd-ad5c-b559bf5d42f6",
   "metadata": {},
   "source": [
    "### extraction Data "
   ]
  },
  {
   "cell_type": "code",
   "execution_count": 2,
   "id": "807292cf-f13f-4798-bd5c-4c63e687f9cf",
   "metadata": {},
   "outputs": [],
   "source": [
    "df = pd.read_csv(\"Traces.csv\", header=None)  \n",
    "\n",
    "# Créer les noms de colonnes pour le temps\n",
    "time_cols = [str(i+1) for i in range(10000)]\n",
    "df.columns = time_cols\n",
    "\n",
    "#générer les noms des lignes (cordonnées des satellites):\n",
    "coord_names = []\n",
    "for i in range(1, 101):  # 100 satellites\n",
    "    coord_names.append(f\"satx{i}\")\n",
    "    coord_names.append(f\"saty{i}\")\n",
    "    coord_names.append(f\"satz{i}\")\n",
    "df[\"coords\"] = coord_names\n",
    "df = df.set_index(\"coords\")\n",
    "\n",
    "dft = df.transpose()  # maintenant chaque ligne = un instant"
   ]
  },
  {
   "cell_type": "markdown",
   "id": "8c82e932-d93a-4317-89b2-27b394dbbf62",
   "metadata": {},
   "source": [
    "### convert to swarm"
   ]
  },
  {
   "cell_type": "code",
   "execution_count": 11,
   "id": "93f2e6b6-4b1c-446c-a686-507d9a74e952",
   "metadata": {},
   "outputs": [
    {
     "name": "stdout",
     "output_type": "stream",
     "text": [
      "Traitement de l’algorithme : FFD\n"
     ]
    },
    {
     "name": "stderr",
     "output_type": "stream",
     "text": [
      "Simulation en cours:   1%|▌                                                            | 1/100 [00:00<00:19,  5.10it/s]"
     ]
    },
    {
     "name": "stdout",
     "output_type": "stream",
     "text": [
      "\n",
      "--- Temps t = 0 ---\n",
      "  > Métriques avant division calculées.\n",
      "  > Métriques après division calculées.\n",
      "  > Métriques après attaque calculées.\n",
      "\n",
      "--- Temps t = 1 ---\n"
     ]
    },
    {
     "name": "stderr",
     "output_type": "stream",
     "text": [
      "Simulation en cours:   2%|█▏                                                           | 2/100 [00:00<00:19,  4.98it/s]"
     ]
    },
    {
     "name": "stdout",
     "output_type": "stream",
     "text": [
      "  > Métriques avant division calculées.\n",
      "  > Métriques après division calculées.\n",
      "  > Métriques après attaque calculées.\n",
      "\n",
      "--- Temps t = 2 ---\n",
      "  > Métriques avant division calculées.\n"
     ]
    },
    {
     "name": "stderr",
     "output_type": "stream",
     "text": [
      "Simulation en cours:   3%|█▊                                                           | 3/100 [00:00<00:19,  5.08it/s]"
     ]
    },
    {
     "name": "stdout",
     "output_type": "stream",
     "text": [
      "  > Métriques après division calculées.\n",
      "  > Métriques après attaque calculées.\n",
      "\n",
      "--- Temps t = 3 ---\n",
      "  > Métriques avant division calculées.\n",
      "  > Métriques après division calculées.\n"
     ]
    },
    {
     "name": "stderr",
     "output_type": "stream",
     "text": [
      "Simulation en cours:   5%|███                                                          | 5/100 [00:00<00:18,  5.18it/s]"
     ]
    },
    {
     "name": "stdout",
     "output_type": "stream",
     "text": [
      "  > Métriques après attaque calculées.\n",
      "\n",
      "--- Temps t = 4 ---\n",
      "  > Métriques avant division calculées.\n",
      "  > Métriques après division calculées.\n",
      "  > Métriques après attaque calculées.\n"
     ]
    },
    {
     "name": "stderr",
     "output_type": "stream",
     "text": [
      "Simulation en cours:   6%|███▋                                                         | 6/100 [00:01<00:18,  5.18it/s]"
     ]
    },
    {
     "name": "stdout",
     "output_type": "stream",
     "text": [
      "\n",
      "--- Temps t = 5 ---\n",
      "  > Métriques avant division calculées.\n",
      "  > Métriques après division calculées.\n",
      "  > Métriques après attaque calculées.\n"
     ]
    },
    {
     "name": "stderr",
     "output_type": "stream",
     "text": [
      "Simulation en cours:   7%|████▎                                                        | 7/100 [00:01<00:18,  5.01it/s]"
     ]
    },
    {
     "name": "stdout",
     "output_type": "stream",
     "text": [
      "\n",
      "--- Temps t = 6 ---\n",
      "  > Métriques avant division calculées.\n",
      "  > Métriques après division calculées.\n",
      "  > Métriques après attaque calculées.\n",
      "\n",
      "--- Temps t = 7 ---\n"
     ]
    },
    {
     "name": "stderr",
     "output_type": "stream",
     "text": [
      "Simulation en cours:   8%|████▉                                                        | 8/100 [00:01<00:18,  4.99it/s]"
     ]
    },
    {
     "name": "stdout",
     "output_type": "stream",
     "text": [
      "  > Métriques avant division calculées.\n",
      "  > Métriques après division calculées.\n",
      "  > Métriques après attaque calculées.\n",
      "\n",
      "--- Temps t = 8 ---\n",
      "  > Métriques avant division calculées.\n"
     ]
    },
    {
     "name": "stderr",
     "output_type": "stream",
     "text": [
      "Simulation en cours:   9%|█████▍                                                       | 9/100 [00:01<00:18,  4.94it/s]"
     ]
    },
    {
     "name": "stdout",
     "output_type": "stream",
     "text": [
      "  > Métriques après division calculées.\n",
      "  > Métriques après attaque calculées.\n",
      "\n",
      "--- Temps t = 9 ---\n",
      "  > Métriques avant division calculées.\n",
      "  > Métriques après division calculées.\n"
     ]
    },
    {
     "name": "stderr",
     "output_type": "stream",
     "text": [
      "Simulation en cours:  11%|██████▌                                                     | 11/100 [00:02<00:18,  4.90it/s]"
     ]
    },
    {
     "name": "stdout",
     "output_type": "stream",
     "text": [
      "  > Métriques après attaque calculées.\n",
      "\n",
      "--- Temps t = 10 ---\n",
      "  > Métriques avant division calculées.\n",
      "  > Métriques après division calculées.\n",
      "  > Métriques après attaque calculées.\n"
     ]
    },
    {
     "name": "stderr",
     "output_type": "stream",
     "text": [
      "Simulation en cours:  12%|███████▏                                                    | 12/100 [00:02<00:17,  4.93it/s]"
     ]
    },
    {
     "name": "stdout",
     "output_type": "stream",
     "text": [
      "\n",
      "--- Temps t = 11 ---\n",
      "  > Métriques avant division calculées.\n",
      "  > Métriques après division calculées.\n",
      "  > Métriques après attaque calculées.\n"
     ]
    },
    {
     "name": "stderr",
     "output_type": "stream",
     "text": [
      "Simulation en cours:  13%|███████▊                                                    | 13/100 [00:02<00:18,  4.83it/s]"
     ]
    },
    {
     "name": "stdout",
     "output_type": "stream",
     "text": [
      "\n",
      "--- Temps t = 12 ---\n",
      "  > Métriques avant division calculées.\n",
      "  > Métriques après division calculées.\n",
      "  > Métriques après attaque calculées.\n",
      "\n",
      "--- Temps t = 13 ---\n",
      "  > Métriques avant division calculées.\n",
      "  > Métriques après division calculées.\n"
     ]
    },
    {
     "name": "stderr",
     "output_type": "stream",
     "text": [
      "Simulation en cours:  15%|█████████                                                   | 15/100 [00:03<00:17,  4.80it/s]"
     ]
    },
    {
     "name": "stdout",
     "output_type": "stream",
     "text": [
      "  > Métriques après attaque calculées.\n",
      "\n",
      "--- Temps t = 14 ---\n",
      "  > Métriques avant division calculées.\n",
      "  > Métriques après division calculées.\n",
      "  > Métriques après attaque calculées.\n"
     ]
    },
    {
     "name": "stderr",
     "output_type": "stream",
     "text": [
      "Simulation en cours:  16%|█████████▌                                                  | 16/100 [00:03<00:17,  4.83it/s]"
     ]
    },
    {
     "name": "stdout",
     "output_type": "stream",
     "text": [
      "\n",
      "--- Temps t = 15 ---\n",
      "  > Métriques avant division calculées.\n",
      "  > Métriques après division calculées.\n",
      "  > Métriques après attaque calculées.\n",
      "\n",
      "--- Temps t = 16 ---\n",
      "  > Métriques avant division calculées.\n",
      "  > Métriques après division calculées.\n"
     ]
    },
    {
     "name": "stderr",
     "output_type": "stream",
     "text": [
      "Simulation en cours:  17%|██████████▏                                                 | 17/100 [00:03<00:17,  4.86it/s]"
     ]
    },
    {
     "name": "stdout",
     "output_type": "stream",
     "text": [
      "  > Métriques après attaque calculées.\n",
      "\n",
      "--- Temps t = 17 ---\n",
      "  > Métriques avant division calculées.\n",
      "  > Métriques après division calculées.\n"
     ]
    },
    {
     "name": "stderr",
     "output_type": "stream",
     "text": [
      "Simulation en cours:  18%|██████████▊                                                 | 18/100 [00:03<00:17,  4.73it/s]"
     ]
    },
    {
     "name": "stdout",
     "output_type": "stream",
     "text": [
      "  > Métriques après attaque calculées.\n",
      "\n",
      "--- Temps t = 18 ---\n",
      "  > Métriques avant division calculées.\n",
      "  > Métriques après division calculées.\n",
      "  > Métriques après attaque calculées.\n"
     ]
    },
    {
     "name": "stderr",
     "output_type": "stream",
     "text": [
      "Simulation en cours:  20%|████████████                                                | 20/100 [00:04<00:17,  4.64it/s]"
     ]
    },
    {
     "name": "stdout",
     "output_type": "stream",
     "text": [
      "\n",
      "--- Temps t = 19 ---\n",
      "  > Métriques avant division calculées.\n",
      "  > Métriques après division calculées.\n",
      "  > Métriques après attaque calculées.\n"
     ]
    },
    {
     "name": "stderr",
     "output_type": "stream",
     "text": [
      "Simulation en cours:  21%|████████████▌                                               | 21/100 [00:04<00:16,  4.76it/s]"
     ]
    },
    {
     "name": "stdout",
     "output_type": "stream",
     "text": [
      "\n",
      "--- Temps t = 20 ---\n",
      "  > Métriques avant division calculées.\n",
      "  > Métriques après division calculées.\n",
      "  > Métriques après attaque calculées.\n",
      "\n",
      "--- Temps t = 21 ---\n"
     ]
    },
    {
     "name": "stderr",
     "output_type": "stream",
     "text": [
      "Simulation en cours:  22%|█████████████▏                                              | 22/100 [00:04<00:15,  4.90it/s]"
     ]
    },
    {
     "name": "stdout",
     "output_type": "stream",
     "text": [
      "  > Métriques avant division calculées.\n",
      "  > Métriques après division calculées.\n",
      "  > Métriques après attaque calculées.\n",
      "\n",
      "--- Temps t = 22 ---\n",
      "  > Métriques avant division calculées.\n"
     ]
    },
    {
     "name": "stderr",
     "output_type": "stream",
     "text": [
      "Simulation en cours:  23%|█████████████▊                                              | 23/100 [00:04<00:15,  4.94it/s]"
     ]
    },
    {
     "name": "stdout",
     "output_type": "stream",
     "text": [
      "  > Métriques après division calculées.\n",
      "  > Métriques après attaque calculées.\n",
      "\n",
      "--- Temps t = 23 ---\n",
      "  > Métriques avant division calculées.\n",
      "  > Métriques après division calculées.\n"
     ]
    },
    {
     "name": "stderr",
     "output_type": "stream",
     "text": [
      "Simulation en cours:  25%|███████████████                                             | 25/100 [00:05<00:15,  4.92it/s]"
     ]
    },
    {
     "name": "stdout",
     "output_type": "stream",
     "text": [
      "  > Métriques après attaque calculées.\n",
      "\n",
      "--- Temps t = 24 ---\n",
      "  > Métriques avant division calculées.\n",
      "  > Métriques après division calculées.\n",
      "  > Métriques après attaque calculées.\n"
     ]
    },
    {
     "name": "stderr",
     "output_type": "stream",
     "text": [
      "Simulation en cours:  26%|███████████████▌                                            | 26/100 [00:05<00:14,  4.95it/s]"
     ]
    },
    {
     "name": "stdout",
     "output_type": "stream",
     "text": [
      "\n",
      "--- Temps t = 25 ---\n",
      "  > Métriques avant division calculées.\n",
      "  > Métriques après division calculées.\n",
      "  > Métriques après attaque calculées.\n",
      "\n",
      "--- Temps t = 26 ---\n"
     ]
    },
    {
     "name": "stderr",
     "output_type": "stream",
     "text": [
      "Simulation en cours:  27%|████████████████▏                                           | 27/100 [00:05<00:15,  4.82it/s]"
     ]
    },
    {
     "name": "stdout",
     "output_type": "stream",
     "text": [
      "  > Métriques avant division calculées.\n",
      "  > Métriques après division calculées.\n",
      "  > Métriques après attaque calculées.\n",
      "\n",
      "--- Temps t = 27 ---\n"
     ]
    },
    {
     "name": "stderr",
     "output_type": "stream",
     "text": [
      "Simulation en cours:  29%|█████████████████▍                                          | 29/100 [00:05<00:14,  4.95it/s]"
     ]
    },
    {
     "name": "stdout",
     "output_type": "stream",
     "text": [
      "  > Métriques avant division calculées.\n",
      "  > Métriques après division calculées.\n",
      "  > Métriques après attaque calculées.\n",
      "\n",
      "--- Temps t = 28 ---\n",
      "  > Métriques avant division calculées.\n",
      "  > Métriques après division calculées.\n",
      "  > Métriques après attaque calculées.\n",
      "\n",
      "--- Temps t = 29 ---\n",
      "  > Métriques avant division calculées.\n",
      "  > Métriques après division calculées.\n"
     ]
    },
    {
     "name": "stderr",
     "output_type": "stream",
     "text": [
      "Simulation en cours:  31%|██████████████████▌                                         | 31/100 [00:06<00:14,  4.77it/s]"
     ]
    },
    {
     "name": "stdout",
     "output_type": "stream",
     "text": [
      "  > Métriques après attaque calculées.\n",
      "\n",
      "--- Temps t = 30 ---\n",
      "  > Métriques avant division calculées.\n",
      "  > Métriques après division calculées.\n",
      "  > Métriques après attaque calculées.\n",
      "\n",
      "--- Temps t = 31 ---\n",
      "  > Métriques avant division calculées.\n",
      "  > Métriques après division calculées.\n"
     ]
    },
    {
     "name": "stderr",
     "output_type": "stream",
     "text": [
      "Simulation en cours:  32%|███████████████████▏                                        | 32/100 [00:06<00:14,  4.71it/s]"
     ]
    },
    {
     "name": "stdout",
     "output_type": "stream",
     "text": [
      "  > Métriques après attaque calculées.\n",
      "\n",
      "--- Temps t = 32 ---\n",
      "  > Métriques avant division calculées.\n",
      "  > Métriques après division calculées.\n",
      "  > Métriques après attaque calculées.\n"
     ]
    },
    {
     "name": "stderr",
     "output_type": "stream",
     "text": [
      "Simulation en cours:  34%|████████████████████▍                                       | 34/100 [00:06<00:13,  4.88it/s]"
     ]
    },
    {
     "name": "stdout",
     "output_type": "stream",
     "text": [
      "\n",
      "--- Temps t = 33 ---\n",
      "  > Métriques avant division calculées.\n",
      "  > Métriques après division calculées.\n",
      "  > Métriques après attaque calculées.\n"
     ]
    },
    {
     "name": "stderr",
     "output_type": "stream",
     "text": [
      "Simulation en cours:  35%|█████████████████████                                       | 35/100 [00:07<00:12,  5.05it/s]"
     ]
    },
    {
     "name": "stdout",
     "output_type": "stream",
     "text": [
      "\n",
      "--- Temps t = 34 ---\n",
      "  > Métriques avant division calculées.\n",
      "  > Métriques après division calculées.\n",
      "  > Métriques après attaque calculées.\n",
      "\n",
      "--- Temps t = 35 ---\n"
     ]
    },
    {
     "name": "stderr",
     "output_type": "stream",
     "text": [
      "Simulation en cours:  36%|█████████████████████▌                                      | 36/100 [00:07<00:12,  4.93it/s]"
     ]
    },
    {
     "name": "stdout",
     "output_type": "stream",
     "text": [
      "  > Métriques avant division calculées.\n",
      "  > Métriques après division calculées.\n",
      "  > Métriques après attaque calculées.\n",
      "\n",
      "--- Temps t = 36 ---\n",
      "  > Métriques avant division calculées.\n"
     ]
    },
    {
     "name": "stderr",
     "output_type": "stream",
     "text": [
      "Simulation en cours:  37%|██████████████████████▏                                     | 37/100 [00:07<00:12,  5.01it/s]"
     ]
    },
    {
     "name": "stdout",
     "output_type": "stream",
     "text": [
      "  > Métriques après division calculées.\n",
      "  > Métriques après attaque calculées.\n",
      "\n",
      "--- Temps t = 37 ---\n",
      "  > Métriques avant division calculées.\n",
      "  > Métriques après division calculées.\n"
     ]
    },
    {
     "name": "stderr",
     "output_type": "stream",
     "text": [
      "Simulation en cours:  38%|██████████████████████▊                                     | 38/100 [00:07<00:12,  4.87it/s]"
     ]
    },
    {
     "name": "stdout",
     "output_type": "stream",
     "text": [
      "  > Métriques après attaque calculées.\n",
      "\n",
      "--- Temps t = 38 ---\n",
      "  > Métriques avant division calculées.\n",
      "  > Métriques après division calculées.\n"
     ]
    },
    {
     "name": "stderr",
     "output_type": "stream",
     "text": [
      "Simulation en cours:  40%|████████████████████████                                    | 40/100 [00:08<00:12,  4.74it/s]"
     ]
    },
    {
     "name": "stdout",
     "output_type": "stream",
     "text": [
      "  > Métriques après attaque calculées.\n",
      "\n",
      "--- Temps t = 39 ---\n",
      "  > Métriques avant division calculées.\n",
      "  > Métriques après division calculées.\n",
      "  > Métriques après attaque calculées.\n"
     ]
    },
    {
     "name": "stderr",
     "output_type": "stream",
     "text": [
      "Simulation en cours:  41%|████████████████████████▌                                   | 41/100 [00:08<00:12,  4.77it/s]"
     ]
    },
    {
     "name": "stdout",
     "output_type": "stream",
     "text": [
      "\n",
      "--- Temps t = 40 ---\n",
      "  > Métriques avant division calculées.\n",
      "  > Métriques après division calculées.\n",
      "  > Métriques après attaque calculées.\n",
      "\n",
      "--- Temps t = 41 ---\n",
      "  > Métriques avant division calculées.\n",
      "  > Métriques après division calculées.\n"
     ]
    },
    {
     "name": "stderr",
     "output_type": "stream",
     "text": [
      "Simulation en cours:  42%|█████████████████████████▏                                  | 42/100 [00:08<00:12,  4.69it/s]"
     ]
    },
    {
     "name": "stdout",
     "output_type": "stream",
     "text": [
      "  > Métriques après attaque calculées.\n",
      "\n",
      "--- Temps t = 42 ---\n",
      "  > Métriques avant division calculées.\n",
      "  > Métriques après division calculées.\n"
     ]
    },
    {
     "name": "stderr",
     "output_type": "stream",
     "text": [
      "Simulation en cours:  43%|█████████████████████████▊                                  | 43/100 [00:08<00:12,  4.65it/s]"
     ]
    },
    {
     "name": "stdout",
     "output_type": "stream",
     "text": [
      "  > Métriques après attaque calculées.\n",
      "\n",
      "--- Temps t = 43 ---\n",
      "  > Métriques avant division calculées.\n",
      "  > Métriques après division calculées.\n"
     ]
    },
    {
     "name": "stderr",
     "output_type": "stream",
     "text": [
      "Simulation en cours:  45%|███████████████████████████                                 | 45/100 [00:09<00:11,  4.65it/s]"
     ]
    },
    {
     "name": "stdout",
     "output_type": "stream",
     "text": [
      "  > Métriques après attaque calculées.\n",
      "\n",
      "--- Temps t = 44 ---\n",
      "  > Métriques avant division calculées.\n",
      "  > Métriques après division calculées.\n",
      "  > Métriques après attaque calculées.\n"
     ]
    },
    {
     "name": "stderr",
     "output_type": "stream",
     "text": [
      "Simulation en cours:  46%|███████████████████████████▌                                | 46/100 [00:09<00:11,  4.72it/s]"
     ]
    },
    {
     "name": "stdout",
     "output_type": "stream",
     "text": [
      "\n",
      "--- Temps t = 45 ---\n",
      "  > Métriques avant division calculées.\n",
      "  > Métriques après division calculées.\n",
      "  > Métriques après attaque calculées.\n",
      "\n",
      "--- Temps t = 46 ---\n",
      "  > Métriques avant division calculées.\n",
      "  > Métriques après division calculées.\n"
     ]
    },
    {
     "name": "stderr",
     "output_type": "stream",
     "text": [
      "Simulation en cours:  47%|████████████████████████████▏                               | 47/100 [00:09<00:11,  4.74it/s]"
     ]
    },
    {
     "name": "stdout",
     "output_type": "stream",
     "text": [
      "  > Métriques après attaque calculées.\n",
      "\n",
      "--- Temps t = 47 ---\n",
      "  > Métriques avant division calculées.\n",
      "  > Métriques après division calculées.\n",
      "  > Métriques après attaque calculées.\n"
     ]
    },
    {
     "name": "stderr",
     "output_type": "stream",
     "text": [
      "Simulation en cours:  49%|█████████████████████████████▍                              | 49/100 [00:10<00:10,  4.71it/s]"
     ]
    },
    {
     "name": "stdout",
     "output_type": "stream",
     "text": [
      "\n",
      "--- Temps t = 48 ---\n",
      "  > Métriques avant division calculées.\n",
      "  > Métriques après division calculées.\n",
      "  > Métriques après attaque calculées.\n"
     ]
    },
    {
     "name": "stderr",
     "output_type": "stream",
     "text": [
      "Simulation en cours:  50%|██████████████████████████████                              | 50/100 [00:10<00:10,  4.70it/s]"
     ]
    },
    {
     "name": "stdout",
     "output_type": "stream",
     "text": [
      "\n",
      "--- Temps t = 49 ---\n",
      "  > Métriques avant division calculées.\n",
      "  > Métriques après division calculées.\n",
      "  > Métriques après attaque calculées.\n",
      "\n",
      "--- Temps t = 50 ---\n"
     ]
    },
    {
     "name": "stderr",
     "output_type": "stream",
     "text": [
      "Simulation en cours:  51%|██████████████████████████████▌                             | 51/100 [00:10<00:10,  4.82it/s]"
     ]
    },
    {
     "name": "stdout",
     "output_type": "stream",
     "text": [
      "  > Métriques avant division calculées.\n",
      "  > Métriques après division calculées.\n",
      "  > Métriques après attaque calculées.\n",
      "\n",
      "--- Temps t = 51 ---\n",
      "  > Métriques avant division calculées.\n",
      "  > Métriques après division calculées.\n"
     ]
    },
    {
     "name": "stderr",
     "output_type": "stream",
     "text": [
      "Simulation en cours:  53%|███████████████████████████████▊                            | 53/100 [00:10<00:08,  5.55it/s]"
     ]
    },
    {
     "name": "stdout",
     "output_type": "stream",
     "text": [
      "  > Métriques après attaque calculées.\n",
      "\n",
      "--- Temps t = 52 ---\n",
      "  > Métriques avant division calculées.\n",
      "  > Métriques après division calculées.\n",
      "  > Métriques après attaque calculées.\n",
      "\n",
      "--- Temps t = 53 ---\n"
     ]
    },
    {
     "name": "stderr",
     "output_type": "stream",
     "text": [
      "Simulation en cours:  55%|█████████████████████████████████                           | 55/100 [00:11<00:07,  5.84it/s]"
     ]
    },
    {
     "name": "stdout",
     "output_type": "stream",
     "text": [
      "  > Métriques avant division calculées.\n",
      "  > Métriques après division calculées.\n",
      "  > Métriques après attaque calculées.\n",
      "\n",
      "--- Temps t = 54 ---\n",
      "  > Métriques avant division calculées.\n",
      "  > Métriques après division calculées.\n",
      "  > Métriques après attaque calculées.\n",
      "\n",
      "--- Temps t = 55 ---\n"
     ]
    },
    {
     "name": "stderr",
     "output_type": "stream",
     "text": [
      "Simulation en cours:  56%|█████████████████████████████████▌                          | 56/100 [00:11<00:07,  6.02it/s]"
     ]
    },
    {
     "name": "stdout",
     "output_type": "stream",
     "text": [
      "  > Métriques avant division calculées.\n",
      "  > Métriques après division calculées.\n",
      "  > Métriques après attaque calculées.\n",
      "\n",
      "--- Temps t = 56 ---\n",
      "  > Métriques avant division calculées.\n",
      "  > Métriques après division calculées.\n",
      "  > Métriques après attaque calculées.\n"
     ]
    },
    {
     "name": "stderr",
     "output_type": "stream",
     "text": [
      "Simulation en cours:  58%|██████████████████████████████████▊                         | 58/100 [00:11<00:07,  5.84it/s]"
     ]
    },
    {
     "name": "stdout",
     "output_type": "stream",
     "text": [
      "\n",
      "--- Temps t = 57 ---\n",
      "  > Métriques avant division calculées.\n",
      "  > Métriques après division calculées.\n",
      "  > Métriques après attaque calculées.\n",
      "\n",
      "--- Temps t = 58 ---\n"
     ]
    },
    {
     "name": "stderr",
     "output_type": "stream",
     "text": [
      "Simulation en cours:  59%|███████████████████████████████████▍                        | 59/100 [00:11<00:06,  6.11it/s]"
     ]
    },
    {
     "name": "stdout",
     "output_type": "stream",
     "text": [
      "  > Métriques avant division calculées.\n",
      "  > Métriques après division calculées.\n",
      "  > Métriques après attaque calculées.\n",
      "\n",
      "--- Temps t = 59 ---\n",
      "  > Métriques avant division calculées.\n",
      "  > Métriques après division calculées.\n",
      "  > Métriques après attaque calculées.\n"
     ]
    },
    {
     "name": "stderr",
     "output_type": "stream",
     "text": [
      "Simulation en cours:  61%|████████████████████████████████████▌                       | 61/100 [00:12<00:06,  6.28it/s]"
     ]
    },
    {
     "name": "stdout",
     "output_type": "stream",
     "text": [
      "\n",
      "--- Temps t = 60 ---\n",
      "  > Métriques avant division calculées.\n",
      "  > Métriques après division calculées.\n",
      "  > Métriques après attaque calculées.\n",
      "\n",
      "--- Temps t = 61 ---\n"
     ]
    },
    {
     "name": "stderr",
     "output_type": "stream",
     "text": [
      "Simulation en cours:  63%|█████████████████████████████████████▊                      | 63/100 [00:12<00:05,  6.28it/s]"
     ]
    },
    {
     "name": "stdout",
     "output_type": "stream",
     "text": [
      "  > Métriques avant division calculées.\n",
      "  > Métriques après division calculées.\n",
      "  > Métriques après attaque calculées.\n",
      "\n",
      "--- Temps t = 62 ---\n",
      "  > Métriques avant division calculées.\n",
      "  > Métriques après division calculées.\n",
      "  > Métriques après attaque calculées.\n",
      "\n",
      "--- Temps t = 63 ---\n"
     ]
    },
    {
     "name": "stderr",
     "output_type": "stream",
     "text": [
      "Simulation en cours:  64%|██████████████████████████████████████▍                     | 64/100 [00:12<00:05,  6.26it/s]"
     ]
    },
    {
     "name": "stdout",
     "output_type": "stream",
     "text": [
      "  > Métriques avant division calculées.\n",
      "  > Métriques après division calculées.\n",
      "  > Métriques après attaque calculées.\n",
      "\n",
      "--- Temps t = 64 ---\n",
      "  > Métriques avant division calculées.\n",
      "  > Métriques après division calculées.\n",
      "  > Métriques après attaque calculées.\n"
     ]
    },
    {
     "name": "stderr",
     "output_type": "stream",
     "text": [
      "Simulation en cours:  66%|███████████████████████████████████████▌                    | 66/100 [00:12<00:05,  6.51it/s]"
     ]
    },
    {
     "name": "stdout",
     "output_type": "stream",
     "text": [
      "\n",
      "--- Temps t = 65 ---\n",
      "  > Métriques avant division calculées.\n",
      "  > Métriques après division calculées.\n",
      "  > Métriques après attaque calculées.\n",
      "\n",
      "--- Temps t = 66 ---\n"
     ]
    },
    {
     "name": "stderr",
     "output_type": "stream",
     "text": [
      "Simulation en cours:  67%|████████████████████████████████████████▏                   | 67/100 [00:13<00:05,  6.48it/s]"
     ]
    },
    {
     "name": "stdout",
     "output_type": "stream",
     "text": [
      "  > Métriques avant division calculées.\n",
      "  > Métriques après division calculées.\n",
      "  > Métriques après attaque calculées.\n",
      "\n",
      "--- Temps t = 67 ---\n",
      "  > Métriques avant division calculées.\n",
      "  > Métriques après division calculées.\n",
      "  > Métriques après attaque calculées.\n"
     ]
    },
    {
     "name": "stderr",
     "output_type": "stream",
     "text": [
      "Simulation en cours:  69%|█████████████████████████████████████████▍                  | 69/100 [00:13<00:04,  6.22it/s]"
     ]
    },
    {
     "name": "stdout",
     "output_type": "stream",
     "text": [
      "\n",
      "--- Temps t = 68 ---\n",
      "  > Métriques avant division calculées.\n",
      "  > Métriques après division calculées.\n",
      "  > Métriques après attaque calculées.\n",
      "\n",
      "--- Temps t = 69 ---\n"
     ]
    },
    {
     "name": "stderr",
     "output_type": "stream",
     "text": [
      "Simulation en cours:  70%|██████████████████████████████████████████                  | 70/100 [00:13<00:04,  6.28it/s]"
     ]
    },
    {
     "name": "stdout",
     "output_type": "stream",
     "text": [
      "  > Métriques avant division calculées.\n",
      "  > Métriques après division calculées.\n",
      "  > Métriques après attaque calculées.\n",
      "\n",
      "--- Temps t = 70 ---\n",
      "  > Métriques avant division calculées.\n",
      "  > Métriques après division calculées.\n"
     ]
    },
    {
     "name": "stderr",
     "output_type": "stream",
     "text": [
      "Simulation en cours:  72%|███████████████████████████████████████████▏                | 72/100 [00:13<00:04,  6.03it/s]"
     ]
    },
    {
     "name": "stdout",
     "output_type": "stream",
     "text": [
      "  > Métriques après attaque calculées.\n",
      "\n",
      "--- Temps t = 71 ---\n",
      "  > Métriques avant division calculées.\n",
      "  > Métriques après division calculées.\n",
      "  > Métriques après attaque calculées.\n",
      "\n",
      "--- Temps t = 72 ---\n"
     ]
    },
    {
     "name": "stderr",
     "output_type": "stream",
     "text": [
      "Simulation en cours:  73%|███████████████████████████████████████████▊                | 73/100 [00:14<00:04,  6.22it/s]"
     ]
    },
    {
     "name": "stdout",
     "output_type": "stream",
     "text": [
      "  > Métriques avant division calculées.\n",
      "  > Métriques après division calculées.\n",
      "  > Métriques après attaque calculées.\n",
      "\n",
      "--- Temps t = 73 ---\n",
      "  > Métriques avant division calculées.\n",
      "  > Métriques après division calculées.\n",
      "  > Métriques après attaque calculées.\n"
     ]
    },
    {
     "name": "stderr",
     "output_type": "stream",
     "text": [
      "Simulation en cours:  75%|█████████████████████████████████████████████               | 75/100 [00:14<00:04,  6.05it/s]"
     ]
    },
    {
     "name": "stdout",
     "output_type": "stream",
     "text": [
      "\n",
      "--- Temps t = 74 ---\n",
      "  > Métriques avant division calculées.\n",
      "  > Métriques après division calculées.\n",
      "  > Métriques après attaque calculées.\n",
      "\n",
      "--- Temps t = 75 ---\n"
     ]
    },
    {
     "name": "stderr",
     "output_type": "stream",
     "text": [
      "Simulation en cours:  77%|██████████████████████████████████████████████▏             | 77/100 [00:14<00:03,  6.08it/s]"
     ]
    },
    {
     "name": "stdout",
     "output_type": "stream",
     "text": [
      "  > Métriques avant division calculées.\n",
      "  > Métriques après division calculées.\n",
      "  > Métriques après attaque calculées.\n",
      "\n",
      "--- Temps t = 76 ---\n",
      "  > Métriques avant division calculées.\n",
      "  > Métriques après division calculées.\n",
      "  > Métriques après attaque calculées.\n"
     ]
    },
    {
     "name": "stderr",
     "output_type": "stream",
     "text": [
      "Simulation en cours:  78%|██████████████████████████████████████████████▊             | 78/100 [00:14<00:03,  5.84it/s]"
     ]
    },
    {
     "name": "stdout",
     "output_type": "stream",
     "text": [
      "\n",
      "--- Temps t = 77 ---\n",
      "  > Métriques avant division calculées.\n",
      "  > Métriques après division calculées.\n",
      "  > Métriques après attaque calculées.\n",
      "\n",
      "--- Temps t = 78 ---\n"
     ]
    },
    {
     "name": "stderr",
     "output_type": "stream",
     "text": [
      "Simulation en cours:  79%|███████████████████████████████████████████████▍            | 79/100 [00:15<00:03,  5.89it/s]"
     ]
    },
    {
     "name": "stdout",
     "output_type": "stream",
     "text": [
      "  > Métriques avant division calculées.\n",
      "  > Métriques après division calculées.\n",
      "  > Métriques après attaque calculées.\n",
      "\n",
      "--- Temps t = 79 ---\n",
      "  > Métriques avant division calculées.\n",
      "  > Métriques après division calculées.\n",
      "  > Métriques après attaque calculées.\n"
     ]
    },
    {
     "name": "stderr",
     "output_type": "stream",
     "text": [
      "Simulation en cours:  81%|████████████████████████████████████████████████▌           | 81/100 [00:15<00:03,  6.01it/s]"
     ]
    },
    {
     "name": "stdout",
     "output_type": "stream",
     "text": [
      "\n",
      "--- Temps t = 80 ---\n",
      "  > Métriques avant division calculées.\n",
      "  > Métriques après division calculées.\n",
      "  > Métriques après attaque calculées.\n",
      "\n",
      "--- Temps t = 81 ---\n"
     ]
    },
    {
     "name": "stderr",
     "output_type": "stream",
     "text": [
      "Simulation en cours:  83%|█████████████████████████████████████████████████▊          | 83/100 [00:15<00:02,  5.98it/s]"
     ]
    },
    {
     "name": "stdout",
     "output_type": "stream",
     "text": [
      "  > Métriques avant division calculées.\n",
      "  > Métriques après division calculées.\n",
      "  > Métriques après attaque calculées.\n",
      "\n",
      "--- Temps t = 82 ---\n",
      "  > Métriques avant division calculées.\n",
      "  > Métriques après division calculées.\n",
      "  > Métriques après attaque calculées.\n",
      "\n",
      "--- Temps t = 83 ---\n"
     ]
    },
    {
     "name": "stderr",
     "output_type": "stream",
     "text": [
      "Simulation en cours:  85%|███████████████████████████████████████████████████         | 85/100 [00:16<00:02,  6.30it/s]"
     ]
    },
    {
     "name": "stdout",
     "output_type": "stream",
     "text": [
      "  > Métriques avant division calculées.\n",
      "  > Métriques après division calculées.\n",
      "  > Métriques après attaque calculées.\n",
      "\n",
      "--- Temps t = 84 ---\n",
      "  > Métriques avant division calculées.\n",
      "  > Métriques après division calculées.\n",
      "  > Métriques après attaque calculées.\n"
     ]
    },
    {
     "name": "stderr",
     "output_type": "stream",
     "text": [
      "Simulation en cours:  86%|███████████████████████████████████████████████████▌        | 86/100 [00:16<00:02,  6.42it/s]"
     ]
    },
    {
     "name": "stdout",
     "output_type": "stream",
     "text": [
      "\n",
      "--- Temps t = 85 ---\n",
      "  > Métriques avant division calculées.\n",
      "  > Métriques après division calculées.\n",
      "  > Métriques après attaque calculées.\n",
      "\n",
      "--- Temps t = 86 ---\n"
     ]
    },
    {
     "name": "stderr",
     "output_type": "stream",
     "text": [
      "Simulation en cours:  87%|████████████████████████████████████████████████████▏       | 87/100 [00:16<00:01,  6.51it/s]"
     ]
    },
    {
     "name": "stdout",
     "output_type": "stream",
     "text": [
      "  > Métriques avant division calculées.\n",
      "  > Métriques après division calculées.\n",
      "  > Métriques après attaque calculées.\n",
      "\n",
      "--- Temps t = 87 ---\n",
      "  > Métriques avant division calculées.\n",
      "  > Métriques après division calculées.\n",
      "  > Métriques après attaque calculées.\n"
     ]
    },
    {
     "name": "stderr",
     "output_type": "stream",
     "text": [
      "Simulation en cours:  89%|█████████████████████████████████████████████████████▍      | 89/100 [00:16<00:01,  6.56it/s]"
     ]
    },
    {
     "name": "stdout",
     "output_type": "stream",
     "text": [
      "\n",
      "--- Temps t = 88 ---\n",
      "  > Métriques avant division calculées.\n",
      "  > Métriques après division calculées.\n",
      "  > Métriques après attaque calculées.\n",
      "\n",
      "--- Temps t = 89 ---\n"
     ]
    },
    {
     "name": "stderr",
     "output_type": "stream",
     "text": [
      "Simulation en cours:  91%|██████████████████████████████████████████████████████▌     | 91/100 [00:16<00:01,  6.53it/s]"
     ]
    },
    {
     "name": "stdout",
     "output_type": "stream",
     "text": [
      "  > Métriques avant division calculées.\n",
      "  > Métriques après division calculées.\n",
      "  > Métriques après attaque calculées.\n",
      "\n",
      "--- Temps t = 90 ---\n",
      "  > Métriques avant division calculées.\n",
      "  > Métriques après division calculées.\n",
      "  > Métriques après attaque calculées.\n",
      "\n",
      "--- Temps t = 91 ---\n"
     ]
    },
    {
     "name": "stderr",
     "output_type": "stream",
     "text": [
      "Simulation en cours:  92%|███████████████████████████████████████████████████████▏    | 92/100 [00:17<00:01,  6.49it/s]"
     ]
    },
    {
     "name": "stdout",
     "output_type": "stream",
     "text": [
      "  > Métriques avant division calculées.\n",
      "  > Métriques après division calculées.\n",
      "  > Métriques après attaque calculées.\n",
      "\n",
      "--- Temps t = 92 ---\n",
      "  > Métriques avant division calculées.\n",
      "  > Métriques après division calculées.\n",
      "  > Métriques après attaque calculées.\n"
     ]
    },
    {
     "name": "stderr",
     "output_type": "stream",
     "text": [
      "Simulation en cours:  94%|████████████████████████████████████████████████████████▍   | 94/100 [00:17<00:00,  6.36it/s]"
     ]
    },
    {
     "name": "stdout",
     "output_type": "stream",
     "text": [
      "\n",
      "--- Temps t = 93 ---\n",
      "  > Métriques avant division calculées.\n",
      "  > Métriques après division calculées.\n",
      "  > Métriques après attaque calculées.\n",
      "\n",
      "--- Temps t = 94 ---\n",
      "  > Métriques avant division calculées.\n",
      "  > Métriques après division calculées.\n"
     ]
    },
    {
     "name": "stderr",
     "output_type": "stream",
     "text": [
      "Simulation en cours:  96%|█████████████████████████████████████████████████████████▌  | 96/100 [00:17<00:00,  6.27it/s]"
     ]
    },
    {
     "name": "stdout",
     "output_type": "stream",
     "text": [
      "  > Métriques après attaque calculées.\n",
      "\n",
      "--- Temps t = 95 ---\n",
      "  > Métriques avant division calculées.\n",
      "  > Métriques après division calculées.\n",
      "  > Métriques après attaque calculées.\n",
      "\n",
      "--- Temps t = 96 ---\n"
     ]
    },
    {
     "name": "stderr",
     "output_type": "stream",
     "text": [
      "Simulation en cours:  97%|██████████████████████████████████████████████████████████▏ | 97/100 [00:17<00:00,  6.37it/s]"
     ]
    },
    {
     "name": "stdout",
     "output_type": "stream",
     "text": [
      "  > Métriques avant division calculées.\n",
      "  > Métriques après division calculées.\n",
      "  > Métriques après attaque calculées.\n",
      "\n",
      "--- Temps t = 97 ---\n",
      "  > Métriques avant division calculées.\n",
      "  > Métriques après division calculées.\n",
      "  > Métriques après attaque calculées.\n"
     ]
    },
    {
     "name": "stderr",
     "output_type": "stream",
     "text": [
      "Simulation en cours:  99%|███████████████████████████████████████████████████████████▍| 99/100 [00:18<00:00,  6.41it/s]"
     ]
    },
    {
     "name": "stdout",
     "output_type": "stream",
     "text": [
      "\n",
      "--- Temps t = 98 ---\n",
      "  > Métriques avant division calculées.\n",
      "  > Métriques après division calculées.\n",
      "  > Métriques après attaque calculées.\n",
      "\n",
      "--- Temps t = 99 ---\n",
      "  > Métriques avant division calculées.\n",
      "  > Métriques après division calculées.\n"
     ]
    },
    {
     "name": "stderr",
     "output_type": "stream",
     "text": [
      "Simulation en cours: 100%|███████████████████████████████████████████████████████████| 100/100 [00:18<00:00,  5.44it/s]\n"
     ]
    },
    {
     "name": "stdout",
     "output_type": "stream",
     "text": [
      "  > Métriques après attaque calculées.\n",
      "Traitement de l’algorithme : RND\n"
     ]
    },
    {
     "name": "stderr",
     "output_type": "stream",
     "text": [
      "Simulation en cours:   1%|▌                                                            | 1/100 [00:00<00:16,  6.15it/s]"
     ]
    },
    {
     "name": "stdout",
     "output_type": "stream",
     "text": [
      "\n",
      "--- Temps t = 0 ---\n",
      "  > Métriques avant division calculées.\n",
      "  > Métriques après division calculées.\n",
      "  > Métriques après attaque calculées.\n",
      "\n",
      "--- Temps t = 1 ---\n",
      "  > Métriques avant division calculées.\n",
      "  > Métriques après division calculées.\n"
     ]
    },
    {
     "name": "stderr",
     "output_type": "stream",
     "text": [
      "Simulation en cours:   3%|█▊                                                           | 3/100 [00:00<00:15,  6.17it/s]"
     ]
    },
    {
     "name": "stdout",
     "output_type": "stream",
     "text": [
      "  > Métriques après attaque calculées.\n",
      "\n",
      "--- Temps t = 2 ---\n",
      "  > Métriques avant division calculées.\n",
      "  > Métriques après division calculées.\n",
      "  > Métriques après attaque calculées.\n",
      "\n",
      "--- Temps t = 3 ---\n"
     ]
    },
    {
     "name": "stderr",
     "output_type": "stream",
     "text": [
      "Simulation en cours:   5%|███                                                          | 5/100 [00:00<00:16,  5.89it/s]"
     ]
    },
    {
     "name": "stdout",
     "output_type": "stream",
     "text": [
      "  > Métriques avant division calculées.\n",
      "  > Métriques après division calculées.\n",
      "  > Métriques après attaque calculées.\n",
      "\n",
      "--- Temps t = 4 ---\n",
      "  > Métriques avant division calculées.\n",
      "  > Métriques après division calculées.\n",
      "  > Métriques après attaque calculées.\n"
     ]
    },
    {
     "name": "stderr",
     "output_type": "stream",
     "text": [
      "Simulation en cours:   6%|███▋                                                         | 6/100 [00:01<00:15,  6.05it/s]"
     ]
    },
    {
     "name": "stdout",
     "output_type": "stream",
     "text": [
      "\n",
      "--- Temps t = 5 ---\n",
      "  > Métriques avant division calculées.\n",
      "  > Métriques après division calculées.\n",
      "  > Métriques après attaque calculées.\n",
      "\n",
      "--- Temps t = 6 ---\n"
     ]
    },
    {
     "name": "stderr",
     "output_type": "stream",
     "text": [
      "Simulation en cours:   8%|████▉                                                        | 8/100 [00:01<00:15,  6.11it/s]"
     ]
    },
    {
     "name": "stdout",
     "output_type": "stream",
     "text": [
      "  > Métriques avant division calculées.\n",
      "  > Métriques après division calculées.\n",
      "  > Métriques après attaque calculées.\n",
      "\n",
      "--- Temps t = 7 ---\n",
      "  > Métriques avant division calculées.\n",
      "  > Métriques après division calculées.\n",
      "  > Métriques après attaque calculées.\n",
      "\n",
      "--- Temps t = 8 ---\n"
     ]
    },
    {
     "name": "stderr",
     "output_type": "stream",
     "text": [
      "Simulation en cours:   9%|█████▍                                                       | 9/100 [00:01<00:14,  6.16it/s]"
     ]
    },
    {
     "name": "stdout",
     "output_type": "stream",
     "text": [
      "  > Métriques avant division calculées.\n",
      "  > Métriques après division calculées.\n",
      "  > Métriques après attaque calculées.\n",
      "\n",
      "--- Temps t = 9 ---\n",
      "  > Métriques avant division calculées.\n",
      "  > Métriques après division calculées.\n",
      "  > Métriques après attaque calculées.\n"
     ]
    },
    {
     "name": "stderr",
     "output_type": "stream",
     "text": [
      "Simulation en cours:  11%|██████▌                                                     | 11/100 [00:01<00:14,  6.24it/s]"
     ]
    },
    {
     "name": "stdout",
     "output_type": "stream",
     "text": [
      "\n",
      "--- Temps t = 10 ---\n",
      "  > Métriques avant division calculées.\n",
      "  > Métriques après division calculées.\n",
      "  > Métriques après attaque calculées.\n",
      "\n",
      "--- Temps t = 11 ---\n"
     ]
    },
    {
     "name": "stderr",
     "output_type": "stream",
     "text": [
      "Simulation en cours:  13%|███████▊                                                    | 13/100 [00:02<00:13,  6.25it/s]"
     ]
    },
    {
     "name": "stdout",
     "output_type": "stream",
     "text": [
      "  > Métriques avant division calculées.\n",
      "  > Métriques après division calculées.\n",
      "  > Métriques après attaque calculées.\n",
      "\n",
      "--- Temps t = 12 ---\n",
      "  > Métriques avant division calculées.\n",
      "  > Métriques après division calculées.\n",
      "  > Métriques après attaque calculées.\n",
      "\n",
      "--- Temps t = 13 ---\n"
     ]
    },
    {
     "name": "stderr",
     "output_type": "stream",
     "text": [
      "Simulation en cours:  14%|████████▍                                                   | 14/100 [00:02<00:13,  6.34it/s]"
     ]
    },
    {
     "name": "stdout",
     "output_type": "stream",
     "text": [
      "  > Métriques avant division calculées.\n",
      "  > Métriques après division calculées.\n",
      "  > Métriques après attaque calculées.\n",
      "\n",
      "--- Temps t = 14 ---\n",
      "  > Métriques avant division calculées.\n",
      "  > Métriques après division calculées.\n"
     ]
    },
    {
     "name": "stderr",
     "output_type": "stream",
     "text": [
      "Simulation en cours:  16%|█████████▌                                                  | 16/100 [00:02<00:13,  6.45it/s]"
     ]
    },
    {
     "name": "stdout",
     "output_type": "stream",
     "text": [
      "  > Métriques après attaque calculées.\n",
      "\n",
      "--- Temps t = 15 ---\n",
      "  > Métriques avant division calculées.\n",
      "  > Métriques après division calculées.\n",
      "  > Métriques après attaque calculées.\n",
      "\n",
      "--- Temps t = 16 ---\n",
      "  > Métriques avant division calculées.\n"
     ]
    },
    {
     "name": "stderr",
     "output_type": "stream",
     "text": [
      "Simulation en cours:  18%|██████████▊                                                 | 18/100 [00:02<00:12,  6.44it/s]"
     ]
    },
    {
     "name": "stdout",
     "output_type": "stream",
     "text": [
      "  > Métriques après division calculées.\n",
      "  > Métriques après attaque calculées.\n",
      "\n",
      "--- Temps t = 17 ---\n",
      "  > Métriques avant division calculées.\n",
      "  > Métriques après division calculées.\n",
      "  > Métriques après attaque calculées.\n"
     ]
    },
    {
     "name": "stderr",
     "output_type": "stream",
     "text": [
      "Simulation en cours:  19%|███████████▍                                                | 19/100 [00:03<00:12,  6.53it/s]"
     ]
    },
    {
     "name": "stdout",
     "output_type": "stream",
     "text": [
      "\n",
      "--- Temps t = 18 ---\n",
      "  > Métriques avant division calculées.\n",
      "  > Métriques après division calculées.\n",
      "  > Métriques après attaque calculées.\n",
      "\n",
      "--- Temps t = 19 ---\n"
     ]
    },
    {
     "name": "stderr",
     "output_type": "stream",
     "text": [
      "Simulation en cours:  21%|████████████▌                                               | 21/100 [00:03<00:11,  6.66it/s]"
     ]
    },
    {
     "name": "stdout",
     "output_type": "stream",
     "text": [
      "  > Métriques avant division calculées.\n",
      "  > Métriques après division calculées.\n",
      "  > Métriques après attaque calculées.\n",
      "\n",
      "--- Temps t = 20 ---\n",
      "  > Métriques avant division calculées.\n",
      "  > Métriques après division calculées.\n",
      "  > Métriques après attaque calculées.\n",
      "\n",
      "--- Temps t = 21 ---\n"
     ]
    },
    {
     "name": "stderr",
     "output_type": "stream",
     "text": [
      "Simulation en cours:  22%|█████████████▏                                              | 22/100 [00:03<00:12,  6.41it/s]"
     ]
    },
    {
     "name": "stdout",
     "output_type": "stream",
     "text": [
      "  > Métriques avant division calculées.\n",
      "  > Métriques après division calculées.\n",
      "  > Métriques après attaque calculées.\n",
      "\n",
      "--- Temps t = 22 ---\n",
      "  > Métriques avant division calculées.\n",
      "  > Métriques après division calculées.\n",
      "  > Métriques après attaque calculées.\n"
     ]
    },
    {
     "name": "stderr",
     "output_type": "stream",
     "text": [
      "Simulation en cours:  24%|██████████████▍                                             | 24/100 [00:03<00:11,  6.50it/s]"
     ]
    },
    {
     "name": "stdout",
     "output_type": "stream",
     "text": [
      "\n",
      "--- Temps t = 23 ---\n",
      "  > Métriques avant division calculées.\n",
      "  > Métriques après division calculées.\n",
      "  > Métriques après attaque calculées.\n",
      "\n",
      "--- Temps t = 24 ---\n"
     ]
    },
    {
     "name": "stderr",
     "output_type": "stream",
     "text": [
      "Simulation en cours:  26%|███████████████▌                                            | 26/100 [00:04<00:11,  6.48it/s]"
     ]
    },
    {
     "name": "stdout",
     "output_type": "stream",
     "text": [
      "  > Métriques avant division calculées.\n",
      "  > Métriques après division calculées.\n",
      "  > Métriques après attaque calculées.\n",
      "\n",
      "--- Temps t = 25 ---\n",
      "  > Métriques avant division calculées.\n",
      "  > Métriques après division calculées.\n",
      "  > Métriques après attaque calculées.\n",
      "\n",
      "--- Temps t = 26 ---\n"
     ]
    },
    {
     "name": "stderr",
     "output_type": "stream",
     "text": [
      "Simulation en cours:  28%|████████████████▊                                           | 28/100 [00:04<00:11,  6.51it/s]"
     ]
    },
    {
     "name": "stdout",
     "output_type": "stream",
     "text": [
      "  > Métriques avant division calculées.\n",
      "  > Métriques après division calculées.\n",
      "  > Métriques après attaque calculées.\n",
      "\n",
      "--- Temps t = 27 ---\n",
      "  > Métriques avant division calculées.\n",
      "  > Métriques après division calculées.\n",
      "  > Métriques après attaque calculées.\n",
      "\n",
      "--- Temps t = 28 ---\n"
     ]
    },
    {
     "name": "stderr",
     "output_type": "stream",
     "text": [
      "Simulation en cours:  30%|██████████████████                                          | 30/100 [00:04<00:10,  6.57it/s]"
     ]
    },
    {
     "name": "stdout",
     "output_type": "stream",
     "text": [
      "  > Métriques avant division calculées.\n",
      "  > Métriques après division calculées.\n",
      "  > Métriques après attaque calculées.\n",
      "\n",
      "--- Temps t = 29 ---\n",
      "  > Métriques avant division calculées.\n",
      "  > Métriques après division calculées.\n",
      "  > Métriques après attaque calculées.\n",
      "\n",
      "--- Temps t = 30 ---\n"
     ]
    },
    {
     "name": "stderr",
     "output_type": "stream",
     "text": [
      "Simulation en cours:  32%|███████████████████▏                                        | 32/100 [00:05<00:10,  6.58it/s]"
     ]
    },
    {
     "name": "stdout",
     "output_type": "stream",
     "text": [
      "  > Métriques avant division calculées.\n",
      "  > Métriques après division calculées.\n",
      "  > Métriques après attaque calculées.\n",
      "\n",
      "--- Temps t = 31 ---\n",
      "  > Métriques avant division calculées.\n",
      "  > Métriques après division calculées.\n",
      "  > Métriques après attaque calculées.\n"
     ]
    },
    {
     "name": "stderr",
     "output_type": "stream",
     "text": [
      "Simulation en cours:  33%|███████████████████▊                                        | 33/100 [00:05<00:10,  6.40it/s]"
     ]
    },
    {
     "name": "stdout",
     "output_type": "stream",
     "text": [
      "\n",
      "--- Temps t = 32 ---\n",
      "  > Métriques avant division calculées.\n",
      "  > Métriques après division calculées.\n",
      "  > Métriques après attaque calculées.\n",
      "\n",
      "--- Temps t = 33 ---\n"
     ]
    },
    {
     "name": "stderr",
     "output_type": "stream",
     "text": [
      "Simulation en cours:  34%|████████████████████▍                                       | 34/100 [00:05<00:10,  6.50it/s]"
     ]
    },
    {
     "name": "stdout",
     "output_type": "stream",
     "text": [
      "  > Métriques avant division calculées.\n",
      "  > Métriques après division calculées.\n",
      "  > Métriques après attaque calculées.\n",
      "\n",
      "--- Temps t = 34 ---\n",
      "  > Métriques avant division calculées.\n",
      "  > Métriques après division calculées.\n",
      "  > Métriques après attaque calculées.\n"
     ]
    },
    {
     "name": "stderr",
     "output_type": "stream",
     "text": [
      "Simulation en cours:  36%|█████████████████████▌                                      | 36/100 [00:05<00:09,  6.50it/s]"
     ]
    },
    {
     "name": "stdout",
     "output_type": "stream",
     "text": [
      "\n",
      "--- Temps t = 35 ---\n",
      "  > Métriques avant division calculées.\n",
      "  > Métriques après division calculées.\n",
      "  > Métriques après attaque calculées.\n",
      "\n",
      "--- Temps t = 36 ---\n"
     ]
    },
    {
     "name": "stderr",
     "output_type": "stream",
     "text": [
      "Simulation en cours:  38%|██████████████████████▊                                     | 38/100 [00:05<00:09,  6.58it/s]"
     ]
    },
    {
     "name": "stdout",
     "output_type": "stream",
     "text": [
      "  > Métriques avant division calculées.\n",
      "  > Métriques après division calculées.\n",
      "  > Métriques après attaque calculées.\n",
      "\n",
      "--- Temps t = 37 ---\n",
      "  > Métriques avant division calculées.\n",
      "  > Métriques après division calculées.\n",
      "  > Métriques après attaque calculées.\n"
     ]
    },
    {
     "name": "stderr",
     "output_type": "stream",
     "text": [
      "Simulation en cours:  39%|███████████████████████▍                                    | 39/100 [00:06<00:09,  6.43it/s]"
     ]
    },
    {
     "name": "stdout",
     "output_type": "stream",
     "text": [
      "\n",
      "--- Temps t = 38 ---\n",
      "  > Métriques avant division calculées.\n",
      "  > Métriques après division calculées.\n",
      "  > Métriques après attaque calculées.\n",
      "\n",
      "--- Temps t = 39 ---\n"
     ]
    },
    {
     "name": "stderr",
     "output_type": "stream",
     "text": [
      "Simulation en cours:  41%|████████████████████████▌                                   | 41/100 [00:06<00:09,  6.42it/s]"
     ]
    },
    {
     "name": "stdout",
     "output_type": "stream",
     "text": [
      "  > Métriques avant division calculées.\n",
      "  > Métriques après division calculées.\n",
      "  > Métriques après attaque calculées.\n",
      "\n",
      "--- Temps t = 40 ---\n",
      "  > Métriques avant division calculées.\n",
      "  > Métriques après division calculées.\n",
      "  > Métriques après attaque calculées.\n"
     ]
    },
    {
     "name": "stderr",
     "output_type": "stream",
     "text": [
      "Simulation en cours:  43%|█████████████████████████▊                                  | 43/100 [00:06<00:08,  6.44it/s]"
     ]
    },
    {
     "name": "stdout",
     "output_type": "stream",
     "text": [
      "\n",
      "--- Temps t = 41 ---\n",
      "  > Métriques avant division calculées.\n",
      "  > Métriques après division calculées.\n",
      "  > Métriques après attaque calculées.\n",
      "\n",
      "--- Temps t = 42 ---\n",
      "  > Métriques avant division calculées.\n",
      "  > Métriques après division calculées.\n",
      "  > Métriques après attaque calculées.\n"
     ]
    },
    {
     "name": "stderr",
     "output_type": "stream",
     "text": [
      "Simulation en cours:  44%|██████████████████████████▍                                 | 44/100 [00:06<00:08,  6.49it/s]"
     ]
    },
    {
     "name": "stdout",
     "output_type": "stream",
     "text": [
      "\n",
      "--- Temps t = 43 ---\n",
      "  > Métriques avant division calculées.\n",
      "  > Métriques après division calculées.\n",
      "  > Métriques après attaque calculées.\n",
      "\n",
      "--- Temps t = 44 ---\n",
      "  > Métriques avant division calculées.\n",
      "  > Métriques après division calculées.\n"
     ]
    },
    {
     "name": "stderr",
     "output_type": "stream",
     "text": [
      "Simulation en cours:  46%|███████████████████████████▌                                | 46/100 [00:07<00:08,  6.44it/s]"
     ]
    },
    {
     "name": "stdout",
     "output_type": "stream",
     "text": [
      "  > Métriques après attaque calculées.\n",
      "\n",
      "--- Temps t = 45 ---\n",
      "  > Métriques avant division calculées.\n",
      "  > Métriques après division calculées.\n",
      "  > Métriques après attaque calculées.\n",
      "\n",
      "--- Temps t = 46 ---\n"
     ]
    },
    {
     "name": "stderr",
     "output_type": "stream",
     "text": [
      "Simulation en cours:  47%|████████████████████████████▏                               | 47/100 [00:07<00:08,  6.43it/s]"
     ]
    },
    {
     "name": "stdout",
     "output_type": "stream",
     "text": [
      "  > Métriques avant division calculées.\n",
      "  > Métriques après division calculées.\n",
      "  > Métriques après attaque calculées.\n",
      "\n",
      "--- Temps t = 47 ---\n",
      "  > Métriques avant division calculées.\n",
      "  > Métriques après division calculées.\n",
      "  > Métriques après attaque calculées.\n"
     ]
    },
    {
     "name": "stderr",
     "output_type": "stream",
     "text": [
      "Simulation en cours:  49%|█████████████████████████████▍                              | 49/100 [00:07<00:08,  6.28it/s]"
     ]
    },
    {
     "name": "stdout",
     "output_type": "stream",
     "text": [
      "\n",
      "--- Temps t = 48 ---\n",
      "  > Métriques avant division calculées.\n",
      "  > Métriques après division calculées.\n",
      "  > Métriques après attaque calculées.\n",
      "\n",
      "--- Temps t = 49 ---\n"
     ]
    },
    {
     "name": "stderr",
     "output_type": "stream",
     "text": [
      "Simulation en cours:  51%|██████████████████████████████▌                             | 51/100 [00:07<00:07,  6.42it/s]"
     ]
    },
    {
     "name": "stdout",
     "output_type": "stream",
     "text": [
      "  > Métriques avant division calculées.\n",
      "  > Métriques après division calculées.\n",
      "  > Métriques après attaque calculées.\n",
      "\n",
      "--- Temps t = 50 ---\n",
      "  > Métriques avant division calculées.\n",
      "  > Métriques après division calculées.\n",
      "  > Métriques après attaque calculées.\n"
     ]
    },
    {
     "name": "stderr",
     "output_type": "stream",
     "text": [
      "Simulation en cours:  53%|███████████████████████████████▊                            | 53/100 [00:08<00:06,  7.22it/s]"
     ]
    },
    {
     "name": "stdout",
     "output_type": "stream",
     "text": [
      "\n",
      "--- Temps t = 51 ---\n",
      "  > Métriques avant division calculées.\n",
      "  > Métriques après division calculées.\n",
      "  > Métriques après attaque calculées.\n",
      "\n",
      "--- Temps t = 52 ---\n",
      "  > Métriques avant division calculées.\n",
      "  > Métriques après division calculées.\n",
      "  > Métriques après attaque calculées.\n"
     ]
    },
    {
     "name": "stderr",
     "output_type": "stream",
     "text": [
      "Simulation en cours:  54%|████████████████████████████████▍                           | 54/100 [00:08<00:06,  7.28it/s]"
     ]
    },
    {
     "name": "stdout",
     "output_type": "stream",
     "text": [
      "\n",
      "--- Temps t = 53 ---\n",
      "  > Métriques avant division calculées.\n",
      "  > Métriques après division calculées.\n",
      "  > Métriques après attaque calculées.\n",
      "\n",
      "--- Temps t = 54 ---\n"
     ]
    },
    {
     "name": "stderr",
     "output_type": "stream",
     "text": [
      "Simulation en cours:  56%|█████████████████████████████████▌                          | 56/100 [00:08<00:05,  7.75it/s]"
     ]
    },
    {
     "name": "stdout",
     "output_type": "stream",
     "text": [
      "  > Métriques avant division calculées.\n",
      "  > Métriques après division calculées.\n",
      "  > Métriques après attaque calculées.\n",
      "\n",
      "--- Temps t = 55 ---\n",
      "  > Métriques avant division calculées.\n",
      "  > Métriques après division calculées.\n",
      "  > Métriques après attaque calculées.\n",
      "\n",
      "--- Temps t = 56 ---\n",
      "  > Métriques avant division calculées.\n"
     ]
    },
    {
     "name": "stderr",
     "output_type": "stream",
     "text": [
      "Simulation en cours:  58%|██████████████████████████████████▊                         | 58/100 [00:08<00:05,  8.13it/s]"
     ]
    },
    {
     "name": "stdout",
     "output_type": "stream",
     "text": [
      "  > Métriques après division calculées.\n",
      "  > Métriques après attaque calculées.\n",
      "\n",
      "--- Temps t = 57 ---\n",
      "  > Métriques avant division calculées.\n",
      "  > Métriques après division calculées.\n",
      "  > Métriques après attaque calculées.\n",
      "\n",
      "--- Temps t = 58 ---\n",
      "  > Métriques avant division calculées.\n",
      "  > Métriques après division calculées.\n"
     ]
    },
    {
     "name": "stderr",
     "output_type": "stream",
     "text": [
      "Simulation en cours:  60%|████████████████████████████████████                        | 60/100 [00:09<00:04,  8.34it/s]"
     ]
    },
    {
     "name": "stdout",
     "output_type": "stream",
     "text": [
      "  > Métriques après attaque calculées.\n",
      "\n",
      "--- Temps t = 59 ---\n",
      "  > Métriques avant division calculées.\n",
      "  > Métriques après division calculées.\n",
      "  > Métriques après attaque calculées.\n",
      "\n",
      "--- Temps t = 60 ---\n",
      "  > Métriques avant division calculées.\n",
      "  > Métriques après division calculées.\n"
     ]
    },
    {
     "name": "stderr",
     "output_type": "stream",
     "text": [
      "Simulation en cours:  62%|█████████████████████████████████████▏                      | 62/100 [00:09<00:04,  8.27it/s]"
     ]
    },
    {
     "name": "stdout",
     "output_type": "stream",
     "text": [
      "  > Métriques après attaque calculées.\n",
      "\n",
      "--- Temps t = 61 ---\n",
      "  > Métriques avant division calculées.\n",
      "  > Métriques après division calculées.\n",
      "  > Métriques après attaque calculées.\n",
      "\n",
      "--- Temps t = 62 ---\n",
      "  > Métriques avant division calculées.\n",
      "  > Métriques après division calculées.\n"
     ]
    },
    {
     "name": "stderr",
     "output_type": "stream",
     "text": [
      "Simulation en cours:  64%|██████████████████████████████████████▍                     | 64/100 [00:09<00:04,  8.63it/s]"
     ]
    },
    {
     "name": "stdout",
     "output_type": "stream",
     "text": [
      "  > Métriques après attaque calculées.\n",
      "\n",
      "--- Temps t = 63 ---\n",
      "  > Métriques avant division calculées.\n",
      "  > Métriques après division calculées.\n",
      "  > Métriques après attaque calculées.\n",
      "\n",
      "--- Temps t = 64 ---\n",
      "  > Métriques avant division calculées.\n",
      "  > Métriques après division calculées.\n"
     ]
    },
    {
     "name": "stderr",
     "output_type": "stream",
     "text": [
      "Simulation en cours:  66%|███████████████████████████████████████▌                    | 66/100 [00:09<00:04,  8.04it/s]"
     ]
    },
    {
     "name": "stdout",
     "output_type": "stream",
     "text": [
      "  > Métriques après attaque calculées.\n",
      "\n",
      "--- Temps t = 65 ---\n",
      "  > Métriques avant division calculées.\n",
      "  > Métriques après division calculées.\n",
      "  > Métriques après attaque calculées.\n",
      "\n",
      "--- Temps t = 66 ---\n",
      "  > Métriques avant division calculées.\n"
     ]
    },
    {
     "name": "stderr",
     "output_type": "stream",
     "text": [
      "Simulation en cours:  68%|████████████████████████████████████████▊                   | 68/100 [00:10<00:03,  8.45it/s]"
     ]
    },
    {
     "name": "stdout",
     "output_type": "stream",
     "text": [
      "  > Métriques après division calculées.\n",
      "  > Métriques après attaque calculées.\n",
      "\n",
      "--- Temps t = 67 ---\n",
      "  > Métriques avant division calculées.\n",
      "  > Métriques après division calculées.\n",
      "  > Métriques après attaque calculées.\n",
      "\n",
      "--- Temps t = 68 ---\n",
      "  > Métriques avant division calculées.\n",
      "  > Métriques après division calculées.\n"
     ]
    },
    {
     "name": "stderr",
     "output_type": "stream",
     "text": [
      "Simulation en cours:  70%|██████████████████████████████████████████                  | 70/100 [00:10<00:03,  8.66it/s]"
     ]
    },
    {
     "name": "stdout",
     "output_type": "stream",
     "text": [
      "  > Métriques après attaque calculées.\n",
      "\n",
      "--- Temps t = 69 ---\n",
      "  > Métriques avant division calculées.\n",
      "  > Métriques après division calculées.\n",
      "  > Métriques après attaque calculées.\n",
      "\n",
      "--- Temps t = 70 ---\n",
      "  > Métriques avant division calculées.\n",
      "  > Métriques après division calculées.\n",
      "  > Métriques après attaque calculées.\n"
     ]
    },
    {
     "name": "stderr",
     "output_type": "stream",
     "text": [
      "Simulation en cours:  73%|███████████████████████████████████████████▊                | 73/100 [00:10<00:03,  8.78it/s]"
     ]
    },
    {
     "name": "stdout",
     "output_type": "stream",
     "text": [
      "\n",
      "--- Temps t = 71 ---\n",
      "  > Métriques avant division calculées.\n",
      "  > Métriques après division calculées.\n",
      "  > Métriques après attaque calculées.\n",
      "\n",
      "--- Temps t = 72 ---\n",
      "  > Métriques avant division calculées.\n",
      "  > Métriques après division calculées.\n",
      "  > Métriques après attaque calculées.\n"
     ]
    },
    {
     "name": "stderr",
     "output_type": "stream",
     "text": [
      "Simulation en cours:  74%|████████████████████████████████████████████▍               | 74/100 [00:10<00:02,  8.88it/s]"
     ]
    },
    {
     "name": "stdout",
     "output_type": "stream",
     "text": [
      "\n",
      "--- Temps t = 73 ---\n",
      "  > Métriques avant division calculées.\n",
      "  > Métriques après division calculées.\n",
      "  > Métriques après attaque calculées.\n",
      "\n",
      "--- Temps t = 74 ---\n",
      "  > Métriques avant division calculées.\n",
      "  > Métriques après division calculées.\n",
      "  > Métriques après attaque calculées.\n"
     ]
    },
    {
     "name": "stderr",
     "output_type": "stream",
     "text": [
      "Simulation en cours:  76%|█████████████████████████████████████████████▌              | 76/100 [00:10<00:02,  8.66it/s]"
     ]
    },
    {
     "name": "stdout",
     "output_type": "stream",
     "text": [
      "\n",
      "--- Temps t = 75 ---\n",
      "  > Métriques avant division calculées.\n",
      "  > Métriques après division calculées.\n",
      "  > Métriques après attaque calculées.\n",
      "\n",
      "--- Temps t = 76 ---\n",
      "  > Métriques avant division calculées.\n"
     ]
    },
    {
     "name": "stderr",
     "output_type": "stream",
     "text": [
      "Simulation en cours:  78%|██████████████████████████████████████████████▊             | 78/100 [00:11<00:02,  8.36it/s]"
     ]
    },
    {
     "name": "stdout",
     "output_type": "stream",
     "text": [
      "  > Métriques après division calculées.\n",
      "  > Métriques après attaque calculées.\n",
      "\n",
      "--- Temps t = 77 ---\n",
      "  > Métriques avant division calculées.\n",
      "  > Métriques après division calculées.\n",
      "  > Métriques après attaque calculées.\n",
      "\n",
      "--- Temps t = 78 ---\n",
      "  > Métriques avant division calculées.\n",
      "  > Métriques après division calculées.\n"
     ]
    },
    {
     "name": "stderr",
     "output_type": "stream",
     "text": [
      "Simulation en cours:  80%|████████████████████████████████████████████████            | 80/100 [00:11<00:02,  7.69it/s]"
     ]
    },
    {
     "name": "stdout",
     "output_type": "stream",
     "text": [
      "  > Métriques après attaque calculées.\n",
      "\n",
      "--- Temps t = 79 ---\n",
      "  > Métriques avant division calculées.\n",
      "  > Métriques après division calculées.\n",
      "  > Métriques après attaque calculées.\n",
      "\n",
      "--- Temps t = 80 ---\n",
      "  > Métriques avant division calculées.\n"
     ]
    },
    {
     "name": "stderr",
     "output_type": "stream",
     "text": [
      "Simulation en cours:  82%|█████████████████████████████████████████████████▏          | 82/100 [00:11<00:02,  8.14it/s]"
     ]
    },
    {
     "name": "stdout",
     "output_type": "stream",
     "text": [
      "  > Métriques après division calculées.\n",
      "  > Métriques après attaque calculées.\n",
      "\n",
      "--- Temps t = 81 ---\n",
      "  > Métriques avant division calculées.\n",
      "  > Métriques après division calculées.\n",
      "  > Métriques après attaque calculées.\n",
      "\n",
      "--- Temps t = 82 ---\n",
      "  > Métriques avant division calculées.\n",
      "  > Métriques après division calculées.\n"
     ]
    },
    {
     "name": "stderr",
     "output_type": "stream",
     "text": [
      "Simulation en cours:  84%|██████████████████████████████████████████████████▍         | 84/100 [00:11<00:01,  8.56it/s]"
     ]
    },
    {
     "name": "stdout",
     "output_type": "stream",
     "text": [
      "  > Métriques après attaque calculées.\n",
      "\n",
      "--- Temps t = 83 ---\n",
      "  > Métriques avant division calculées.\n",
      "  > Métriques après division calculées.\n",
      "  > Métriques après attaque calculées.\n",
      "\n",
      "--- Temps t = 84 ---\n",
      "  > Métriques avant division calculées.\n",
      "  > Métriques après division calculées.\n",
      "  > Métriques après attaque calculées.\n"
     ]
    },
    {
     "name": "stderr",
     "output_type": "stream",
     "text": [
      "Simulation en cours:  87%|████████████████████████████████████████████████████▏       | 87/100 [00:12<00:01,  8.80it/s]"
     ]
    },
    {
     "name": "stdout",
     "output_type": "stream",
     "text": [
      "\n",
      "--- Temps t = 85 ---\n",
      "  > Métriques avant division calculées.\n",
      "  > Métriques après division calculées.\n",
      "  > Métriques après attaque calculées.\n",
      "\n",
      "--- Temps t = 86 ---\n",
      "  > Métriques avant division calculées.\n",
      "  > Métriques après division calculées.\n",
      "  > Métriques après attaque calculées.\n"
     ]
    },
    {
     "name": "stderr",
     "output_type": "stream",
     "text": [
      "Simulation en cours:  88%|████████████████████████████████████████████████████▊       | 88/100 [00:12<00:01,  8.39it/s]"
     ]
    },
    {
     "name": "stdout",
     "output_type": "stream",
     "text": [
      "\n",
      "--- Temps t = 87 ---\n",
      "  > Métriques avant division calculées.\n",
      "  > Métriques après division calculées.\n",
      "  > Métriques après attaque calculées.\n",
      "\n",
      "--- Temps t = 88 ---\n",
      "  > Métriques avant division calculées.\n"
     ]
    },
    {
     "name": "stderr",
     "output_type": "stream",
     "text": [
      "Simulation en cours:  90%|██████████████████████████████████████████████████████      | 90/100 [00:12<00:01,  8.50it/s]"
     ]
    },
    {
     "name": "stdout",
     "output_type": "stream",
     "text": [
      "  > Métriques après division calculées.\n",
      "  > Métriques après attaque calculées.\n",
      "\n",
      "--- Temps t = 89 ---\n",
      "  > Métriques avant division calculées.\n",
      "  > Métriques après division calculées.\n",
      "  > Métriques après attaque calculées.\n",
      "\n",
      "--- Temps t = 90 ---\n",
      "  > Métriques avant division calculées.\n"
     ]
    },
    {
     "name": "stderr",
     "output_type": "stream",
     "text": [
      "Simulation en cours:  92%|███████████████████████████████████████████████████████▏    | 92/100 [00:12<00:00,  8.33it/s]"
     ]
    },
    {
     "name": "stdout",
     "output_type": "stream",
     "text": [
      "  > Métriques après division calculées.\n",
      "  > Métriques après attaque calculées.\n",
      "\n",
      "--- Temps t = 91 ---\n",
      "  > Métriques avant division calculées.\n",
      "  > Métriques après division calculées.\n",
      "  > Métriques après attaque calculées.\n",
      "\n",
      "--- Temps t = 92 ---\n",
      "  > Métriques avant division calculées.\n",
      "  > Métriques après division calculées.\n"
     ]
    },
    {
     "name": "stderr",
     "output_type": "stream",
     "text": [
      "Simulation en cours:  94%|████████████████████████████████████████████████████████▍   | 94/100 [00:13<00:00,  8.25it/s]"
     ]
    },
    {
     "name": "stdout",
     "output_type": "stream",
     "text": [
      "  > Métriques après attaque calculées.\n",
      "\n",
      "--- Temps t = 93 ---\n",
      "  > Métriques avant division calculées.\n",
      "  > Métriques après division calculées.\n",
      "  > Métriques après attaque calculées.\n",
      "\n",
      "--- Temps t = 94 ---\n",
      "  > Métriques avant division calculées.\n",
      "  > Métriques après division calculées.\n"
     ]
    },
    {
     "name": "stderr",
     "output_type": "stream",
     "text": [
      "Simulation en cours:  96%|█████████████████████████████████████████████████████████▌  | 96/100 [00:13<00:00,  8.38it/s]"
     ]
    },
    {
     "name": "stdout",
     "output_type": "stream",
     "text": [
      "  > Métriques après attaque calculées.\n",
      "\n",
      "--- Temps t = 95 ---\n",
      "  > Métriques avant division calculées.\n",
      "  > Métriques après division calculées.\n",
      "  > Métriques après attaque calculées.\n",
      "\n",
      "--- Temps t = 96 ---\n",
      "  > Métriques avant division calculées.\n",
      "  > Métriques après division calculées.\n"
     ]
    },
    {
     "name": "stderr",
     "output_type": "stream",
     "text": [
      "Simulation en cours:  98%|██████████████████████████████████████████████████████████▊ | 98/100 [00:13<00:00,  8.46it/s]"
     ]
    },
    {
     "name": "stdout",
     "output_type": "stream",
     "text": [
      "  > Métriques après attaque calculées.\n",
      "\n",
      "--- Temps t = 97 ---\n",
      "  > Métriques avant division calculées.\n",
      "  > Métriques après division calculées.\n",
      "  > Métriques après attaque calculées.\n",
      "\n",
      "--- Temps t = 98 ---\n",
      "  > Métriques avant division calculées.\n",
      "  > Métriques après division calculées.\n"
     ]
    },
    {
     "name": "stderr",
     "output_type": "stream",
     "text": [
      "Simulation en cours: 100%|███████████████████████████████████████████████████████████| 100/100 [00:13<00:00,  7.24it/s]\n"
     ]
    },
    {
     "name": "stdout",
     "output_type": "stream",
     "text": [
      "  > Métriques après attaque calculées.\n",
      "\n",
      "--- Temps t = 99 ---\n",
      "  > Métriques avant division calculées.\n",
      "  > Métriques après division calculées.\n",
      "  > Métriques après attaque calculées.\n",
      "Traitement de l’algorithme : MIRW\n"
     ]
    },
    {
     "name": "stderr",
     "output_type": "stream",
     "text": [
      "Simulation en cours:   0%|                                                                     | 0/100 [00:00<?, ?it/s]"
     ]
    },
    {
     "name": "stdout",
     "output_type": "stream",
     "text": [
      "\n",
      "--- Temps t = 0 ---\n",
      "  > Métriques avant division calculées.\n",
      "  > Métriques après division calculées.\n"
     ]
    },
    {
     "name": "stderr",
     "output_type": "stream",
     "text": [
      "Simulation en cours:   1%|▌                                                            | 1/100 [00:00<00:10,  9.44it/s]"
     ]
    },
    {
     "name": "stdout",
     "output_type": "stream",
     "text": [
      "  > Métriques après attaque calculées.\n",
      "\n",
      "--- Temps t = 1 ---\n",
      "  > Métriques avant division calculées.\n",
      "  > Métriques après division calculées.\n"
     ]
    },
    {
     "name": "stderr",
     "output_type": "stream",
     "text": [
      "Simulation en cours:   2%|█▏                                                           | 2/100 [00:00<00:11,  8.38it/s]"
     ]
    },
    {
     "name": "stdout",
     "output_type": "stream",
     "text": [
      "  > Métriques après attaque calculées.\n",
      "\n",
      "--- Temps t = 2 ---\n",
      "  > Métriques avant division calculées.\n",
      "  > Métriques après division calculées.\n"
     ]
    },
    {
     "name": "stderr",
     "output_type": "stream",
     "text": [
      "Simulation en cours:   3%|█▊                                                           | 3/100 [00:00<00:11,  8.74it/s]"
     ]
    },
    {
     "name": "stdout",
     "output_type": "stream",
     "text": [
      "  > Métriques après attaque calculées.\n",
      "\n",
      "--- Temps t = 3 ---\n",
      "  > Métriques avant division calculées.\n",
      "  > Métriques après division calculées.\n"
     ]
    },
    {
     "name": "stderr",
     "output_type": "stream",
     "text": [
      "Simulation en cours:   4%|██▍                                                          | 4/100 [00:00<00:10,  8.73it/s]"
     ]
    },
    {
     "name": "stdout",
     "output_type": "stream",
     "text": [
      "  > Métriques après attaque calculées.\n",
      "\n",
      "--- Temps t = 4 ---\n",
      "  > Métriques avant division calculées.\n",
      "  > Métriques après division calculées.\n"
     ]
    },
    {
     "name": "stderr",
     "output_type": "stream",
     "text": [
      "Simulation en cours:   5%|███                                                          | 5/100 [00:00<00:10,  8.83it/s]"
     ]
    },
    {
     "name": "stdout",
     "output_type": "stream",
     "text": [
      "  > Métriques après attaque calculées.\n",
      "\n",
      "--- Temps t = 5 ---\n",
      "  > Métriques avant division calculées.\n",
      "  > Métriques après division calculées.\n"
     ]
    },
    {
     "name": "stderr",
     "output_type": "stream",
     "text": [
      "Simulation en cours:   6%|███▋                                                         | 6/100 [00:00<00:10,  8.92it/s]"
     ]
    },
    {
     "name": "stdout",
     "output_type": "stream",
     "text": [
      "  > Métriques après attaque calculées.\n",
      "\n",
      "--- Temps t = 6 ---\n",
      "  > Métriques avant division calculées.\n",
      "  > Métriques après division calculées.\n"
     ]
    },
    {
     "name": "stderr",
     "output_type": "stream",
     "text": [
      "Simulation en cours:   7%|████▎                                                        | 7/100 [00:00<00:10,  8.97it/s]"
     ]
    },
    {
     "name": "stdout",
     "output_type": "stream",
     "text": [
      "  > Métriques après attaque calculées.\n",
      "\n",
      "--- Temps t = 7 ---\n",
      "  > Métriques avant division calculées.\n",
      "  > Métriques après division calculées.\n"
     ]
    },
    {
     "name": "stderr",
     "output_type": "stream",
     "text": [
      "Simulation en cours:   8%|████▉                                                        | 8/100 [00:00<00:10,  8.61it/s]"
     ]
    },
    {
     "name": "stdout",
     "output_type": "stream",
     "text": [
      "  > Métriques après attaque calculées.\n",
      "\n",
      "--- Temps t = 8 ---\n",
      "  > Métriques avant division calculées.\n",
      "  > Métriques après division calculées.\n"
     ]
    },
    {
     "name": "stderr",
     "output_type": "stream",
     "text": [
      "Simulation en cours:   9%|█████▍                                                       | 9/100 [00:01<00:10,  8.83it/s]"
     ]
    },
    {
     "name": "stdout",
     "output_type": "stream",
     "text": [
      "  > Métriques après attaque calculées.\n",
      "\n",
      "--- Temps t = 9 ---\n",
      "  > Métriques avant division calculées.\n",
      "  > Métriques après division calculées.\n",
      "  > Métriques après attaque calculées.\n"
     ]
    },
    {
     "name": "stderr",
     "output_type": "stream",
     "text": [
      "Simulation en cours:  10%|██████                                                      | 10/100 [00:01<00:10,  8.41it/s]"
     ]
    },
    {
     "name": "stdout",
     "output_type": "stream",
     "text": [
      "\n",
      "--- Temps t = 10 ---\n",
      "  > Métriques avant division calculées.\n"
     ]
    },
    {
     "name": "stderr",
     "output_type": "stream",
     "text": [
      "Simulation en cours:  11%|██████▌                                                     | 11/100 [00:01<00:10,  8.53it/s]"
     ]
    },
    {
     "name": "stdout",
     "output_type": "stream",
     "text": [
      "  > Métriques après division calculées.\n",
      "  > Métriques après attaque calculées.\n",
      "\n",
      "--- Temps t = 11 ---\n",
      "  > Métriques avant division calculées.\n",
      "  > Métriques après division calculées.\n"
     ]
    },
    {
     "name": "stderr",
     "output_type": "stream",
     "text": [
      "Simulation en cours:  12%|███████▏                                                    | 12/100 [00:01<00:10,  8.53it/s]"
     ]
    },
    {
     "name": "stdout",
     "output_type": "stream",
     "text": [
      "  > Métriques après attaque calculées.\n",
      "\n",
      "--- Temps t = 12 ---\n",
      "  > Métriques avant division calculées.\n"
     ]
    },
    {
     "name": "stderr",
     "output_type": "stream",
     "text": [
      "Simulation en cours:  13%|███████▊                                                    | 13/100 [00:01<00:10,  8.64it/s]"
     ]
    },
    {
     "name": "stdout",
     "output_type": "stream",
     "text": [
      "  > Métriques après division calculées.\n",
      "  > Métriques après attaque calculées.\n",
      "\n",
      "--- Temps t = 13 ---\n",
      "  > Métriques avant division calculées.\n",
      "  > Métriques après division calculées.\n"
     ]
    },
    {
     "name": "stderr",
     "output_type": "stream",
     "text": [
      "Simulation en cours:  14%|████████▍                                                   | 14/100 [00:01<00:10,  8.45it/s]"
     ]
    },
    {
     "name": "stdout",
     "output_type": "stream",
     "text": [
      "  > Métriques après attaque calculées.\n",
      "\n",
      "--- Temps t = 14 ---\n",
      "  > Métriques avant division calculées.\n"
     ]
    },
    {
     "name": "stderr",
     "output_type": "stream",
     "text": [
      "Simulation en cours:  15%|█████████                                                   | 15/100 [00:01<00:10,  8.46it/s]"
     ]
    },
    {
     "name": "stdout",
     "output_type": "stream",
     "text": [
      "  > Métriques après division calculées.\n",
      "  > Métriques après attaque calculées.\n",
      "\n",
      "--- Temps t = 15 ---\n",
      "  > Métriques avant division calculées.\n",
      "  > Métriques après division calculées.\n"
     ]
    },
    {
     "name": "stderr",
     "output_type": "stream",
     "text": [
      "Simulation en cours:  16%|█████████▌                                                  | 16/100 [00:01<00:09,  8.45it/s]"
     ]
    },
    {
     "name": "stdout",
     "output_type": "stream",
     "text": [
      "  > Métriques après attaque calculées.\n",
      "\n",
      "--- Temps t = 16 ---\n",
      "  > Métriques avant division calculées.\n"
     ]
    },
    {
     "name": "stderr",
     "output_type": "stream",
     "text": [
      "Simulation en cours:  17%|██████████▏                                                 | 17/100 [00:01<00:09,  8.39it/s]"
     ]
    },
    {
     "name": "stdout",
     "output_type": "stream",
     "text": [
      "  > Métriques après division calculées.\n",
      "  > Métriques après attaque calculées.\n",
      "\n",
      "--- Temps t = 17 ---\n",
      "  > Métriques avant division calculées.\n",
      "  > Métriques après division calculées.\n"
     ]
    },
    {
     "name": "stderr",
     "output_type": "stream",
     "text": [
      "Simulation en cours:  18%|██████████▊                                                 | 18/100 [00:02<00:09,  8.69it/s]"
     ]
    },
    {
     "name": "stdout",
     "output_type": "stream",
     "text": [
      "  > Métriques après attaque calculées.\n",
      "\n",
      "--- Temps t = 18 ---\n",
      "  > Métriques avant division calculées.\n",
      "  > Métriques après division calculées.\n",
      "  > Métriques après attaque calculées.\n"
     ]
    },
    {
     "name": "stderr",
     "output_type": "stream",
     "text": [
      "Simulation en cours:  19%|███████████▍                                                | 19/100 [00:02<00:09,  8.75it/s]"
     ]
    },
    {
     "name": "stdout",
     "output_type": "stream",
     "text": [
      "\n",
      "--- Temps t = 19 ---\n",
      "  > Métriques avant division calculées.\n",
      "  > Métriques après division calculées.\n"
     ]
    },
    {
     "name": "stderr",
     "output_type": "stream",
     "text": [
      "Simulation en cours:  20%|████████████                                                | 20/100 [00:02<00:09,  8.86it/s]"
     ]
    },
    {
     "name": "stdout",
     "output_type": "stream",
     "text": [
      "  > Métriques après attaque calculées.\n",
      "\n",
      "--- Temps t = 20 ---\n",
      "  > Métriques avant division calculées.\n",
      "  > Métriques après division calculées.\n"
     ]
    },
    {
     "name": "stderr",
     "output_type": "stream",
     "text": [
      "Simulation en cours:  21%|████████████▌                                               | 21/100 [00:02<00:08,  8.82it/s]"
     ]
    },
    {
     "name": "stdout",
     "output_type": "stream",
     "text": [
      "  > Métriques après attaque calculées.\n",
      "\n",
      "--- Temps t = 21 ---\n",
      "  > Métriques avant division calculées.\n",
      "  > Métriques après division calculées.\n"
     ]
    },
    {
     "name": "stderr",
     "output_type": "stream",
     "text": [
      "Simulation en cours:  22%|█████████████▏                                              | 22/100 [00:02<00:08,  8.73it/s]"
     ]
    },
    {
     "name": "stdout",
     "output_type": "stream",
     "text": [
      "  > Métriques après attaque calculées.\n",
      "\n",
      "--- Temps t = 22 ---\n",
      "  > Métriques avant division calculées.\n",
      "  > Métriques après division calculées.\n"
     ]
    },
    {
     "name": "stderr",
     "output_type": "stream",
     "text": [
      "Simulation en cours:  23%|█████████████▊                                              | 23/100 [00:02<00:09,  8.46it/s]"
     ]
    },
    {
     "name": "stdout",
     "output_type": "stream",
     "text": [
      "  > Métriques après attaque calculées.\n",
      "\n",
      "--- Temps t = 23 ---\n",
      "  > Métriques avant division calculées.\n",
      "  > Métriques après division calculées.\n",
      "  > Métriques après attaque calculées.\n"
     ]
    },
    {
     "name": "stderr",
     "output_type": "stream",
     "text": [
      "Simulation en cours:  24%|██████████████▍                                             | 24/100 [00:02<00:08,  8.79it/s]"
     ]
    },
    {
     "name": "stdout",
     "output_type": "stream",
     "text": [
      "\n",
      "--- Temps t = 24 ---\n",
      "  > Métriques avant division calculées.\n",
      "  > Métriques après division calculées.\n"
     ]
    },
    {
     "name": "stderr",
     "output_type": "stream",
     "text": [
      "Simulation en cours:  25%|███████████████                                             | 25/100 [00:02<00:08,  8.42it/s]"
     ]
    },
    {
     "name": "stdout",
     "output_type": "stream",
     "text": [
      "  > Métriques après attaque calculées.\n",
      "\n",
      "--- Temps t = 25 ---\n",
      "  > Métriques avant division calculées.\n",
      "  > Métriques après division calculées.\n"
     ]
    },
    {
     "name": "stderr",
     "output_type": "stream",
     "text": [
      "Simulation en cours:  26%|███████████████▌                                            | 26/100 [00:03<00:08,  8.69it/s]"
     ]
    },
    {
     "name": "stdout",
     "output_type": "stream",
     "text": [
      "  > Métriques après attaque calculées.\n",
      "\n",
      "--- Temps t = 26 ---\n",
      "  > Métriques avant division calculées.\n",
      "  > Métriques après division calculées.\n",
      "  > Métriques après attaque calculées.\n"
     ]
    },
    {
     "name": "stderr",
     "output_type": "stream",
     "text": [
      "Simulation en cours:  27%|████████████████▏                                           | 27/100 [00:03<00:08,  8.74it/s]"
     ]
    },
    {
     "name": "stdout",
     "output_type": "stream",
     "text": [
      "\n",
      "--- Temps t = 27 ---\n",
      "  > Métriques avant division calculées.\n",
      "  > Métriques après division calculées.\n"
     ]
    },
    {
     "name": "stderr",
     "output_type": "stream",
     "text": [
      "Simulation en cours:  28%|████████████████▊                                           | 28/100 [00:03<00:08,  8.85it/s]"
     ]
    },
    {
     "name": "stdout",
     "output_type": "stream",
     "text": [
      "  > Métriques après attaque calculées.\n",
      "\n",
      "--- Temps t = 28 ---\n",
      "  > Métriques avant division calculées.\n",
      "  > Métriques après division calculées.\n"
     ]
    },
    {
     "name": "stderr",
     "output_type": "stream",
     "text": [
      "Simulation en cours:  29%|█████████████████▍                                          | 29/100 [00:03<00:08,  8.49it/s]"
     ]
    },
    {
     "name": "stdout",
     "output_type": "stream",
     "text": [
      "  > Métriques après attaque calculées.\n",
      "\n",
      "--- Temps t = 29 ---\n",
      "  > Métriques avant division calculées.\n"
     ]
    },
    {
     "name": "stderr",
     "output_type": "stream",
     "text": [
      "Simulation en cours:  30%|██████████████████                                          | 30/100 [00:03<00:08,  8.30it/s]"
     ]
    },
    {
     "name": "stdout",
     "output_type": "stream",
     "text": [
      "  > Métriques après division calculées.\n",
      "  > Métriques après attaque calculées.\n",
      "\n",
      "--- Temps t = 30 ---\n",
      "  > Métriques avant division calculées.\n",
      "  > Métriques après division calculées.\n"
     ]
    },
    {
     "name": "stderr",
     "output_type": "stream",
     "text": [
      "Simulation en cours:  31%|██████████████████▌                                         | 31/100 [00:03<00:08,  8.52it/s]"
     ]
    },
    {
     "name": "stdout",
     "output_type": "stream",
     "text": [
      "  > Métriques après attaque calculées.\n",
      "\n",
      "--- Temps t = 31 ---\n",
      "  > Métriques avant division calculées.\n",
      "  > Métriques après division calculées.\n"
     ]
    },
    {
     "name": "stderr",
     "output_type": "stream",
     "text": [
      "Simulation en cours:  32%|███████████████████▏                                        | 32/100 [00:03<00:07,  8.53it/s]"
     ]
    },
    {
     "name": "stdout",
     "output_type": "stream",
     "text": [
      "  > Métriques après attaque calculées.\n",
      "\n",
      "--- Temps t = 32 ---\n",
      "  > Métriques avant division calculées.\n",
      "  > Métriques après division calculées.\n"
     ]
    },
    {
     "name": "stderr",
     "output_type": "stream",
     "text": [
      "Simulation en cours:  33%|███████████████████▊                                        | 33/100 [00:03<00:07,  8.70it/s]"
     ]
    },
    {
     "name": "stdout",
     "output_type": "stream",
     "text": [
      "  > Métriques après attaque calculées.\n",
      "\n",
      "--- Temps t = 33 ---\n",
      "  > Métriques avant division calculées.\n",
      "  > Métriques après division calculées.\n"
     ]
    },
    {
     "name": "stderr",
     "output_type": "stream",
     "text": [
      "Simulation en cours:  34%|████████████████████▍                                       | 34/100 [00:03<00:07,  8.64it/s]"
     ]
    },
    {
     "name": "stdout",
     "output_type": "stream",
     "text": [
      "  > Métriques après attaque calculées.\n",
      "\n",
      "--- Temps t = 34 ---\n",
      "  > Métriques avant division calculées.\n",
      "  > Métriques après division calculées.\n",
      "  > Métriques après attaque calculées.\n"
     ]
    },
    {
     "name": "stderr",
     "output_type": "stream",
     "text": [
      "Simulation en cours:  35%|█████████████████████                                       | 35/100 [00:04<00:07,  8.86it/s]"
     ]
    },
    {
     "name": "stdout",
     "output_type": "stream",
     "text": [
      "\n",
      "--- Temps t = 35 ---\n",
      "  > Métriques avant division calculées.\n",
      "  > Métriques après division calculées.\n"
     ]
    },
    {
     "name": "stderr",
     "output_type": "stream",
     "text": [
      "Simulation en cours:  36%|█████████████████████▌                                      | 36/100 [00:04<00:07,  8.67it/s]"
     ]
    },
    {
     "name": "stdout",
     "output_type": "stream",
     "text": [
      "  > Métriques après attaque calculées.\n",
      "\n",
      "--- Temps t = 36 ---\n",
      "  > Métriques avant division calculées.\n",
      "  > Métriques après division calculées.\n"
     ]
    },
    {
     "name": "stderr",
     "output_type": "stream",
     "text": [
      "Simulation en cours:  37%|██████████████████████▏                                     | 37/100 [00:04<00:07,  8.51it/s]"
     ]
    },
    {
     "name": "stdout",
     "output_type": "stream",
     "text": [
      "  > Métriques après attaque calculées.\n",
      "\n",
      "--- Temps t = 37 ---\n",
      "  > Métriques avant division calculées.\n",
      "  > Métriques après division calculées.\n",
      "  > Métriques après attaque calculées.\n"
     ]
    },
    {
     "name": "stderr",
     "output_type": "stream",
     "text": [
      "Simulation en cours:  38%|██████████████████████▊                                     | 38/100 [00:04<00:07,  8.76it/s]"
     ]
    },
    {
     "name": "stdout",
     "output_type": "stream",
     "text": [
      "\n",
      "--- Temps t = 38 ---\n",
      "  > Métriques avant division calculées.\n"
     ]
    },
    {
     "name": "stderr",
     "output_type": "stream",
     "text": [
      "Simulation en cours:  40%|████████████████████████                                    | 40/100 [00:04<00:07,  8.32it/s]"
     ]
    },
    {
     "name": "stdout",
     "output_type": "stream",
     "text": [
      "  > Métriques après division calculées.\n",
      "  > Métriques après attaque calculées.\n",
      "\n",
      "--- Temps t = 39 ---\n",
      "  > Métriques avant division calculées.\n",
      "  > Métriques après division calculées.\n",
      "  > Métriques après attaque calculées.\n",
      "\n",
      "--- Temps t = 40 ---\n",
      "  > Métriques avant division calculées.\n"
     ]
    },
    {
     "name": "stderr",
     "output_type": "stream",
     "text": [
      "Simulation en cours:  41%|████████████████████████▌                                   | 41/100 [00:04<00:07,  7.96it/s]"
     ]
    },
    {
     "name": "stdout",
     "output_type": "stream",
     "text": [
      "  > Métriques après division calculées.\n",
      "  > Métriques après attaque calculées.\n",
      "\n",
      "--- Temps t = 41 ---\n",
      "  > Métriques avant division calculées.\n"
     ]
    },
    {
     "name": "stderr",
     "output_type": "stream",
     "text": [
      "Simulation en cours:  42%|█████████████████████████▏                                  | 42/100 [00:04<00:07,  8.22it/s]"
     ]
    },
    {
     "name": "stdout",
     "output_type": "stream",
     "text": [
      "  > Métriques après division calculées.\n",
      "  > Métriques après attaque calculées.\n",
      "\n",
      "--- Temps t = 42 ---\n"
     ]
    },
    {
     "name": "stderr",
     "output_type": "stream",
     "text": [
      "Simulation en cours:  43%|█████████████████████████▊                                  | 43/100 [00:05<00:06,  8.15it/s]"
     ]
    },
    {
     "name": "stdout",
     "output_type": "stream",
     "text": [
      "  > Métriques avant division calculées.\n",
      "  > Métriques après division calculées.\n",
      "  > Métriques après attaque calculées.\n",
      "\n",
      "--- Temps t = 43 ---\n",
      "  > Métriques avant division calculées.\n"
     ]
    },
    {
     "name": "stderr",
     "output_type": "stream",
     "text": [
      "Simulation en cours:  44%|██████████████████████████▍                                 | 44/100 [00:05<00:06,  8.37it/s]"
     ]
    },
    {
     "name": "stdout",
     "output_type": "stream",
     "text": [
      "  > Métriques après division calculées.\n",
      "  > Métriques après attaque calculées.\n",
      "\n",
      "--- Temps t = 44 ---\n",
      "  > Métriques avant division calculées.\n"
     ]
    },
    {
     "name": "stderr",
     "output_type": "stream",
     "text": [
      "Simulation en cours:  45%|███████████████████████████                                 | 45/100 [00:05<00:06,  8.09it/s]"
     ]
    },
    {
     "name": "stdout",
     "output_type": "stream",
     "text": [
      "  > Métriques après division calculées.\n",
      "  > Métriques après attaque calculées.\n",
      "\n",
      "--- Temps t = 45 ---\n",
      "  > Métriques avant division calculées.\n",
      "  > Métriques après division calculées.\n"
     ]
    },
    {
     "name": "stderr",
     "output_type": "stream",
     "text": [
      "Simulation en cours:  46%|███████████████████████████▌                                | 46/100 [00:05<00:06,  8.27it/s]"
     ]
    },
    {
     "name": "stdout",
     "output_type": "stream",
     "text": [
      "  > Métriques après attaque calculées.\n",
      "\n",
      "--- Temps t = 46 ---\n",
      "  > Métriques avant division calculées.\n"
     ]
    },
    {
     "name": "stderr",
     "output_type": "stream",
     "text": [
      "Simulation en cours:  47%|████████████████████████████▏                               | 47/100 [00:05<00:06,  7.99it/s]"
     ]
    },
    {
     "name": "stdout",
     "output_type": "stream",
     "text": [
      "  > Métriques après division calculées.\n",
      "  > Métriques après attaque calculées.\n",
      "\n",
      "--- Temps t = 47 ---\n",
      "  > Métriques avant division calculées.\n"
     ]
    },
    {
     "name": "stderr",
     "output_type": "stream",
     "text": [
      "Simulation en cours:  48%|████████████████████████████▊                               | 48/100 [00:05<00:06,  7.96it/s]"
     ]
    },
    {
     "name": "stdout",
     "output_type": "stream",
     "text": [
      "  > Métriques après division calculées.\n",
      "  > Métriques après attaque calculées.\n",
      "\n",
      "--- Temps t = 48 ---\n",
      "  > Métriques avant division calculées.\n"
     ]
    },
    {
     "name": "stderr",
     "output_type": "stream",
     "text": [
      "Simulation en cours:  49%|█████████████████████████████▍                              | 49/100 [00:05<00:06,  8.08it/s]"
     ]
    },
    {
     "name": "stdout",
     "output_type": "stream",
     "text": [
      "  > Métriques après division calculées.\n",
      "  > Métriques après attaque calculées.\n",
      "\n",
      "--- Temps t = 49 ---\n",
      "  > Métriques avant division calculées.\n"
     ]
    },
    {
     "name": "stderr",
     "output_type": "stream",
     "text": [
      "Simulation en cours:  50%|██████████████████████████████                              | 50/100 [00:05<00:06,  7.98it/s]"
     ]
    },
    {
     "name": "stdout",
     "output_type": "stream",
     "text": [
      "  > Métriques après division calculées.\n",
      "  > Métriques après attaque calculées.\n",
      "\n",
      "--- Temps t = 50 ---\n",
      "  > Métriques avant division calculées.\n"
     ]
    },
    {
     "name": "stderr",
     "output_type": "stream",
     "text": [
      "Simulation en cours:  51%|██████████████████████████████▌                             | 51/100 [00:06<00:06,  8.12it/s]"
     ]
    },
    {
     "name": "stdout",
     "output_type": "stream",
     "text": [
      "  > Métriques après division calculées.\n",
      "  > Métriques après attaque calculées.\n",
      "\n",
      "--- Temps t = 51 ---\n",
      "  > Métriques avant division calculées.\n",
      "  > Métriques après division calculées.\n",
      "  > Métriques après attaque calculées.\n",
      "\n",
      "--- Temps t = 52 ---\n"
     ]
    },
    {
     "name": "stderr",
     "output_type": "stream",
     "text": [
      "Simulation en cours:  53%|███████████████████████████████▊                            | 53/100 [00:06<00:05,  9.31it/s]"
     ]
    },
    {
     "name": "stdout",
     "output_type": "stream",
     "text": [
      "  > Métriques avant division calculées.\n",
      "  > Métriques après division calculées.\n",
      "  > Métriques après attaque calculées.\n",
      "\n",
      "--- Temps t = 53 ---\n",
      "  > Métriques avant division calculées.\n",
      "  > Métriques après division calculées.\n",
      "  > Métriques après attaque calculées.\n",
      "\n",
      "--- Temps t = 54 ---\n",
      "  > Métriques avant division calculées.\n",
      "  > Métriques après division calculées.\n",
      "  > Métriques après attaque calculées.\n"
     ]
    },
    {
     "name": "stderr",
     "output_type": "stream",
     "text": [
      "Simulation en cours:  55%|█████████████████████████████████                           | 55/100 [00:06<00:04,  9.83it/s]"
     ]
    },
    {
     "name": "stdout",
     "output_type": "stream",
     "text": [
      "\n",
      "--- Temps t = 55 ---\n",
      "  > Métriques avant division calculées.\n",
      "  > Métriques après division calculées.\n",
      "  > Métriques après attaque calculées.\n",
      "\n",
      "--- Temps t = 56 ---\n"
     ]
    },
    {
     "name": "stderr",
     "output_type": "stream",
     "text": [
      "Simulation en cours:  57%|██████████████████████████████████▏                         | 57/100 [00:06<00:04, 10.38it/s]"
     ]
    },
    {
     "name": "stdout",
     "output_type": "stream",
     "text": [
      "  > Métriques avant division calculées.\n",
      "  > Métriques après division calculées.\n",
      "  > Métriques après attaque calculées.\n",
      "\n",
      "--- Temps t = 57 ---\n"
     ]
    },
    {
     "name": "stderr",
     "output_type": "stream",
     "text": [
      "Simulation en cours:  59%|███████████████████████████████████▍                        | 59/100 [00:06<00:03, 10.82it/s]"
     ]
    },
    {
     "name": "stdout",
     "output_type": "stream",
     "text": [
      "  > Métriques avant division calculées.\n",
      "  > Métriques après division calculées.\n",
      "  > Métriques après attaque calculées.\n",
      "\n",
      "--- Temps t = 58 ---\n",
      "  > Métriques avant division calculées.\n",
      "  > Métriques après division calculées.\n",
      "  > Métriques après attaque calculées.\n",
      "\n",
      "--- Temps t = 59 ---\n",
      "  > Métriques avant division calculées.\n",
      "  > Métriques après division calculées.\n",
      "  > Métriques après attaque calculées.\n",
      "\n",
      "--- Temps t = 60 ---\n"
     ]
    },
    {
     "name": "stderr",
     "output_type": "stream",
     "text": [
      "Simulation en cours:  61%|████████████████████████████████████▌                       | 61/100 [00:06<00:03, 11.24it/s]"
     ]
    },
    {
     "name": "stdout",
     "output_type": "stream",
     "text": [
      "  > Métriques avant division calculées.\n",
      "  > Métriques après division calculées.\n",
      "  > Métriques après attaque calculées.\n",
      "\n",
      "--- Temps t = 61 ---\n",
      "  > Métriques avant division calculées.\n",
      "  > Métriques après division calculées.\n",
      "  > Métriques après attaque calculées.\n",
      "\n",
      "--- Temps t = 62 ---\n",
      "  > Métriques avant division calculées.\n",
      "  > Métriques après division calculées.\n",
      "  > Métriques après attaque calculées.\n"
     ]
    },
    {
     "name": "stderr",
     "output_type": "stream",
     "text": [
      "Simulation en cours:  63%|█████████████████████████████████████▊                      | 63/100 [00:07<00:03, 11.17it/s]"
     ]
    },
    {
     "name": "stdout",
     "output_type": "stream",
     "text": [
      "\n",
      "--- Temps t = 63 ---\n",
      "  > Métriques avant division calculées.\n",
      "  > Métriques après division calculées.\n",
      "  > Métriques après attaque calculées.\n",
      "\n",
      "--- Temps t = 64 ---\n",
      "  > Métriques avant division calculées.\n",
      "  > Métriques après division calculées.\n",
      "  > Métriques après attaque calculées.\n"
     ]
    },
    {
     "name": "stderr",
     "output_type": "stream",
     "text": [
      "Simulation en cours:  67%|████████████████████████████████████████▏                   | 67/100 [00:07<00:03, 10.36it/s]"
     ]
    },
    {
     "name": "stdout",
     "output_type": "stream",
     "text": [
      "\n",
      "--- Temps t = 65 ---\n",
      "  > Métriques avant division calculées.\n",
      "  > Métriques après division calculées.\n",
      "  > Métriques après attaque calculées.\n",
      "\n",
      "--- Temps t = 66 ---\n",
      "  > Métriques avant division calculées.\n",
      "  > Métriques après division calculées.\n",
      "  > Métriques après attaque calculées.\n"
     ]
    },
    {
     "name": "stderr",
     "output_type": "stream",
     "text": [
      "Simulation en cours:  69%|█████████████████████████████████████████▍                  | 69/100 [00:07<00:02, 10.34it/s]"
     ]
    },
    {
     "name": "stdout",
     "output_type": "stream",
     "text": [
      "\n",
      "--- Temps t = 67 ---\n",
      "  > Métriques avant division calculées.\n",
      "  > Métriques après division calculées.\n",
      "  > Métriques après attaque calculées.\n",
      "\n",
      "--- Temps t = 68 ---\n",
      "  > Métriques avant division calculées.\n",
      "  > Métriques après division calculées.\n",
      "  > Métriques après attaque calculées.\n",
      "\n",
      "--- Temps t = 69 ---\n",
      "  > Métriques avant division calculées.\n",
      "  > Métriques après division calculées.\n",
      "  > Métriques après attaque calculées.\n",
      "\n",
      "--- Temps t = 70 ---\n"
     ]
    },
    {
     "name": "stderr",
     "output_type": "stream",
     "text": [
      "Simulation en cours:  73%|███████████████████████████████████████████▊                | 73/100 [00:08<00:02, 10.96it/s]"
     ]
    },
    {
     "name": "stdout",
     "output_type": "stream",
     "text": [
      "  > Métriques avant division calculées.\n",
      "  > Métriques après division calculées.\n",
      "  > Métriques après attaque calculées.\n",
      "\n",
      "--- Temps t = 71 ---\n",
      "  > Métriques avant division calculées.\n",
      "  > Métriques après division calculées.\n",
      "  > Métriques après attaque calculées.\n",
      "\n",
      "--- Temps t = 72 ---\n",
      "  > Métriques avant division calculées.\n",
      "  > Métriques après division calculées.\n",
      "  > Métriques après attaque calculées.\n"
     ]
    },
    {
     "name": "stderr",
     "output_type": "stream",
     "text": [
      "Simulation en cours:  75%|█████████████████████████████████████████████               | 75/100 [00:08<00:02, 11.46it/s]"
     ]
    },
    {
     "name": "stdout",
     "output_type": "stream",
     "text": [
      "\n",
      "--- Temps t = 73 ---\n",
      "  > Métriques avant division calculées.\n",
      "  > Métriques après division calculées.\n",
      "  > Métriques après attaque calculées.\n",
      "\n",
      "--- Temps t = 74 ---\n",
      "  > Métriques avant division calculées.\n",
      "  > Métriques après division calculées.\n",
      "  > Métriques après attaque calculées.\n",
      "\n",
      "--- Temps t = 75 ---\n",
      "  > Métriques avant division calculées.\n",
      "  > Métriques après division calculées.\n",
      "  > Métriques après attaque calculées.\n",
      "\n",
      "--- Temps t = 76 ---\n"
     ]
    },
    {
     "name": "stderr",
     "output_type": "stream",
     "text": [
      "Simulation en cours:  79%|███████████████████████████████████████████████▍            | 79/100 [00:08<00:01, 11.61it/s]"
     ]
    },
    {
     "name": "stdout",
     "output_type": "stream",
     "text": [
      "  > Métriques avant division calculées.\n",
      "  > Métriques après division calculées.\n",
      "  > Métriques après attaque calculées.\n",
      "\n",
      "--- Temps t = 77 ---\n",
      "  > Métriques avant division calculées.\n",
      "  > Métriques après division calculées.\n",
      "  > Métriques après attaque calculées.\n",
      "\n",
      "--- Temps t = 78 ---\n",
      "  > Métriques avant division calculées.\n",
      "  > Métriques après division calculées.\n",
      "  > Métriques après attaque calculées.\n"
     ]
    },
    {
     "name": "stderr",
     "output_type": "stream",
     "text": [
      "Simulation en cours:  81%|████████████████████████████████████████████████▌           | 81/100 [00:08<00:01, 11.30it/s]"
     ]
    },
    {
     "name": "stdout",
     "output_type": "stream",
     "text": [
      "\n",
      "--- Temps t = 79 ---\n",
      "  > Métriques avant division calculées.\n",
      "  > Métriques après division calculées.\n",
      "  > Métriques après attaque calculées.\n",
      "\n",
      "--- Temps t = 80 ---\n",
      "  > Métriques avant division calculées.\n",
      "  > Métriques après division calculées.\n",
      "  > Métriques après attaque calculées.\n",
      "\n",
      "--- Temps t = 81 ---\n",
      "  > Métriques avant division calculées.\n"
     ]
    },
    {
     "name": "stderr",
     "output_type": "stream",
     "text": [
      "Simulation en cours:  83%|█████████████████████████████████████████████████▊          | 83/100 [00:08<00:01, 11.38it/s]"
     ]
    },
    {
     "name": "stdout",
     "output_type": "stream",
     "text": [
      "  > Métriques après division calculées.\n",
      "  > Métriques après attaque calculées.\n",
      "\n",
      "--- Temps t = 82 ---\n",
      "  > Métriques avant division calculées.\n",
      "  > Métriques après division calculées.\n",
      "  > Métriques après attaque calculées.\n",
      "\n",
      "--- Temps t = 83 ---\n",
      "  > Métriques avant division calculées.\n",
      "  > Métriques après division calculées.\n",
      "  > Métriques après attaque calculées.\n",
      "\n",
      "--- Temps t = 84 ---\n",
      "  > Métriques avant division calculées.\n"
     ]
    },
    {
     "name": "stderr",
     "output_type": "stream",
     "text": [
      "Simulation en cours:  87%|████████████████████████████████████████████████████▏       | 87/100 [00:09<00:01, 12.04it/s]"
     ]
    },
    {
     "name": "stdout",
     "output_type": "stream",
     "text": [
      "  > Métriques après division calculées.\n",
      "  > Métriques après attaque calculées.\n",
      "\n",
      "--- Temps t = 85 ---\n",
      "  > Métriques avant division calculées.\n",
      "  > Métriques après division calculées.\n",
      "  > Métriques après attaque calculées.\n",
      "\n",
      "--- Temps t = 86 ---\n",
      "  > Métriques avant division calculées.\n",
      "  > Métriques après division calculées.\n",
      "  > Métriques après attaque calculées.\n",
      "\n",
      "--- Temps t = 87 ---\n",
      "  > Métriques avant division calculées.\n"
     ]
    },
    {
     "name": "stderr",
     "output_type": "stream",
     "text": [
      "Simulation en cours:  89%|█████████████████████████████████████████████████████▍      | 89/100 [00:09<00:00, 11.98it/s]"
     ]
    },
    {
     "name": "stdout",
     "output_type": "stream",
     "text": [
      "  > Métriques après division calculées.\n",
      "  > Métriques après attaque calculées.\n",
      "\n",
      "--- Temps t = 88 ---\n",
      "  > Métriques avant division calculées.\n",
      "  > Métriques après division calculées.\n",
      "  > Métriques après attaque calculées.\n",
      "\n",
      "--- Temps t = 89 ---\n",
      "  > Métriques avant division calculées.\n",
      "  > Métriques après division calculées.\n",
      "  > Métriques après attaque calculées.\n",
      "\n",
      "--- Temps t = 90 ---\n",
      "  > Métriques avant division calculées.\n",
      "  > Métriques après division calculées.\n",
      "  > Métriques après attaque calculées.\n"
     ]
    },
    {
     "name": "stderr",
     "output_type": "stream",
     "text": [
      "Simulation en cours:  93%|███████████████████████████████████████████████████████▊    | 93/100 [00:09<00:00, 11.17it/s]"
     ]
    },
    {
     "name": "stdout",
     "output_type": "stream",
     "text": [
      "\n",
      "--- Temps t = 91 ---\n",
      "  > Métriques avant division calculées.\n",
      "  > Métriques après division calculées.\n",
      "  > Métriques après attaque calculées.\n",
      "\n",
      "--- Temps t = 92 ---\n",
      "  > Métriques avant division calculées.\n",
      "  > Métriques après division calculées.\n",
      "  > Métriques après attaque calculées.\n"
     ]
    },
    {
     "name": "stderr",
     "output_type": "stream",
     "text": [
      "Simulation en cours:  97%|██████████████████████████████████████████████████████████▏ | 97/100 [00:10<00:00, 11.68it/s]"
     ]
    },
    {
     "name": "stdout",
     "output_type": "stream",
     "text": [
      "\n",
      "--- Temps t = 93 ---\n",
      "  > Métriques avant division calculées.\n",
      "  > Métriques après division calculées.\n",
      "  > Métriques après attaque calculées.\n",
      "\n",
      "--- Temps t = 94 ---\n",
      "  > Métriques avant division calculées.\n",
      "  > Métriques après division calculées.\n",
      "  > Métriques après attaque calculées.\n",
      "\n",
      "--- Temps t = 95 ---\n",
      "  > Métriques avant division calculées.\n",
      "  > Métriques après division calculées.\n",
      "  > Métriques après attaque calculées.\n",
      "\n",
      "--- Temps t = 96 ---\n",
      "  > Métriques avant division calculées.\n",
      "  > Métriques après division calculées.\n",
      "  > Métriques après attaque calculées.\n"
     ]
    },
    {
     "name": "stderr",
     "output_type": "stream",
     "text": [
      "Simulation en cours:  99%|███████████████████████████████████████████████████████████▍| 99/100 [00:10<00:00, 11.54it/s]"
     ]
    },
    {
     "name": "stdout",
     "output_type": "stream",
     "text": [
      "\n",
      "--- Temps t = 97 ---\n",
      "  > Métriques avant division calculées.\n",
      "  > Métriques après division calculées.\n",
      "  > Métriques après attaque calculées.\n",
      "\n",
      "--- Temps t = 98 ---\n",
      "  > Métriques avant division calculées.\n",
      "  > Métriques après division calculées.\n",
      "  > Métriques après attaque calculées.\n",
      "\n",
      "--- Temps t = 99 ---\n",
      "  > Métriques avant division calculées.\n",
      "  > Métriques après division calculées.\n"
     ]
    },
    {
     "name": "stderr",
     "output_type": "stream",
     "text": [
      "Simulation en cours: 100%|███████████████████████████████████████████████████████████| 100/100 [00:10<00:00,  9.68it/s]"
     ]
    },
    {
     "name": "stdout",
     "output_type": "stream",
     "text": [
      "  > Métriques après attaque calculées.\n"
     ]
    },
    {
     "name": "stderr",
     "output_type": "stream",
     "text": [
      "\n"
     ]
    }
   ],
   "source": [
    "connection_range = 60000\n",
    "portee1 =20000\n",
    "portee2=40000\n",
    "portee3= 60000\n",
    "nanosat_count = 100\n",
    "max_temps = 100  # pour test rapide\n",
    "t_attack = 50 \n",
    "\n",
    "#stocker les résultats pour chaque algo\n",
    "resultats_FFD = []\n",
    "resultats_MIRW = []\n",
    "resultats_RND = []\n",
    "\n",
    "# Liste des satellites encore actifs\n",
    "satellites_actifs = set(range(1, nanosat_count + 1))\n",
    "\n",
    "algos = [\"FFD\", \"RND\", \"MIRW\"]\n",
    "\n",
    "for algo in algos : \n",
    "    print(\"Traitement de l’algorithme :\", algo)\n",
    "    resultats=[]\n",
    "    for t in tqdm(range(max_temps), desc=\"Simulation en cours\"):\n",
    "        print(f\"\\n--- Temps t = {t} ---\")\n",
    "        coords = dft.iloc[t]\n",
    "        nodes = []\n",
    "        \n",
    "        # Créer les objets Node\n",
    "        for i in satellites_actifs:\n",
    "            x = coords[f'satx{i}']\n",
    "            y = coords[f'saty{i}']\n",
    "            z = coords[f'satz{i}']\n",
    "            nodes.append(Node(id=i, x=x, y=y, z=z))\n",
    "    \n",
    "        swarm = Swarm(connection_range=connection_range, nodes=nodes)\n",
    "    \n",
    "        # Créer un graphe pondéré\n",
    "        G = nx.Graph()\n",
    "        for node in nodes:\n",
    "            G.add_node(node.id)\n",
    "    \n",
    "        # Ajouter les arêtes avec poids selon la distance\n",
    "        for i in range(len(nodes)):\n",
    "            for j in range(i + 1, len(nodes)):\n",
    "                dist = nodes[i].compute_dist(nodes[j])\n",
    "                if dist <= portee1:\n",
    "                    weight = 1\n",
    "                elif dist <= portee2:\n",
    "                    weight = 2\n",
    "                elif dist <= portee3:\n",
    "                    weight = 3\n",
    "                else:\n",
    "                    continue  \n",
    "                G.add_edge(nodes[i].id, nodes[j].id, weight=weight)\n",
    "            # ----- Étape 1 : Métriques de base (graphe non divisé) -----\n",
    "        metriques_avant = {\n",
    "            \"time\": t,\n",
    "            \"algo\": \"none\",\n",
    "            \"attack\": \"none\",\n",
    "            \"efficacite\":network_efficiency(G),\n",
    "            \"cout\": routing_cost(G),\n",
    "            \"robustesse\": flow_robustness(G),\n",
    "            \"redondance\": 0, #path_redundancy(G),\n",
    "            \"disparite\": 0, #path_disparity(G),\n",
    "            \"criticite\": critical_nodes(G)\n",
    "        }\n",
    "        resultats.append(metriques_avant)\n",
    "        print(\"  > Métriques avant division calculées.\")\n",
    "        # ----- Étape 2 : Pour chaque algorithme de division -----\n",
    "        if algo == \"RND\" :\n",
    "            groupes = swarm.RND(n=10)\n",
    "        elif algo == \"MIRW\" :\n",
    "            groupes = swarm.MIRW(n=10)\n",
    "        else :\n",
    "            groupes = swarm.FFD(n=10)\n",
    "      \n",
    "        # Construire group_dict\n",
    "        group_dict = {}\n",
    "        for group_id, sub_swarm in groupes.items():\n",
    "            for n in sub_swarm.nodes:\n",
    "                group_dict[n.id] = group_id\n",
    "    \n",
    "        # ----- Métriques post-division -----\n",
    "        metriques_div = {\n",
    "            \"time\": t,\n",
    "            \"algo\": algo,\n",
    "            \"attack\": \"none\",\n",
    "            \"efficacite\": network_efficiency(G, divided=True, group_dict=group_dict),\n",
    "            \"cout\": routing_cost(G, divided=True, group_dict=group_dict),\n",
    "            \"robustesse\": flow_robustness(G, divided=True, group_dict=group_dict),\n",
    "            \"redondance\": 0, #path_redundancy(G, divided=True, group_dict=group_dict),\n",
    "            \"disparite\": 0, #path_disparity(G, divided=True, group_dict=group_dict),\n",
    "             \"criticite\": critical_nodes(G, divided=True, group_dict=group_dict)\n",
    "        }\n",
    "        \n",
    "        resultats.append(metriques_div)\n",
    "        print(\"  > Métriques après division calculées.\")\n",
    "       \n",
    "        # ----- Étape 3 : Appliquer les attaques -----\n",
    "        attack_type = \"none\"\n",
    "        nb_noeuds_supprimes = 10\n",
    "        G_copy = G.copy()\n",
    "        \n",
    "        if t == t_attack:\n",
    "            attack_type = \"random\"\n",
    "            if attack_type == \"cible\":\n",
    "                BC = node_criticality(G_copy, divided=True, group_dict=group_dict)\n",
    "            if attack_type == \"random\":\n",
    "                nodes_to_remove = random.sample(list(G_copy.nodes), min(nb_noeuds_supprimes, len(G_copy)))\n",
    "            else:  # attaque ciblée\n",
    "                nodes_to_remove = sorted(BC, key=BC.get, reverse=True)[:nb_noeuds_supprimes]\n",
    "    \n",
    "            G_copy.remove_nodes_from(nodes_to_remove)\n",
    "    \n",
    "            # Retirer les satellites attaqués de la simulation\n",
    "            satellites_actifs.difference_update(nodes_to_remove)\n",
    "    \n",
    "            # ----- Métriques post-attaque -----\n",
    "        metriques_attaque = {\n",
    "                \"time\": t,\n",
    "                \"algo\": algo,\n",
    "                \"attack\": attack_type,\n",
    "                \"efficacite\": network_efficiency(G_copy, divided=True, group_dict=group_dict),\n",
    "                \"cout\": routing_cost(G_copy, divided=True, group_dict=group_dict),\n",
    "                \"robustesse\": flow_robustness(G_copy, divided=True, group_dict=group_dict),\n",
    "                \"redondance\": 0, #path_redundancy(G_copy, divided=True, group_dict=group_dict),\n",
    "                \"disparite\": 0, #path_disparity(G_copy, divided=True, group_dict=group_dict),\n",
    "                \"criticite\": critical_nodes(G_copy, divided=True, group_dict=group_dict)\n",
    "            }\n",
    "        \n",
    "        resultats.append(metriques_attaque)\n",
    "        print(\"  > Métriques après attaque calculées.\")\n",
    "        if algo == \"RND\" :\n",
    "            resultats_RND = resultats\n",
    "        elif algo == \"MIRW\" :\n",
    "            resultats_MIRW = resultats \n",
    "        else :  \n",
    "            resultats_FFD = resultats \n"
   ]
  },
  {
   "cell_type": "code",
   "execution_count": 12,
   "id": "b86cc8b4-5c53-4c55-b7ef-e4892bb3c9d0",
   "metadata": {},
   "outputs": [
    {
     "data": {
      "text/plain": [
       "'import os \\nfichier1=\"resultats_swarm_simulation_FFD.csv\"\\nif os.path.exists(fichier):\\n    print(\"existe\")\\nelse:\\n    print(\\'existe\\xa0pas\\')'"
      ]
     },
     "execution_count": 12,
     "metadata": {},
     "output_type": "execute_result"
    }
   ],
   "source": [
    "# ========== Sauvegarde en CSV ==========\n",
    "df_res1 = pd.DataFrame(resultats_FFD)\n",
    "df_res1.to_csv(\"resultats_swarm_simulation_FFD.csv\", index=False)\n",
    "\n",
    "df_res2 = pd.DataFrame(resultats_RND)\n",
    "df_res2.to_csv(\"resultats_swarm_simulation_RND.csv\", index=False)\n",
    "\n",
    "df_res3 = pd.DataFrame(resultats_MIRW)\n",
    "df_res3.to_csv(\"resultats_swarm_simulation_MIRW.csv\", index=False)\n",
    "\n",
    "\n",
    "\"\"\"import os \n",
    "fichier1=\"resultats_swarm_simulation_FFD.csv\"\n",
    "if os.path.exists(fichier):\n",
    "    print(\"existe\")\n",
    "else:\n",
    "    print('existe pas')\"\"\"\n",
    "\n",
    "\n",
    "\n"
   ]
  },
  {
   "cell_type": "markdown",
   "id": "330d546e-4853-4376-a71b-7182d92ca84d",
   "metadata": {},
   "source": [
    "### Analyse des Resultats "
   ]
  },
  {
   "cell_type": "code",
   "execution_count": 13,
   "id": "25590ebf-5251-4ef9-98d3-ae4c9eb252bc",
   "metadata": {},
   "outputs": [
    {
     "data": {
      "image/png": "[encoded data removed]",
      "text/plain": [
       "<Figure size 500x500 with 1 Axes>"
      ]
     },
     "metadata": {},
     "output_type": "display_data"
    },
    {
     "data": {
      "image/png": "[encoded data removed]",
      "text/plain": [
       "<Figure size 500x500 with 1 Axes>"
      ]
     },
     "metadata": {},
     "output_type": "display_data"
    },
    {
     "data": {
      "image/png": "[encoded data removed]",
      "text/plain": [
       "<Figure size 500x500 with 1 Axes>"
      ]
     },
     "metadata": {},
     "output_type": "display_data"
    }
   ],
   "source": [
    "\n",
    "# Chargement du fichier CSV\n",
    "df1 = pd.read_csv(\"resultats_swarm_simulation_FFD.csv\")\n",
    "df2 = pd.read_csv(\"resultats_swarm_simulation_RND.csv\")\n",
    "df3 = pd.read_csv(\"resultats_swarm_simulation_MIRW.csv\")\n",
    "\n",
    "\n",
    "# Nettoyage et conversion\n",
    "cols = [\"time\", \"efficacite\", \"cout\", \"robustesse\"]\n",
    "for df in [df1, df2, df3]:\n",
    "    df[cols] = df[cols].apply(pd.to_numeric, errors='coerce')\n",
    "\n",
    "# Dictionnaire pour facilité l'accès\n",
    "dfs = {\n",
    "    \"FFD\": df1,\n",
    "    \"RND\": df2,\n",
    "    \"MIRW\": df3\n",
    "}\n",
    "\n",
    "# Fonction pour tracer une métrique\n",
    "def plot_metric(metric_name, ylabel, title):\n",
    "    plt.figure(figsize=(5, 5))\n",
    "\n",
    "    # Tracer la courbe non divisée (algo = none)\n",
    "    \n",
    "    df_non_div = df1[df1[\"algo\"] == \"none\"]\n",
    "    plt.plot(df_non_div[\"time\"], df_non_div[metric_name], linestyle=\"--\", label=f\"Non divisé \")\n",
    "\n",
    "    # Tracer la courbe divisée pour chaque algo\n",
    "    for label, df in dfs.items():\n",
    "        df_div = df[df[\"algo\"] == label]\n",
    "        plt.plot(df_div[\"time\"], df_div[metric_name], label=f\"Divisé - {label}\")\n",
    "\n",
    "    plt.xlabel(\"Temps\")\n",
    "    plt.ylabel(ylabel)\n",
    "    plt.title(title)\n",
    "    plt.legend()\n",
    "    plt.grid(True)\n",
    "    plt.tight_layout()\n",
    "    plt.show()\n",
    "def boxplot_metric(metric_name, ylabel, title):\n",
    "    plt.figure(figsize=(5, 5))\n",
    "    \n",
    "    data = []\n",
    "    labels = []\n",
    "\n",
    "    # Ajouter le cas \"non divisé\" une seule fois (depuis df1 par exemple)\n",
    "    non_div_values = df1[df1[\"algo\"] == \"none\"][metric_name].dropna()\n",
    "    data.append(non_div_values)\n",
    "    labels.append(\"Non divisé\")\n",
    "\n",
    "    # Ajouter les cas divisés pour chaque algo\n",
    "    for label, df in dfs.items():\n",
    "        div_values = df[df[\"algo\"] == label][metric_name].dropna()\n",
    "        data.append(div_values)\n",
    "        labels.append(label)\n",
    "\n",
    "    plt.boxplot(data, tick_labels=labels, patch_artist=True)\n",
    "    plt.xticks(rotation=0)\n",
    "    plt.ylabel(ylabel)\n",
    "    plt.title(title)\n",
    "    plt.grid(True)\n",
    "    plt.tight_layout()\n",
    "    plt.show()\n",
    "\n",
    "\n",
    "\n",
    "\n",
    "# Tracer les trois métriques\n",
    "plot_metric(\"robustesse\", \"Robustesse (connectivité)\", \"Évolution de la robustesse dans le temps\")\n",
    "plot_metric(\"cout\", \"Coût de routage\", \"Évolution du coût de routage dans le temps\")\n",
    "plot_metric(\"efficacite\", \"Efficacité du réseau\", \"Évolution de l'efficacité réseau dans le temps\")\n",
    "\n",
    "\n",
    "\n"
   ]
  },
  {
   "cell_type": "code",
   "execution_count": 14,
   "id": "71bdfe5c-0117-4025-a49e-ca2fd42b9e67",
   "metadata": {},
   "outputs": [
    {
     "data": {
      "image/png": "[encoded data removed]",
      "text/plain": [
       "<Figure size 500x500 with 1 Axes>"
      ]
     },
     "metadata": {},
     "output_type": "display_data"
    },
    {
     "data": {
      "image/png": "[encoded data removed]",
      "text/plain": [
       "<Figure size 500x500 with 1 Axes>"
      ]
     },
     "metadata": {},
     "output_type": "display_data"
    },
    {
     "data": {
      "image/png": "[encoded data removed]",
      "text/plain": [
       "<Figure size 500x500 with 1 Axes>"
      ]
     },
     "metadata": {},
     "output_type": "display_data"
    }
   ],
   "source": [
    "# Tracer les boxplots\n",
    "boxplot_metric(\"robustesse\", \"Robustesse (connectivité)\", \"Distribution de la robustesse par méthode\")\n",
    "boxplot_metric(\"cout\", \"Coût de routage\", \"Distribution du coût de routage par méthode\")\n",
    "boxplot_metric(\"efficacite\", \"Efficacité réseau\", \"Distribution de l'efficacité réseau par méthode\")\n"
   ]
  },
  {
   "cell_type": "code",
   "execution_count": null,
   "id": "220adcf9-6451-4503-9fa1-18d92f449b1c",
   "metadata": {},
   "outputs": [],
   "source": []
  }
 ],
 "metadata": {
  "kernelspec": {
   "display_name": "Python 3 (ipykernel)",
   "language": "python",
   "name": "python3"
  },
  "language_info": {
   "codemirror_mode": {
    "name": "ipython",
    "version": 3
   },
   "file_extension": ".py",
   "mimetype": "text/x-python",
   "name": "python",
   "nbconvert_exporter": "python",
   "pygments_lexer": "ipython3",
   "version": "3.12.0"
  }
 },
 "nbformat": 4,
 "nbformat_minor": 5
}
