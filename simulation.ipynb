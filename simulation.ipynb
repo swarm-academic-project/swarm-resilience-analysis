{
 "cells": [
  {
   "cell_type": "code",
   "execution_count": 5,
   "id": "3b103bea-b839-4b66-a3c5-f4f9f18485cd",
   "metadata": {},
   "outputs": [],
   "source": [
    "import pandas as pd\n",
    "from swarm_sim import *\n",
    "from metrics import *\n",
    "import random \n",
    "import nbimporter\n",
    "from metrics import path_disparity, path_redundancy, routing_cost, flow_robustness, network_efficiency, critical_nodes\n",
    "from tqdm import tqdm"
   ]
  },
  {
   "cell_type": "markdown",
   "id": "1119710f-6c78-42bd-ad5c-b559bf5d42f6",
   "metadata": {},
   "source": [
    "### extraction Data "
   ]
  },
  {
   "cell_type": "code",
   "execution_count": 6,
   "id": "807292cf-f13f-4798-bd5c-4c63e687f9cf",
   "metadata": {},
   "outputs": [],
   "source": [
    "df = pd.read_csv(\"Traces.csv\", header=None)  \n",
    "\n",
    "# Créer les noms de colonnes pour le temps\n",
    "time_cols = [str(i+1) for i in range(10000)]\n",
    "df.columns = time_cols\n",
    "\n",
    "#générer les noms des lignes (cordonnées des satellites):\n",
    "coord_names = []\n",
    "for i in range(1, 101):  # 100 satellites\n",
    "    coord_names.append(f\"satx{i}\")\n",
    "    coord_names.append(f\"saty{i}\")\n",
    "    coord_names.append(f\"satz{i}\")\n",
    "df[\"coords\"] = coord_names\n",
    "df = df.set_index(\"coords\")\n",
    "\n",
    "dft = df.transpose()  # maintenant chaque ligne = un instant"
   ]
  },
  {
   "cell_type": "markdown",
   "id": "8c82e932-d93a-4317-89b2-27b394dbbf62",
   "metadata": {},
   "source": [
    "### convert to swarm"
   ]
  },
  {
   "cell_type": "code",
   "execution_count": 7,
   "id": "93f2e6b6-4b1c-446c-a686-507d9a74e952",
   "metadata": {},
   "outputs": [
    {
     "name": "stderr",
     "output_type": "stream",
     "text": [
      "Simulation en cours:   0%|                                                                     | 0/100 [00:00<?, ?it/s]"
     ]
    },
    {
     "name": "stdout",
     "output_type": "stream",
     "text": [
      "\n",
      "--- Temps t = 0 ---\n",
      "  > Métriques avant division calculées.\n",
      "  > Métriques après division calculées.\n"
     ]
    },
    {
     "name": "stderr",
     "output_type": "stream",
     "text": [
      "Simulation en cours:   1%|▌                                                            | 1/100 [00:05<09:52,  5.98s/it]"
     ]
    },
    {
     "name": "stdout",
     "output_type": "stream",
     "text": [
      "  > Métriques après attaque calculées.\n",
      "\n",
      "--- Temps t = 1 ---\n",
      "  > Métriques avant division calculées.\n",
      "  > Métriques après division calculées.\n"
     ]
    },
    {
     "name": "stderr",
     "output_type": "stream",
     "text": [
      "Simulation en cours:   2%|█▏                                                           | 2/100 [00:11<09:45,  5.98s/it]"
     ]
    },
    {
     "name": "stdout",
     "output_type": "stream",
     "text": [
      "  > Métriques après attaque calculées.\n",
      "\n",
      "--- Temps t = 2 ---\n",
      "  > Métriques avant division calculées.\n",
      "  > Métriques après division calculées.\n"
     ]
    },
    {
     "name": "stderr",
     "output_type": "stream",
     "text": [
      "Simulation en cours:   3%|█▊                                                           | 3/100 [00:17<09:41,  6.00s/it]"
     ]
    },
    {
     "name": "stdout",
     "output_type": "stream",
     "text": [
      "  > Métriques après attaque calculées.\n",
      "\n",
      "--- Temps t = 3 ---\n",
      "  > Métriques avant division calculées.\n",
      "  > Métriques après division calculées.\n"
     ]
    },
    {
     "name": "stderr",
     "output_type": "stream",
     "text": [
      "Simulation en cours:   4%|██▍                                                          | 4/100 [00:23<09:31,  5.95s/it]"
     ]
    },
    {
     "name": "stdout",
     "output_type": "stream",
     "text": [
      "  > Métriques après attaque calculées.\n",
      "\n",
      "--- Temps t = 4 ---\n",
      "  > Métriques avant division calculées.\n",
      "  > Métriques après division calculées.\n"
     ]
    },
    {
     "name": "stderr",
     "output_type": "stream",
     "text": [
      "Simulation en cours:   5%|███                                                          | 5/100 [00:29<09:20,  5.90s/it]"
     ]
    },
    {
     "name": "stdout",
     "output_type": "stream",
     "text": [
      "  > Métriques après attaque calculées.\n",
      "\n",
      "--- Temps t = 5 ---\n",
      "  > Métriques avant division calculées.\n",
      "  > Métriques après division calculées.\n"
     ]
    },
    {
     "name": "stderr",
     "output_type": "stream",
     "text": [
      "Simulation en cours:   6%|███▋                                                         | 6/100 [00:35<09:16,  5.91s/it]"
     ]
    },
    {
     "name": "stdout",
     "output_type": "stream",
     "text": [
      "  > Métriques après attaque calculées.\n",
      "\n",
      "--- Temps t = 6 ---\n",
      "  > Métriques avant division calculées.\n",
      "  > Métriques après division calculées.\n"
     ]
    },
    {
     "name": "stderr",
     "output_type": "stream",
     "text": [
      "Simulation en cours:   7%|████▎                                                        | 7/100 [00:41<09:08,  5.89s/it]"
     ]
    },
    {
     "name": "stdout",
     "output_type": "stream",
     "text": [
      "  > Métriques après attaque calculées.\n",
      "\n",
      "--- Temps t = 7 ---\n",
      "  > Métriques avant division calculées.\n",
      "  > Métriques après division calculées.\n"
     ]
    },
    {
     "name": "stderr",
     "output_type": "stream",
     "text": [
      "Simulation en cours:   8%|████▉                                                        | 8/100 [00:47<09:04,  5.92s/it]"
     ]
    },
    {
     "name": "stdout",
     "output_type": "stream",
     "text": [
      "  > Métriques après attaque calculées.\n",
      "\n",
      "--- Temps t = 8 ---\n",
      "  > Métriques avant division calculées.\n",
      "  > Métriques après division calculées.\n"
     ]
    },
    {
     "name": "stderr",
     "output_type": "stream",
     "text": [
      "Simulation en cours:   9%|█████▍                                                       | 9/100 [00:53<09:03,  5.97s/it]"
     ]
    },
    {
     "name": "stdout",
     "output_type": "stream",
     "text": [
      "  > Métriques après attaque calculées.\n",
      "\n",
      "--- Temps t = 9 ---\n",
      "  > Métriques avant division calculées.\n",
      "  > Métriques après division calculées.\n"
     ]
    },
    {
     "name": "stderr",
     "output_type": "stream",
     "text": [
      "Simulation en cours:  10%|██████                                                      | 10/100 [00:59<08:55,  5.95s/it]"
     ]
    },
    {
     "name": "stdout",
     "output_type": "stream",
     "text": [
      "  > Métriques après attaque calculées.\n",
      "\n",
      "--- Temps t = 10 ---\n",
      "  > Métriques avant division calculées.\n",
      "  > Métriques après division calculées.\n"
     ]
    },
    {
     "name": "stderr",
     "output_type": "stream",
     "text": [
      "Simulation en cours:  11%|██████▌                                                     | 11/100 [01:05<08:46,  5.91s/it]"
     ]
    },
    {
     "name": "stdout",
     "output_type": "stream",
     "text": [
      "  > Métriques après attaque calculées.\n",
      "\n",
      "--- Temps t = 11 ---\n",
      "  > Métriques avant division calculées.\n",
      "  > Métriques après division calculées.\n"
     ]
    },
    {
     "name": "stderr",
     "output_type": "stream",
     "text": [
      "Simulation en cours:  12%|███████▏                                                    | 12/100 [01:11<08:50,  6.03s/it]"
     ]
    },
    {
     "name": "stdout",
     "output_type": "stream",
     "text": [
      "  > Métriques après attaque calculées.\n",
      "\n",
      "--- Temps t = 12 ---\n",
      "  > Métriques avant division calculées.\n",
      "  > Métriques après division calculées.\n"
     ]
    },
    {
     "name": "stderr",
     "output_type": "stream",
     "text": [
      "Simulation en cours:  13%|███████▊                                                    | 13/100 [01:17<08:47,  6.07s/it]"
     ]
    },
    {
     "name": "stdout",
     "output_type": "stream",
     "text": [
      "  > Métriques après attaque calculées.\n",
      "\n",
      "--- Temps t = 13 ---\n",
      "  > Métriques avant division calculées.\n",
      "  > Métriques après division calculées.\n"
     ]
    },
    {
     "name": "stderr",
     "output_type": "stream",
     "text": [
      "Simulation en cours:  14%|████████▍                                                   | 14/100 [01:23<08:43,  6.09s/it]"
     ]
    },
    {
     "name": "stdout",
     "output_type": "stream",
     "text": [
      "  > Métriques après attaque calculées.\n",
      "\n",
      "--- Temps t = 14 ---\n",
      "  > Métriques avant division calculées.\n",
      "  > Métriques après division calculées.\n"
     ]
    },
    {
     "name": "stderr",
     "output_type": "stream",
     "text": [
      "Simulation en cours:  15%|█████████                                                   | 15/100 [01:29<08:32,  6.03s/it]"
     ]
    },
    {
     "name": "stdout",
     "output_type": "stream",
     "text": [
      "  > Métriques après attaque calculées.\n",
      "\n",
      "--- Temps t = 15 ---\n",
      "  > Métriques avant division calculées.\n",
      "  > Métriques après division calculées.\n"
     ]
    },
    {
     "name": "stderr",
     "output_type": "stream",
     "text": [
      "Simulation en cours:  16%|█████████▌                                                  | 16/100 [01:35<08:20,  5.96s/it]"
     ]
    },
    {
     "name": "stdout",
     "output_type": "stream",
     "text": [
      "  > Métriques après attaque calculées.\n",
      "\n",
      "--- Temps t = 16 ---\n",
      "  > Métriques avant division calculées.\n",
      "  > Métriques après division calculées.\n"
     ]
    },
    {
     "name": "stderr",
     "output_type": "stream",
     "text": [
      "Simulation en cours:  17%|██████████▏                                                 | 17/100 [01:41<08:10,  5.91s/it]"
     ]
    },
    {
     "name": "stdout",
     "output_type": "stream",
     "text": [
      "  > Métriques après attaque calculées.\n",
      "\n",
      "--- Temps t = 17 ---\n",
      "  > Métriques avant division calculées.\n",
      "  > Métriques après division calculées.\n"
     ]
    },
    {
     "name": "stderr",
     "output_type": "stream",
     "text": [
      "Simulation en cours:  18%|██████████▊                                                 | 18/100 [01:47<08:00,  5.86s/it]"
     ]
    },
    {
     "name": "stdout",
     "output_type": "stream",
     "text": [
      "  > Métriques après attaque calculées.\n",
      "\n",
      "--- Temps t = 18 ---\n",
      "  > Métriques avant division calculées.\n",
      "  > Métriques après division calculées.\n"
     ]
    },
    {
     "name": "stderr",
     "output_type": "stream",
     "text": [
      "Simulation en cours:  19%|███████████▍                                                | 19/100 [01:52<07:52,  5.83s/it]"
     ]
    },
    {
     "name": "stdout",
     "output_type": "stream",
     "text": [
      "  > Métriques après attaque calculées.\n",
      "\n",
      "--- Temps t = 19 ---\n",
      "  > Métriques avant division calculées.\n",
      "  > Métriques après division calculées.\n"
     ]
    },
    {
     "name": "stderr",
     "output_type": "stream",
     "text": [
      "Simulation en cours:  20%|████████████                                                | 20/100 [01:58<07:43,  5.80s/it]"
     ]
    },
    {
     "name": "stdout",
     "output_type": "stream",
     "text": [
      "  > Métriques après attaque calculées.\n",
      "\n",
      "--- Temps t = 20 ---\n",
      "  > Métriques avant division calculées.\n",
      "  > Métriques après division calculées.\n"
     ]
    },
    {
     "name": "stderr",
     "output_type": "stream",
     "text": [
      "Simulation en cours:  21%|████████████▌                                               | 21/100 [02:04<07:36,  5.78s/it]"
     ]
    },
    {
     "name": "stdout",
     "output_type": "stream",
     "text": [
      "  > Métriques après attaque calculées.\n",
      "\n",
      "--- Temps t = 21 ---\n",
      "  > Métriques avant division calculées.\n",
      "  > Métriques après division calculées.\n"
     ]
    },
    {
     "name": "stderr",
     "output_type": "stream",
     "text": [
      "Simulation en cours:  22%|█████████████▏                                              | 22/100 [02:09<07:27,  5.74s/it]"
     ]
    },
    {
     "name": "stdout",
     "output_type": "stream",
     "text": [
      "  > Métriques après attaque calculées.\n",
      "\n",
      "--- Temps t = 22 ---\n",
      "  > Métriques avant division calculées.\n",
      "  > Métriques après division calculées.\n"
     ]
    },
    {
     "name": "stderr",
     "output_type": "stream",
     "text": [
      "Simulation en cours:  23%|█████████████▊                                              | 23/100 [02:15<07:18,  5.69s/it]"
     ]
    },
    {
     "name": "stdout",
     "output_type": "stream",
     "text": [
      "  > Métriques après attaque calculées.\n",
      "\n",
      "--- Temps t = 23 ---\n",
      "  > Métriques avant division calculées.\n",
      "  > Métriques après division calculées.\n"
     ]
    },
    {
     "name": "stderr",
     "output_type": "stream",
     "text": [
      "Simulation en cours:  24%|██████████████▍                                             | 24/100 [02:21<07:11,  5.67s/it]"
     ]
    },
    {
     "name": "stdout",
     "output_type": "stream",
     "text": [
      "  > Métriques après attaque calculées.\n",
      "\n",
      "--- Temps t = 24 ---\n",
      "  > Métriques avant division calculées.\n",
      "  > Métriques après division calculées.\n"
     ]
    },
    {
     "name": "stderr",
     "output_type": "stream",
     "text": [
      "Simulation en cours:  25%|███████████████                                             | 25/100 [02:26<07:04,  5.67s/it]"
     ]
    },
    {
     "name": "stdout",
     "output_type": "stream",
     "text": [
      "  > Métriques après attaque calculées.\n",
      "\n",
      "--- Temps t = 25 ---\n",
      "  > Métriques avant division calculées.\n",
      "  > Métriques après division calculées.\n"
     ]
    },
    {
     "name": "stderr",
     "output_type": "stream",
     "text": [
      "Simulation en cours:  26%|███████████████▌                                            | 26/100 [02:32<06:58,  5.65s/it]"
     ]
    },
    {
     "name": "stdout",
     "output_type": "stream",
     "text": [
      "  > Métriques après attaque calculées.\n",
      "\n",
      "--- Temps t = 26 ---\n",
      "  > Métriques avant division calculées.\n",
      "  > Métriques après division calculées.\n"
     ]
    },
    {
     "name": "stderr",
     "output_type": "stream",
     "text": [
      "Simulation en cours:  27%|████████████████▏                                           | 27/100 [02:38<06:51,  5.64s/it]"
     ]
    },
    {
     "name": "stdout",
     "output_type": "stream",
     "text": [
      "  > Métriques après attaque calculées.\n",
      "\n",
      "--- Temps t = 27 ---\n",
      "  > Métriques avant division calculées.\n",
      "  > Métriques après division calculées.\n"
     ]
    },
    {
     "name": "stderr",
     "output_type": "stream",
     "text": [
      "Simulation en cours:  28%|████████████████▊                                           | 28/100 [02:44<06:54,  5.76s/it]"
     ]
    },
    {
     "name": "stdout",
     "output_type": "stream",
     "text": [
      "  > Métriques après attaque calculées.\n",
      "\n",
      "--- Temps t = 28 ---\n",
      "  > Métriques avant division calculées.\n",
      "  > Métriques après division calculées.\n"
     ]
    },
    {
     "name": "stderr",
     "output_type": "stream",
     "text": [
      "Simulation en cours:  29%|█████████████████▍                                          | 29/100 [02:49<06:39,  5.63s/it]"
     ]
    },
    {
     "name": "stdout",
     "output_type": "stream",
     "text": [
      "  > Métriques après attaque calculées.\n",
      "\n",
      "--- Temps t = 29 ---\n"
     ]
    },
    {
     "name": "stderr",
     "output_type": "stream",
     "text": [
      "Simulation en cours:  30%|██████████████████                                          | 30/100 [02:51<05:26,  4.67s/it]"
     ]
    },
    {
     "name": "stdout",
     "output_type": "stream",
     "text": [
      "  > Métriques avant division calculées.\n",
      "  > Métriques après division calculées.\n",
      "  > Métriques après attaque calculées.\n",
      "\n",
      "--- Temps t = 30 ---\n"
     ]
    },
    {
     "name": "stderr",
     "output_type": "stream",
     "text": [
      "Simulation en cours:  31%|██████████████████▌                                         | 31/100 [02:54<04:38,  4.04s/it]"
     ]
    },
    {
     "name": "stdout",
     "output_type": "stream",
     "text": [
      "  > Métriques avant division calculées.\n",
      "  > Métriques après division calculées.\n",
      "  > Métriques après attaque calculées.\n",
      "\n",
      "--- Temps t = 31 ---\n"
     ]
    },
    {
     "name": "stderr",
     "output_type": "stream",
     "text": [
      "Simulation en cours:  32%|███████████████████▏                                        | 32/100 [02:56<04:03,  3.58s/it]"
     ]
    },
    {
     "name": "stdout",
     "output_type": "stream",
     "text": [
      "  > Métriques avant division calculées.\n",
      "  > Métriques après division calculées.\n",
      "  > Métriques après attaque calculées.\n",
      "\n",
      "--- Temps t = 32 ---\n"
     ]
    },
    {
     "name": "stderr",
     "output_type": "stream",
     "text": [
      "Simulation en cours:  33%|███████████████████▊                                        | 33/100 [02:59<03:34,  3.19s/it]"
     ]
    },
    {
     "name": "stdout",
     "output_type": "stream",
     "text": [
      "  > Métriques avant division calculées.\n",
      "  > Métriques après division calculées.\n",
      "  > Métriques après attaque calculées.\n",
      "\n",
      "--- Temps t = 33 ---\n"
     ]
    },
    {
     "name": "stderr",
     "output_type": "stream",
     "text": [
      "Simulation en cours:  34%|████████████████████▍                                       | 34/100 [03:01<03:15,  2.97s/it]"
     ]
    },
    {
     "name": "stdout",
     "output_type": "stream",
     "text": [
      "  > Métriques avant division calculées.\n",
      "  > Métriques après division calculées.\n",
      "  > Métriques après attaque calculées.\n",
      "\n",
      "--- Temps t = 34 ---\n"
     ]
    },
    {
     "name": "stderr",
     "output_type": "stream",
     "text": [
      "Simulation en cours:  35%|█████████████████████                                       | 35/100 [03:03<03:00,  2.78s/it]"
     ]
    },
    {
     "name": "stdout",
     "output_type": "stream",
     "text": [
      "  > Métriques avant division calculées.\n",
      "  > Métriques après division calculées.\n",
      "  > Métriques après attaque calculées.\n",
      "\n",
      "--- Temps t = 35 ---\n",
      "  > Métriques avant division calculées.\n",
      "  > Métriques après division calculées.\n",
      "  > Métriques après attaque calculées.\n"
     ]
    },
    {
     "name": "stderr",
     "output_type": "stream",
     "text": [
      "Simulation en cours:  36%|█████████████████████▌                                      | 36/100 [03:06<02:49,  2.65s/it]"
     ]
    },
    {
     "name": "stdout",
     "output_type": "stream",
     "text": [
      "\n",
      "--- Temps t = 36 ---\n",
      "  > Métriques avant division calculées.\n",
      "  > Métriques après division calculées.\n",
      "  > Métriques après attaque calculées.\n"
     ]
    },
    {
     "name": "stderr",
     "output_type": "stream",
     "text": [
      "Simulation en cours:  37%|██████████████████████▏                                     | 37/100 [03:08<02:41,  2.56s/it]"
     ]
    },
    {
     "name": "stdout",
     "output_type": "stream",
     "text": [
      "\n",
      "--- Temps t = 37 ---\n"
     ]
    },
    {
     "name": "stderr",
     "output_type": "stream",
     "text": [
      "Simulation en cours:  38%|██████████████████████▊                                     | 38/100 [03:10<02:33,  2.48s/it]"
     ]
    },
    {
     "name": "stdout",
     "output_type": "stream",
     "text": [
      "  > Métriques avant division calculées.\n",
      "  > Métriques après division calculées.\n",
      "  > Métriques après attaque calculées.\n",
      "\n",
      "--- Temps t = 38 ---\n"
     ]
    },
    {
     "name": "stderr",
     "output_type": "stream",
     "text": [
      "Simulation en cours:  39%|███████████████████████▍                                    | 39/100 [03:13<02:28,  2.43s/it]"
     ]
    },
    {
     "name": "stdout",
     "output_type": "stream",
     "text": [
      "  > Métriques avant division calculées.\n",
      "  > Métriques après division calculées.\n",
      "  > Métriques après attaque calculées.\n",
      "\n",
      "--- Temps t = 39 ---\n"
     ]
    },
    {
     "name": "stderr",
     "output_type": "stream",
     "text": [
      "Simulation en cours:  40%|████████████████████████                                    | 40/100 [03:15<02:17,  2.28s/it]"
     ]
    },
    {
     "name": "stdout",
     "output_type": "stream",
     "text": [
      "  > Métriques avant division calculées.\n",
      "  > Métriques après division calculées.\n",
      "  > Métriques après attaque calculées.\n",
      "\n",
      "--- Temps t = 40 ---\n"
     ]
    },
    {
     "name": "stderr",
     "output_type": "stream",
     "text": [
      "Simulation en cours:  41%|████████████████████████▌                                   | 41/100 [03:17<02:07,  2.15s/it]"
     ]
    },
    {
     "name": "stdout",
     "output_type": "stream",
     "text": [
      "  > Métriques avant division calculées.\n",
      "  > Métriques après division calculées.\n",
      "  > Métriques après attaque calculées.\n",
      "\n",
      "--- Temps t = 41 ---\n"
     ]
    },
    {
     "name": "stderr",
     "output_type": "stream",
     "text": [
      "Simulation en cours:  42%|█████████████████████████▏                                  | 42/100 [03:18<02:00,  2.08s/it]"
     ]
    },
    {
     "name": "stdout",
     "output_type": "stream",
     "text": [
      "  > Métriques avant division calculées.\n",
      "  > Métriques après division calculées.\n",
      "  > Métriques après attaque calculées.\n",
      "\n",
      "--- Temps t = 42 ---\n"
     ]
    },
    {
     "name": "stderr",
     "output_type": "stream",
     "text": [
      "Simulation en cours:  43%|█████████████████████████▊                                  | 43/100 [03:20<01:57,  2.06s/it]"
     ]
    },
    {
     "name": "stdout",
     "output_type": "stream",
     "text": [
      "  > Métriques avant division calculées.\n",
      "  > Métriques après division calculées.\n",
      "  > Métriques après attaque calculées.\n",
      "\n",
      "--- Temps t = 43 ---\n",
      "  > Métriques avant division calculées.\n",
      "  > Métriques après division calculées.\n",
      "  > Métriques après attaque calculées.\n"
     ]
    },
    {
     "name": "stderr",
     "output_type": "stream",
     "text": [
      "Simulation en cours:  44%|██████████████████████████▍                                 | 44/100 [03:23<01:55,  2.06s/it]"
     ]
    },
    {
     "name": "stdout",
     "output_type": "stream",
     "text": [
      "\n",
      "--- Temps t = 44 ---\n"
     ]
    },
    {
     "name": "stderr",
     "output_type": "stream",
     "text": [
      "Simulation en cours:  45%|███████████████████████████                                 | 45/100 [03:24<01:51,  2.02s/it]"
     ]
    },
    {
     "name": "stdout",
     "output_type": "stream",
     "text": [
      "  > Métriques avant division calculées.\n",
      "  > Métriques après division calculées.\n",
      "  > Métriques après attaque calculées.\n",
      "\n",
      "--- Temps t = 45 ---\n"
     ]
    },
    {
     "name": "stderr",
     "output_type": "stream",
     "text": [
      "Simulation en cours:  46%|███████████████████████████▌                                | 46/100 [03:26<01:48,  2.00s/it]"
     ]
    },
    {
     "name": "stdout",
     "output_type": "stream",
     "text": [
      "  > Métriques avant division calculées.\n",
      "  > Métriques après division calculées.\n",
      "  > Métriques après attaque calculées.\n",
      "\n",
      "--- Temps t = 46 ---\n"
     ]
    },
    {
     "name": "stderr",
     "output_type": "stream",
     "text": [
      "Simulation en cours:  47%|████████████████████████████▏                               | 47/100 [03:28<01:45,  1.99s/it]"
     ]
    },
    {
     "name": "stdout",
     "output_type": "stream",
     "text": [
      "  > Métriques avant division calculées.\n",
      "  > Métriques après division calculées.\n",
      "  > Métriques après attaque calculées.\n",
      "\n",
      "--- Temps t = 47 ---\n"
     ]
    },
    {
     "name": "stderr",
     "output_type": "stream",
     "text": [
      "Simulation en cours:  48%|████████████████████████████▊                               | 48/100 [03:30<01:43,  1.99s/it]"
     ]
    },
    {
     "name": "stdout",
     "output_type": "stream",
     "text": [
      "  > Métriques avant division calculées.\n",
      "  > Métriques après division calculées.\n",
      "  > Métriques après attaque calculées.\n",
      "\n",
      "--- Temps t = 48 ---\n"
     ]
    },
    {
     "name": "stderr",
     "output_type": "stream",
     "text": [
      "Simulation en cours:  49%|█████████████████████████████▍                              | 49/100 [03:32<01:41,  2.00s/it]"
     ]
    },
    {
     "name": "stdout",
     "output_type": "stream",
     "text": [
      "  > Métriques avant division calculées.\n",
      "  > Métriques après division calculées.\n",
      "  > Métriques après attaque calculées.\n",
      "\n",
      "--- Temps t = 49 ---\n"
     ]
    },
    {
     "name": "stderr",
     "output_type": "stream",
     "text": [
      "Simulation en cours:  50%|██████████████████████████████                              | 50/100 [03:34<01:39,  1.99s/it]"
     ]
    },
    {
     "name": "stdout",
     "output_type": "stream",
     "text": [
      "  > Métriques avant division calculées.\n",
      "  > Métriques après division calculées.\n",
      "  > Métriques après attaque calculées.\n",
      "\n",
      "--- Temps t = 50 ---\n"
     ]
    },
    {
     "name": "stderr",
     "output_type": "stream",
     "text": [
      "Simulation en cours:  51%|██████████████████████████████▌                             | 51/100 [03:36<01:31,  1.88s/it]"
     ]
    },
    {
     "name": "stdout",
     "output_type": "stream",
     "text": [
      "  > Métriques avant division calculées.\n",
      "  > Métriques après division calculées.\n",
      "  > Métriques après attaque calculées.\n",
      "\n",
      "--- Temps t = 51 ---\n"
     ]
    },
    {
     "name": "stderr",
     "output_type": "stream",
     "text": [
      "Simulation en cours:  52%|███████████████████████████████▏                            | 52/100 [03:37<01:13,  1.53s/it]"
     ]
    },
    {
     "name": "stdout",
     "output_type": "stream",
     "text": [
      "  > Métriques avant division calculées.\n",
      "  > Métriques après division calculées.\n",
      "  > Métriques après attaque calculées.\n",
      "\n",
      "--- Temps t = 52 ---\n"
     ]
    },
    {
     "name": "stderr",
     "output_type": "stream",
     "text": [
      "Simulation en cours:  53%|███████████████████████████████▊                            | 53/100 [03:37<00:59,  1.27s/it]"
     ]
    },
    {
     "name": "stdout",
     "output_type": "stream",
     "text": [
      "  > Métriques avant division calculées.\n",
      "  > Métriques après division calculées.\n",
      "  > Métriques après attaque calculées.\n",
      "\n",
      "--- Temps t = 53 ---\n"
     ]
    },
    {
     "name": "stderr",
     "output_type": "stream",
     "text": [
      "Simulation en cours:  54%|████████████████████████████████▍                           | 54/100 [03:38<00:50,  1.11s/it]"
     ]
    },
    {
     "name": "stdout",
     "output_type": "stream",
     "text": [
      "  > Métriques avant division calculées.\n",
      "  > Métriques après division calculées.\n",
      "  > Métriques après attaque calculées.\n",
      "\n",
      "--- Temps t = 54 ---\n"
     ]
    },
    {
     "name": "stderr",
     "output_type": "stream",
     "text": [
      "Simulation en cours:  55%|█████████████████████████████████                           | 55/100 [03:39<00:44,  1.01it/s]"
     ]
    },
    {
     "name": "stdout",
     "output_type": "stream",
     "text": [
      "  > Métriques avant division calculées.\n",
      "  > Métriques après division calculées.\n",
      "  > Métriques après attaque calculées.\n",
      "\n",
      "--- Temps t = 55 ---\n"
     ]
    },
    {
     "name": "stderr",
     "output_type": "stream",
     "text": [
      "Simulation en cours:  56%|█████████████████████████████████▌                          | 56/100 [03:39<00:39,  1.11it/s]"
     ]
    },
    {
     "name": "stdout",
     "output_type": "stream",
     "text": [
      "  > Métriques avant division calculées.\n",
      "  > Métriques après division calculées.\n",
      "  > Métriques après attaque calculées.\n",
      "\n",
      "--- Temps t = 56 ---\n"
     ]
    },
    {
     "name": "stderr",
     "output_type": "stream",
     "text": [
      "Simulation en cours:  57%|██████████████████████████████████▏                         | 57/100 [03:40<00:36,  1.19it/s]"
     ]
    },
    {
     "name": "stdout",
     "output_type": "stream",
     "text": [
      "  > Métriques avant division calculées.\n",
      "  > Métriques après division calculées.\n",
      "  > Métriques après attaque calculées.\n",
      "\n",
      "--- Temps t = 57 ---\n"
     ]
    },
    {
     "name": "stderr",
     "output_type": "stream",
     "text": [
      "Simulation en cours:  58%|██████████████████████████████████▊                         | 58/100 [03:41<00:34,  1.23it/s]"
     ]
    },
    {
     "name": "stdout",
     "output_type": "stream",
     "text": [
      "  > Métriques avant division calculées.\n",
      "  > Métriques après division calculées.\n",
      "  > Métriques après attaque calculées.\n",
      "\n",
      "--- Temps t = 58 ---\n"
     ]
    },
    {
     "name": "stderr",
     "output_type": "stream",
     "text": [
      "Simulation en cours:  59%|███████████████████████████████████▍                        | 59/100 [03:42<00:32,  1.28it/s]"
     ]
    },
    {
     "name": "stdout",
     "output_type": "stream",
     "text": [
      "  > Métriques avant division calculées.\n",
      "  > Métriques après division calculées.\n",
      "  > Métriques après attaque calculées.\n",
      "\n",
      "--- Temps t = 59 ---\n"
     ]
    },
    {
     "name": "stderr",
     "output_type": "stream",
     "text": [
      "Simulation en cours:  60%|████████████████████████████████████                        | 60/100 [03:42<00:31,  1.29it/s]"
     ]
    },
    {
     "name": "stdout",
     "output_type": "stream",
     "text": [
      "  > Métriques avant division calculées.\n",
      "  > Métriques après division calculées.\n",
      "  > Métriques après attaque calculées.\n",
      "\n",
      "--- Temps t = 60 ---\n"
     ]
    },
    {
     "name": "stderr",
     "output_type": "stream",
     "text": [
      "Simulation en cours:  61%|████████████████████████████████████▌                       | 61/100 [03:43<00:29,  1.32it/s]"
     ]
    },
    {
     "name": "stdout",
     "output_type": "stream",
     "text": [
      "  > Métriques avant division calculées.\n",
      "  > Métriques après division calculées.\n",
      "  > Métriques après attaque calculées.\n",
      "\n",
      "--- Temps t = 61 ---\n"
     ]
    },
    {
     "name": "stderr",
     "output_type": "stream",
     "text": [
      "Simulation en cours:  62%|█████████████████████████████████████▏                      | 62/100 [03:44<00:28,  1.32it/s]"
     ]
    },
    {
     "name": "stdout",
     "output_type": "stream",
     "text": [
      "  > Métriques avant division calculées.\n",
      "  > Métriques après division calculées.\n",
      "  > Métriques après attaque calculées.\n",
      "\n",
      "--- Temps t = 62 ---\n"
     ]
    },
    {
     "name": "stderr",
     "output_type": "stream",
     "text": [
      "Simulation en cours:  63%|█████████████████████████████████████▊                      | 63/100 [03:45<00:27,  1.35it/s]"
     ]
    },
    {
     "name": "stdout",
     "output_type": "stream",
     "text": [
      "  > Métriques avant division calculées.\n",
      "  > Métriques après division calculées.\n",
      "  > Métriques après attaque calculées.\n",
      "\n",
      "--- Temps t = 63 ---\n"
     ]
    },
    {
     "name": "stderr",
     "output_type": "stream",
     "text": [
      "Simulation en cours:  64%|██████████████████████████████████████▍                     | 64/100 [03:45<00:26,  1.36it/s]"
     ]
    },
    {
     "name": "stdout",
     "output_type": "stream",
     "text": [
      "  > Métriques avant division calculées.\n",
      "  > Métriques après division calculées.\n",
      "  > Métriques après attaque calculées.\n",
      "\n",
      "--- Temps t = 64 ---\n"
     ]
    },
    {
     "name": "stderr",
     "output_type": "stream",
     "text": [
      "Simulation en cours:  65%|███████████████████████████████████████                     | 65/100 [03:46<00:25,  1.39it/s]"
     ]
    },
    {
     "name": "stdout",
     "output_type": "stream",
     "text": [
      "  > Métriques avant division calculées.\n",
      "  > Métriques après division calculées.\n",
      "  > Métriques après attaque calculées.\n",
      "\n",
      "--- Temps t = 65 ---\n"
     ]
    },
    {
     "name": "stderr",
     "output_type": "stream",
     "text": [
      "Simulation en cours:  66%|███████████████████████████████████████▌                    | 66/100 [03:47<00:24,  1.39it/s]"
     ]
    },
    {
     "name": "stdout",
     "output_type": "stream",
     "text": [
      "  > Métriques avant division calculées.\n",
      "  > Métriques après division calculées.\n",
      "  > Métriques après attaque calculées.\n",
      "\n",
      "--- Temps t = 66 ---\n"
     ]
    },
    {
     "name": "stderr",
     "output_type": "stream",
     "text": [
      "Simulation en cours:  67%|████████████████████████████████████████▏                   | 67/100 [03:47<00:23,  1.40it/s]"
     ]
    },
    {
     "name": "stdout",
     "output_type": "stream",
     "text": [
      "  > Métriques avant division calculées.\n",
      "  > Métriques après division calculées.\n",
      "  > Métriques après attaque calculées.\n",
      "\n",
      "--- Temps t = 67 ---\n"
     ]
    },
    {
     "name": "stderr",
     "output_type": "stream",
     "text": [
      "Simulation en cours:  68%|████████████████████████████████████████▊                   | 68/100 [03:48<00:22,  1.40it/s]"
     ]
    },
    {
     "name": "stdout",
     "output_type": "stream",
     "text": [
      "  > Métriques avant division calculées.\n",
      "  > Métriques après division calculées.\n",
      "  > Métriques après attaque calculées.\n",
      "\n",
      "--- Temps t = 68 ---\n"
     ]
    },
    {
     "name": "stderr",
     "output_type": "stream",
     "text": [
      "Simulation en cours:  69%|█████████████████████████████████████████▍                  | 69/100 [03:49<00:21,  1.41it/s]"
     ]
    },
    {
     "name": "stdout",
     "output_type": "stream",
     "text": [
      "  > Métriques avant division calculées.\n",
      "  > Métriques après division calculées.\n",
      "  > Métriques après attaque calculées.\n",
      "\n",
      "--- Temps t = 69 ---\n"
     ]
    },
    {
     "name": "stderr",
     "output_type": "stream",
     "text": [
      "Simulation en cours:  70%|██████████████████████████████████████████                  | 70/100 [03:50<00:21,  1.40it/s]"
     ]
    },
    {
     "name": "stdout",
     "output_type": "stream",
     "text": [
      "  > Métriques avant division calculées.\n",
      "  > Métriques après division calculées.\n",
      "  > Métriques après attaque calculées.\n",
      "\n",
      "--- Temps t = 70 ---\n"
     ]
    },
    {
     "name": "stderr",
     "output_type": "stream",
     "text": [
      "Simulation en cours:  71%|██████████████████████████████████████████▌                 | 71/100 [03:50<00:20,  1.38it/s]"
     ]
    },
    {
     "name": "stdout",
     "output_type": "stream",
     "text": [
      "  > Métriques avant division calculées.\n",
      "  > Métriques après division calculées.\n",
      "  > Métriques après attaque calculées.\n",
      "\n",
      "--- Temps t = 71 ---\n"
     ]
    },
    {
     "name": "stderr",
     "output_type": "stream",
     "text": [
      "Simulation en cours:  72%|███████████████████████████████████████████▏                | 72/100 [03:51<00:20,  1.38it/s]"
     ]
    },
    {
     "name": "stdout",
     "output_type": "stream",
     "text": [
      "  > Métriques avant division calculées.\n",
      "  > Métriques après division calculées.\n",
      "  > Métriques après attaque calculées.\n",
      "\n",
      "--- Temps t = 72 ---\n"
     ]
    },
    {
     "name": "stderr",
     "output_type": "stream",
     "text": [
      "Simulation en cours:  73%|███████████████████████████████████████████▊                | 73/100 [03:52<00:19,  1.37it/s]"
     ]
    },
    {
     "name": "stdout",
     "output_type": "stream",
     "text": [
      "  > Métriques avant division calculées.\n",
      "  > Métriques après division calculées.\n",
      "  > Métriques après attaque calculées.\n",
      "\n",
      "--- Temps t = 73 ---\n"
     ]
    },
    {
     "name": "stderr",
     "output_type": "stream",
     "text": [
      "Simulation en cours:  74%|████████████████████████████████████████████▍               | 74/100 [03:52<00:18,  1.37it/s]"
     ]
    },
    {
     "name": "stdout",
     "output_type": "stream",
     "text": [
      "  > Métriques avant division calculées.\n",
      "  > Métriques après division calculées.\n",
      "  > Métriques après attaque calculées.\n",
      "\n",
      "--- Temps t = 74 ---\n"
     ]
    },
    {
     "name": "stderr",
     "output_type": "stream",
     "text": [
      "Simulation en cours:  75%|█████████████████████████████████████████████               | 75/100 [03:53<00:18,  1.37it/s]"
     ]
    },
    {
     "name": "stdout",
     "output_type": "stream",
     "text": [
      "  > Métriques avant division calculées.\n",
      "  > Métriques après division calculées.\n",
      "  > Métriques après attaque calculées.\n",
      "\n",
      "--- Temps t = 75 ---\n"
     ]
    },
    {
     "name": "stderr",
     "output_type": "stream",
     "text": [
      "Simulation en cours:  76%|█████████████████████████████████████████████▌              | 76/100 [03:54<00:17,  1.39it/s]"
     ]
    },
    {
     "name": "stdout",
     "output_type": "stream",
     "text": [
      "  > Métriques avant division calculées.\n",
      "  > Métriques après division calculées.\n",
      "  > Métriques après attaque calculées.\n",
      "\n",
      "--- Temps t = 76 ---\n"
     ]
    },
    {
     "name": "stderr",
     "output_type": "stream",
     "text": [
      "Simulation en cours:  77%|██████████████████████████████████████████████▏             | 77/100 [03:55<00:16,  1.38it/s]"
     ]
    },
    {
     "name": "stdout",
     "output_type": "stream",
     "text": [
      "  > Métriques avant division calculées.\n",
      "  > Métriques après division calculées.\n",
      "  > Métriques après attaque calculées.\n",
      "\n",
      "--- Temps t = 77 ---\n"
     ]
    },
    {
     "name": "stderr",
     "output_type": "stream",
     "text": [
      "Simulation en cours:  78%|██████████████████████████████████████████████▊             | 78/100 [03:55<00:15,  1.38it/s]"
     ]
    },
    {
     "name": "stdout",
     "output_type": "stream",
     "text": [
      "  > Métriques avant division calculées.\n",
      "  > Métriques après division calculées.\n",
      "  > Métriques après attaque calculées.\n",
      "\n",
      "--- Temps t = 78 ---\n"
     ]
    },
    {
     "name": "stderr",
     "output_type": "stream",
     "text": [
      "Simulation en cours:  79%|███████████████████████████████████████████████▍            | 79/100 [03:56<00:15,  1.37it/s]"
     ]
    },
    {
     "name": "stdout",
     "output_type": "stream",
     "text": [
      "  > Métriques avant division calculées.\n",
      "  > Métriques après division calculées.\n",
      "  > Métriques après attaque calculées.\n",
      "\n",
      "--- Temps t = 79 ---\n"
     ]
    },
    {
     "name": "stderr",
     "output_type": "stream",
     "text": [
      "Simulation en cours:  80%|████████████████████████████████████████████████            | 80/100 [03:57<00:14,  1.34it/s]"
     ]
    },
    {
     "name": "stdout",
     "output_type": "stream",
     "text": [
      "  > Métriques avant division calculées.\n",
      "  > Métriques après division calculées.\n",
      "  > Métriques après attaque calculées.\n",
      "\n",
      "--- Temps t = 80 ---\n"
     ]
    },
    {
     "name": "stderr",
     "output_type": "stream",
     "text": [
      "Simulation en cours:  81%|████████████████████████████████████████████████▌           | 81/100 [03:58<00:14,  1.34it/s]"
     ]
    },
    {
     "name": "stdout",
     "output_type": "stream",
     "text": [
      "  > Métriques avant division calculées.\n",
      "  > Métriques après division calculées.\n",
      "  > Métriques après attaque calculées.\n",
      "\n",
      "--- Temps t = 81 ---\n"
     ]
    },
    {
     "name": "stderr",
     "output_type": "stream",
     "text": [
      "Simulation en cours:  82%|█████████████████████████████████████████████████▏          | 82/100 [03:58<00:13,  1.34it/s]"
     ]
    },
    {
     "name": "stdout",
     "output_type": "stream",
     "text": [
      "  > Métriques avant division calculées.\n",
      "  > Métriques après division calculées.\n",
      "  > Métriques après attaque calculées.\n",
      "\n",
      "--- Temps t = 82 ---\n"
     ]
    },
    {
     "name": "stderr",
     "output_type": "stream",
     "text": [
      "Simulation en cours:  83%|█████████████████████████████████████████████████▊          | 83/100 [03:59<00:12,  1.35it/s]"
     ]
    },
    {
     "name": "stdout",
     "output_type": "stream",
     "text": [
      "  > Métriques avant division calculées.\n",
      "  > Métriques après division calculées.\n",
      "  > Métriques après attaque calculées.\n",
      "\n",
      "--- Temps t = 83 ---\n"
     ]
    },
    {
     "name": "stderr",
     "output_type": "stream",
     "text": [
      "Simulation en cours:  84%|██████████████████████████████████████████████████▍         | 84/100 [04:00<00:11,  1.33it/s]"
     ]
    },
    {
     "name": "stdout",
     "output_type": "stream",
     "text": [
      "  > Métriques avant division calculées.\n",
      "  > Métriques après division calculées.\n",
      "  > Métriques après attaque calculées.\n",
      "\n",
      "--- Temps t = 84 ---\n",
      "  > Métriques avant division calculées.\n",
      "  > Métriques après division calculées.\n"
     ]
    },
    {
     "name": "stderr",
     "output_type": "stream",
     "text": [
      "Simulation en cours:  85%|███████████████████████████████████████████████████         | 85/100 [04:05<00:32,  2.17s/it]"
     ]
    },
    {
     "name": "stdout",
     "output_type": "stream",
     "text": [
      "  > Métriques après attaque calculées.\n",
      "\n",
      "--- Temps t = 85 ---\n",
      "  > Métriques avant division calculées.\n",
      "  > Métriques après division calculées.\n"
     ]
    },
    {
     "name": "stderr",
     "output_type": "stream",
     "text": [
      "Simulation en cours:  86%|███████████████████████████████████████████████████▌        | 86/100 [04:11<00:44,  3.20s/it]"
     ]
    },
    {
     "name": "stdout",
     "output_type": "stream",
     "text": [
      "  > Métriques après attaque calculées.\n",
      "\n",
      "--- Temps t = 86 ---\n",
      "  > Métriques avant division calculées.\n",
      "  > Métriques après division calculées.\n"
     ]
    },
    {
     "name": "stderr",
     "output_type": "stream",
     "text": [
      "Simulation en cours:  87%|████████████████████████████████████████████████████▏       | 87/100 [04:17<00:53,  4.08s/it]"
     ]
    },
    {
     "name": "stdout",
     "output_type": "stream",
     "text": [
      "  > Métriques après attaque calculées.\n",
      "\n",
      "--- Temps t = 87 ---\n",
      "  > Métriques avant division calculées.\n",
      "  > Métriques après division calculées.\n"
     ]
    },
    {
     "name": "stderr",
     "output_type": "stream",
     "text": [
      "Simulation en cours:  88%|████████████████████████████████████████████████████▊       | 88/100 [04:23<00:56,  4.68s/it]"
     ]
    },
    {
     "name": "stdout",
     "output_type": "stream",
     "text": [
      "  > Métriques après attaque calculées.\n",
      "\n",
      "--- Temps t = 88 ---\n",
      "  > Métriques avant division calculées.\n",
      "  > Métriques après division calculées.\n"
     ]
    },
    {
     "name": "stderr",
     "output_type": "stream",
     "text": [
      "Simulation en cours:  89%|█████████████████████████████████████████████████████▍      | 89/100 [04:29<00:56,  5.10s/it]"
     ]
    },
    {
     "name": "stdout",
     "output_type": "stream",
     "text": [
      "  > Métriques après attaque calculées.\n",
      "\n",
      "--- Temps t = 89 ---\n",
      "  > Métriques avant division calculées.\n",
      "  > Métriques après division calculées.\n"
     ]
    },
    {
     "name": "stderr",
     "output_type": "stream",
     "text": [
      "Simulation en cours:  90%|██████████████████████████████████████████████████████      | 90/100 [04:35<00:53,  5.36s/it]"
     ]
    },
    {
     "name": "stdout",
     "output_type": "stream",
     "text": [
      "  > Métriques après attaque calculées.\n",
      "\n",
      "--- Temps t = 90 ---\n",
      "  > Métriques avant division calculées.\n",
      "  > Métriques après division calculées.\n"
     ]
    },
    {
     "name": "stderr",
     "output_type": "stream",
     "text": [
      "Simulation en cours:  91%|██████████████████████████████████████████████████████▌     | 91/100 [04:37<00:39,  4.38s/it]"
     ]
    },
    {
     "name": "stdout",
     "output_type": "stream",
     "text": [
      "  > Métriques après attaque calculées.\n",
      "\n",
      "--- Temps t = 91 ---\n",
      "  > Métriques avant division calculées.\n",
      "  > Métriques après division calculées.\n"
     ]
    },
    {
     "name": "stderr",
     "output_type": "stream",
     "text": [
      "Simulation en cours:  92%|███████████████████████████████████████████████████████▏    | 92/100 [04:39<00:29,  3.69s/it]"
     ]
    },
    {
     "name": "stdout",
     "output_type": "stream",
     "text": [
      "  > Métriques après attaque calculées.\n",
      "\n",
      "--- Temps t = 92 ---\n",
      "  > Métriques avant division calculées.\n",
      "  > Métriques après division calculées.\n"
     ]
    },
    {
     "name": "stderr",
     "output_type": "stream",
     "text": [
      "Simulation en cours:  93%|███████████████████████████████████████████████████████▊    | 93/100 [04:41<00:22,  3.21s/it]"
     ]
    },
    {
     "name": "stdout",
     "output_type": "stream",
     "text": [
      "  > Métriques après attaque calculées.\n",
      "\n",
      "--- Temps t = 93 ---\n",
      "  > Métriques avant division calculées.\n",
      "  > Métriques après division calculées.\n"
     ]
    },
    {
     "name": "stderr",
     "output_type": "stream",
     "text": [
      "Simulation en cours:  94%|████████████████████████████████████████████████████████▍   | 94/100 [04:44<00:17,  2.86s/it]"
     ]
    },
    {
     "name": "stdout",
     "output_type": "stream",
     "text": [
      "  > Métriques après attaque calculées.\n",
      "\n",
      "--- Temps t = 94 ---\n",
      "  > Métriques avant division calculées.\n",
      "  > Métriques après division calculées.\n"
     ]
    },
    {
     "name": "stderr",
     "output_type": "stream",
     "text": [
      "Simulation en cours:  95%|█████████████████████████████████████████████████████████   | 95/100 [04:46<00:13,  2.61s/it]"
     ]
    },
    {
     "name": "stdout",
     "output_type": "stream",
     "text": [
      "  > Métriques après attaque calculées.\n",
      "\n",
      "--- Temps t = 95 ---\n",
      "  > Métriques avant division calculées.\n",
      "  > Métriques après division calculées.\n"
     ]
    },
    {
     "name": "stderr",
     "output_type": "stream",
     "text": [
      "Simulation en cours:  96%|█████████████████████████████████████████████████████████▌  | 96/100 [04:48<00:09,  2.46s/it]"
     ]
    },
    {
     "name": "stdout",
     "output_type": "stream",
     "text": [
      "  > Métriques après attaque calculées.\n",
      "\n",
      "--- Temps t = 96 ---\n",
      "  > Métriques avant division calculées.\n",
      "  > Métriques après division calculées.\n"
     ]
    },
    {
     "name": "stderr",
     "output_type": "stream",
     "text": [
      "Simulation en cours:  97%|██████████████████████████████████████████████████████████▏ | 97/100 [04:50<00:07,  2.35s/it]"
     ]
    },
    {
     "name": "stdout",
     "output_type": "stream",
     "text": [
      "  > Métriques après attaque calculées.\n",
      "\n",
      "--- Temps t = 97 ---\n",
      "  > Métriques avant division calculées.\n",
      "  > Métriques après division calculées.\n"
     ]
    },
    {
     "name": "stderr",
     "output_type": "stream",
     "text": [
      "Simulation en cours:  98%|██████████████████████████████████████████████████████████▊ | 98/100 [04:52<00:04,  2.25s/it]"
     ]
    },
    {
     "name": "stdout",
     "output_type": "stream",
     "text": [
      "  > Métriques après attaque calculées.\n",
      "\n",
      "--- Temps t = 98 ---\n",
      "  > Métriques avant division calculées.\n",
      "  > Métriques après division calculées.\n"
     ]
    },
    {
     "name": "stderr",
     "output_type": "stream",
     "text": [
      "Simulation en cours:  99%|███████████████████████████████████████████████████████████▍| 99/100 [04:54<00:02,  2.20s/it]"
     ]
    },
    {
     "name": "stdout",
     "output_type": "stream",
     "text": [
      "  > Métriques après attaque calculées.\n",
      "\n",
      "--- Temps t = 99 ---\n",
      "  > Métriques avant division calculées.\n",
      "  > Métriques après division calculées.\n"
     ]
    },
    {
     "name": "stderr",
     "output_type": "stream",
     "text": [
      "Simulation en cours: 100%|███████████████████████████████████████████████████████████| 100/100 [04:56<00:00,  2.96s/it]"
     ]
    },
    {
     "name": "stdout",
     "output_type": "stream",
     "text": [
      "  > Métriques après attaque calculées.\n"
     ]
    },
    {
     "name": "stderr",
     "output_type": "stream",
     "text": [
      "\n"
     ]
    }
   ],
   "source": [
    "connection_range = 60000\n",
    "portee1 =20000\n",
    "portee2=40000\n",
    "portee3= 60000\n",
    "nanosat_count = 40\n",
    "max_temps = 100  # pour test rapide\n",
    "t_attack = 50 \n",
    "resultats=[]\n",
    "\n",
    "# Liste des satellites encore actifs\n",
    "satellites_actifs = set(range(1, nanosat_count + 1))\n",
    "\n",
    "for t in tqdm(range(max_temps), desc=\"Simulation en cours\"):\n",
    "    print(f\"\\n--- Temps t = {t} ---\")\n",
    "    coords = dft.iloc[t]\n",
    "    nodes = []\n",
    "    \n",
    "    # Créer les objets Node\n",
    "    for i in satellites_actifs:\n",
    "        x = coords[f'satx{i}']\n",
    "        y = coords[f'saty{i}']\n",
    "        z = coords[f'satz{i}']\n",
    "        nodes.append(Node(id=i, x=x, y=y, z=z))\n",
    "\n",
    "    swarm = Swarm(connection_range=connection_range, nodes=nodes)\n",
    "\n",
    "    # Créer un graphe pondéré\n",
    "    G = nx.Graph()\n",
    "    for node in nodes:\n",
    "        G.add_node(node.id)\n",
    "\n",
    "    # Ajouter les arêtes avec poids selon la distance\n",
    "    for i in range(len(nodes)):\n",
    "        for j in range(i + 1, len(nodes)):\n",
    "            dist = nodes[i].compute_dist(nodes[j])\n",
    "            if dist <= portee1:\n",
    "                weight = 1\n",
    "            elif dist <= portee2:\n",
    "                weight = 2\n",
    "            elif dist <= portee3:\n",
    "                weight = 3\n",
    "            else:\n",
    "                continue  \n",
    "            G.add_edge(nodes[i].id, nodes[j].id, weight=weight)\n",
    "        # ----- Étape 1 : Métriques de base (graphe non divisé) -----\n",
    "    metriques_avant = {\n",
    "        \"time\": t,\n",
    "        \"algo\": \"none\",\n",
    "        \"attack\": \"none\",\n",
    "        \"efficacite\":0, # network_efficiency(G),\n",
    "        \"cout\": 0, #routing_cost(G),\n",
    "        \"robustesse\": 0, #flow_robustness(G),\n",
    "        \"redondance\": path_redundancy(G),\n",
    "        \"disparite\": 0, #path_disparity(G)\n",
    "        \"criticite\": 0, #critical_nodes(G)\n",
    "    }\n",
    "    resultats.append(metriques_avant)\n",
    "    print(\"  > Métriques avant division calculées.\")\n",
    "    # ----- Étape 2 : Pour chaque algorithme de division -----\n",
    "   \n",
    "    groupes = swarm.RND(n=10)\n",
    "    algo = 'RND'\n",
    "    # Construire group_dict\n",
    "    group_dict = {}\n",
    "    for group_id, sub_swarm in groupes.items():\n",
    "        for n in sub_swarm.nodes:\n",
    "            group_dict[n.id] = group_id\n",
    "\n",
    "    # ----- Métriques post-division -----\n",
    "    metriques_div = {\n",
    "        \"time\": t,\n",
    "        \"algo\": algo,\n",
    "        \"attack\": \"none\",\n",
    "        \"efficacite\": network_efficiency(G, divided=True, group_dict=group_dict),\n",
    "        \"cout\": routing_cost(G, divided=True, group_dict=group_dict),\n",
    "        \"robustesse\": flow_robustness(G, divided=True, group_dict=group_dict),\n",
    "        \"redondance\": path_redundancy(G, divided=True, group_dict=group_dict),\n",
    "        \"disparite\": 0, #path_disparity(G, divided=True, group_dict=group_dict)\n",
    "         \"criticite\": critical_nodes(G, divided=True, group_dict=group_dict)\n",
    "    }\n",
    "    \n",
    "    resultats.append(metriques_div)\n",
    "    print(\"  > Métriques après division calculées.\")\n",
    "   \n",
    "    # ----- Étape 3 : Appliquer les attaques -----\n",
    "    attack_type = \"none\"\n",
    "    nb_noeuds_supprimes = 2\n",
    "    G_copy = G.copy()\n",
    "    \n",
    "    if t == t_attack:\n",
    "        attack_type = \"random\"\n",
    "        if attack_type == \"cible\":\n",
    "            BC = node_criticality(G_copy, divided=True, group_dict=group_dict)\n",
    "        if attack_type == \"random\":\n",
    "            nodes_to_remove = random.sample(list(G_copy.nodes), min(nb_noeuds_supprimes, len(G_copy)))\n",
    "        else:  # attaque ciblée\n",
    "            nodes_to_remove = sorted(BC, key=BC.get, reverse=True)[:nb_noeuds_supprimes]\n",
    "\n",
    "        G_copy.remove_nodes_from(nodes_to_remove)\n",
    "\n",
    "        # Retirer les satellites attaqués de la simulation\n",
    "        satellites_actifs.difference_update(nodes_to_remove)\n",
    "\n",
    "        # ----- Métriques post-attaque -----\n",
    "    metriques_attaque = {\n",
    "            \"time\": t,\n",
    "            \"algo\": algo,\n",
    "            \"attack\": attack_type,\n",
    "            \"efficacite\": network_efficiency(G_copy, divided=True, group_dict=group_dict),\n",
    "            \"cout\": routing_cost(G_copy, divided=True, group_dict=group_dict),\n",
    "            \"robustesse\": flow_robustness(G_copy, divided=True, group_dict=group_dict),\n",
    "            \"redondance\": path_redundancy(G_copy, divided=True, group_dict=group_dict),\n",
    "            \"disparite\": 0, #path_disparity(G_copy, divided=True, group_dict=group_dict)\n",
    "            \"criticite\": critical_nodes(G_copy, divided=True, group_dict=group_dict)\n",
    "        }\n",
    "    resultats.append(metriques_attaque)\n",
    "    print(\"  > Métriques après attaque calculées.\")\n",
    "\n",
    "\n"
   ]
  },
  {
   "cell_type": "code",
   "execution_count": 8,
   "id": "b86cc8b4-5c53-4c55-b7ef-e4892bb3c9d0",
   "metadata": {},
   "outputs": [
    {
     "name": "stdout",
     "output_type": "stream",
     "text": [
      "existe\n"
     ]
    }
   ],
   "source": [
    "# ========== Sauvegarde en CSV ==========\n",
    "df_res = pd.DataFrame(resultats)\n",
    "df_res.to_csv(\"resultats_swarm_simulation.csv\", index=False)\n",
    "import os \n",
    "fichier=\"resultats_swarm_simulation.csv\"\n",
    "if os.path.exists(fichier):\n",
    "    print(\"existe\")\n",
    "else:\n",
    "    print('existe pas')"
   ]
  },
  {
   "cell_type": "code",
   "execution_count": null,
   "id": "4795f206-f4cf-4672-b30a-ec7fac6125e9",
   "metadata": {},
   "outputs": [],
   "source": []
  },
  {
   "cell_type": "code",
   "execution_count": null,
   "id": "d07ab36f-d060-492d-9f19-6bbb965d06fd",
   "metadata": {},
   "outputs": [],
   "source": []
  }
 ],
 "metadata": {
  "kernelspec": {
   "display_name": "Python 3 (ipykernel)",
   "language": "python",
   "name": "python3"
  },
  "language_info": {
   "codemirror_mode": {
    "name": "ipython",
    "version": 3
   },
   "file_extension": ".py",
   "mimetype": "text/x-python",
   "name": "python",
   "nbconvert_exporter": "python",
   "pygments_lexer": "ipython3",
   "version": "3.12.0"
  }
 },
 "nbformat": 4,
 "nbformat_minor": 5
}
